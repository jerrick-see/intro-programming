{
 "cells": [
  {
   "cell_type": "markdown",
   "metadata": {},
   "source": [
    "# Challenge 1B.\n",
    "In Lesson 1, we covered significant downloads and lots of introductory programming concepts. Now, we're going to put forth the skills we learned."
   ]
  },
  {
   "cell_type": "markdown",
   "metadata": {},
   "source": [
    "# The 2016 Golden State Warriors\n",
    "\n",
    "<img src='https://i2.wp.com/ramblingeveron.com/wp-content/uploads/2016/03/warriors.jpg?w=650'>"
   ]
  },
  {
   "cell_type": "code",
   "execution_count": null,
   "metadata": {},
   "outputs": [],
   "source": [
    "# IMPORTING THE LIBRARY FOR DATAFRAMES\n",
    "import pandas as pd\n",
    "\n",
    "# DO NOT WORRY ABOUT THE FOLLOWING CODE FOR NOW\n",
    "gsw_2016 = pd.read_csv('../00-data/gsw-2016.csv')\n",
    "gsw_2016['Player'] = gsw_2016['Player'].str.replace('[A-z]{7}0[0-9]', '').str.replace('\\\\', '')"
   ]
  },
  {
   "cell_type": "markdown",
   "metadata": {},
   "source": [
    "We have a dataframe here called `gsw_2016` which we imported from a CSV file on our local drive. We are going to call the `.head()` method on it to show us the first 5 rows! Uncomment the following line and run it."
   ]
  },
  {
   "cell_type": "code",
   "execution_count": null,
   "metadata": {},
   "outputs": [],
   "source": [
    "# gsw_2016.head()"
   ]
  },
  {
   "cell_type": "markdown",
   "metadata": {},
   "source": [
    "We are going to call the `.tail()` method on it to show us the last 5 rows! Uncomment the following line and run it."
   ]
  },
  {
   "cell_type": "code",
   "execution_count": null,
   "metadata": {},
   "outputs": [],
   "source": [
    "# gsw_2016.tail()"
   ]
  },
  {
   "cell_type": "markdown",
   "metadata": {},
   "source": [
    "We can also find out what all the columns are by using `.columns`. Uncomment the following line and run it."
   ]
  },
  {
   "cell_type": "code",
   "execution_count": null,
   "metadata": {},
   "outputs": [],
   "source": [
    "# gsw_2016.columns"
   ]
  },
  {
   "cell_type": "markdown",
   "metadata": {},
   "source": [
    "And we can know how big our table is by using the `.shape` method. It requires no parentheses. Try it out on `gsw_2016`."
   ]
  },
  {
   "cell_type": "code",
   "execution_count": null,
   "metadata": {},
   "outputs": [],
   "source": [
    "# YOUR CODE HERE\n",
    "# TRY TO MAKE AND DELETE CHUNKS"
   ]
  },
  {
   "cell_type": "markdown",
   "metadata": {},
   "source": [
    "Now, this already looks like a cool spreadsheet type of thing. But before we get to working with all that... we need to solidify how to do math in Python. Start by importing `numpy as np`."
   ]
  },
  {
   "cell_type": "code",
   "execution_count": null,
   "metadata": {},
   "outputs": [],
   "source": [
    "# YOUR CODE HERE\n",
    "# TRY TO MAKE AND DELETE CHUNKS"
   ]
  },
  {
   "cell_type": "markdown",
   "metadata": {},
   "source": [
    "Let's focus on these two wonderful players for now."
   ]
  },
  {
   "cell_type": "code",
   "execution_count": null,
   "metadata": {},
   "outputs": [],
   "source": [
    "our_focus = gsw_2016[gsw_2016['Player'].isin(['Klay Thompson', 'Stephen Curry'])]\n",
    "our_focus"
   ]
  },
  {
   "cell_type": "markdown",
   "metadata": {},
   "source": [
    "Let's just look at their ages in the object `their_ages`."
   ]
  },
  {
   "cell_type": "code",
   "execution_count": null,
   "metadata": {},
   "outputs": [],
   "source": [
    "their_ages = our_focus['Age']\n",
    "their_ages"
   ]
  },
  {
   "cell_type": "markdown",
   "metadata": {},
   "source": [
    "Use indexing to calculate the average (mean) of `their_ages`."
   ]
  },
  {
   "cell_type": "code",
   "execution_count": null,
   "metadata": {},
   "outputs": [],
   "source": [
    "# YOUR CODE HERE\n",
    "# TRY TO MAKE AND DELETE CHUNKS"
   ]
  },
  {
   "cell_type": "markdown",
   "metadata": {},
   "source": [
    "Now use `sum` and `len` to get the average (mean)."
   ]
  },
  {
   "cell_type": "code",
   "execution_count": null,
   "metadata": {},
   "outputs": [],
   "source": [
    "# YOUR CODE HERE\n",
    "# TRY TO MAKE AND DELETE CHUNKS"
   ]
  },
  {
   "cell_type": "markdown",
   "metadata": {},
   "source": [
    "Finally, use the function `np.mean()` to get the mean."
   ]
  },
  {
   "cell_type": "code",
   "execution_count": null,
   "metadata": {},
   "outputs": [],
   "source": [
    "# YOUR CODE HERE\n",
    "# TRY TO MAKE AND DELETE CHUNKS"
   ]
  },
  {
   "cell_type": "markdown",
   "metadata": {},
   "source": [
    "Now clearly, getting their average could have been done simply by looking at the two numbers in your head. Let's go ahead and get the mean of the whole team's ages. Use `gsw_2016['Age']` and caculate the mean.\n",
    "\n",
    "First, use `sum()` and `len()`."
   ]
  },
  {
   "cell_type": "code",
   "execution_count": null,
   "metadata": {},
   "outputs": [],
   "source": [
    "# YOUR CODE HERE\n",
    "# TRY TO MAKE AND DELETE CHUNKS"
   ]
  },
  {
   "cell_type": "markdown",
   "metadata": {},
   "source": [
    "Now, use numpy."
   ]
  },
  {
   "cell_type": "code",
   "execution_count": null,
   "metadata": {},
   "outputs": [],
   "source": [
    "# YOUR CODE HERE\n",
    "# TRY TO MAKE AND DELETE CHUNKS"
   ]
  },
  {
   "cell_type": "markdown",
   "metadata": {},
   "source": [
    "A more advanced way to do this is use `.apply('mean')` on the column itself."
   ]
  },
  {
   "cell_type": "code",
   "execution_count": null,
   "metadata": {},
   "outputs": [],
   "source": [
    "# YOUR CODE HERE\n",
    "# TRY TO MAKE AND DELETE CHUNKS"
   ]
  },
  {
   "cell_type": "markdown",
   "metadata": {},
   "source": [
    "As you can see, there are many different ways to do the same thing in Python. You might ask when would be the right time to use which. This is intuition you will discover as you continue working with objects in Python.\n",
    "\n",
    "Let's do some background research on where these numbers came from. Visit <a href='https://www.basketball-reference.com/teams/GSW/2017.html'>basketball ref</a>. Scroll down to the table that says \"Totals\". This is the table that we are working with. Read through the associated *Glossary* next to the table. Your next task is to calculate the fraction of games that a player started in based on the number of games they played. That is, we want to calculate\n",
    "\n",
    "$$\n",
    "\\text{Fraction Started} = \\frac{\\text{Number of games started}}{\\text{Number of games played}}\n",
    "$$\n",
    "\n",
    "using Python functions."
   ]
  },
  {
   "cell_type": "markdown",
   "metadata": {},
   "source": [
    "Try dividing the associated columns by each other to calculate \"Fraction Started\"."
   ]
  },
  {
   "cell_type": "code",
   "execution_count": null,
   "metadata": {},
   "outputs": [],
   "source": [
    "# YOUR CODE HERE\n",
    "# TRY TO MAKE AND DELETE CHUNKS"
   ]
  },
  {
   "cell_type": "markdown",
   "metadata": {},
   "source": [
    "Assign this division to a new column in the dataframe. You can do this by assigning `gsw_2016['fraction_started']` to the division you wrote above. Then, call `.head()` on the dataframe to see a preview."
   ]
  },
  {
   "cell_type": "code",
   "execution_count": null,
   "metadata": {},
   "outputs": [],
   "source": [
    "# YOUR CODE HERE\n",
    "# TRY TO MAKE AND DELETE CHUNKS"
   ]
  },
  {
   "cell_type": "markdown",
   "metadata": {},
   "source": [
    "What is the minimum `fraction_started`? Use `min()` on the column to find out."
   ]
  },
  {
   "cell_type": "code",
   "execution_count": null,
   "metadata": {},
   "outputs": [],
   "source": [
    "# YOUR CODE HERE\n",
    "# TRY TO MAKE AND DELETE CHUNKS"
   ]
  },
  {
   "cell_type": "markdown",
   "metadata": {},
   "source": [
    "Which player had the minimum `fraction_started`? Use `np.where()` to get the row index of the players who had the smallest `fraction_started`. You need to put a logical statement within the `np.where()` statement to see *where* fraction_started is equal to the minimum. Once you have retrieved the row indices, save them to a variable `min_ix`. Finally, resave `min_ix=min_ix[0]`."
   ]
  },
  {
   "cell_type": "code",
   "execution_count": null,
   "metadata": {},
   "outputs": [],
   "source": [
    "# YOUR CODE HERE\n",
    "# TRY TO MAKE AND DELETE CHUNKS"
   ]
  },
  {
   "cell_type": "markdown",
   "metadata": {},
   "source": [
    " Once you have the indices, use it to index the `gsw_2016['Player']` column to show which players have the minimum fraction started."
   ]
  },
  {
   "cell_type": "code",
   "execution_count": null,
   "metadata": {},
   "outputs": [],
   "source": [
    "# YOUR CODE HERE\n",
    "# TRY TO MAKE AND DELETE CHUNKS"
   ]
  },
  {
   "cell_type": "markdown",
   "metadata": {},
   "source": [
    "Who are these players? Were they great? Okay? Not so great?\n",
    "\n",
    "Now, do the same for the players that had the maximum `fraction_started`! Name the indices `max_ix`. (Hint: Use `max()`.)"
   ]
  },
  {
   "cell_type": "code",
   "execution_count": null,
   "metadata": {},
   "outputs": [],
   "source": [
    "# YOUR CODE HERE\n",
    "# TRY TO MAKE AND DELETE CHUNKS"
   ]
  },
  {
   "cell_type": "markdown",
   "metadata": {},
   "source": [
    "And who were these players? Were they great? Okay? Not so great? Hm?\n",
    "\n",
    "Now let's compare the stats between the different players. We are going to start thinking in terms of a user input program. Imagine that a user is going to input the indices of the players that we identified above into a program. Then, the program will use an if/else statement to compare the average age, average points, and average assists of these two groups of players. We will output information to the user in an orderly way about the averages and explain who has a higher averages for those metrics. There are many ways to output this information to the user.\n",
    "\n",
    "First, let's just quickly take a look at the dataframe to see what `Age`, `PTS`, and `AST` look like for these groups of players. In the following chunks, I am selecting certain columns and using a method called `.iloc` which lets me select the parts of the dataframe I want by index number."
   ]
  },
  {
   "cell_type": "code",
   "execution_count": null,
   "metadata": {},
   "outputs": [],
   "source": [
    "# gsw_2016[['Player', 'Age', 'PTS', 'AST']].iloc[min_ix]"
   ]
  },
  {
   "cell_type": "code",
   "execution_count": null,
   "metadata": {},
   "outputs": [],
   "source": [
    "# gsw_2016[['Player', 'Age', 'PTS', 'AST']].iloc[max_ix]"
   ]
  },
  {
   "cell_type": "markdown",
   "metadata": {},
   "source": [
    "Next, calculate the following for both groups of players.\n",
    "\n",
    "- Mean age\n",
    "- Mean points\n",
    "- Mean assists\n",
    "\n",
    "Print them out as a *tuple*. A tuple is similar to a list. That's all you need to know for now. You can do this by typing\n",
    "\n",
    "`mean_age, mean_points, mean_assists`,\n",
    "\n",
    "assuming you have named the means you calculated in that way. You can also simply not name the means and print out as tuple directly. Give it a try."
   ]
  },
  {
   "cell_type": "code",
   "execution_count": null,
   "metadata": {},
   "outputs": [],
   "source": [
    "# YOUR CODE HERE\n",
    "# TRY TO MAKE AND DELETE CHUNKS"
   ]
  },
  {
   "cell_type": "code",
   "execution_count": null,
   "metadata": {},
   "outputs": [],
   "source": [
    "# YOUR CODE HERE\n",
    "# TRY TO MAKE AND DELETE CHUNKS"
   ]
  },
  {
   "cell_type": "markdown",
   "metadata": {},
   "source": [
    "Now, we want to start formalizing what a program could look like. For now, we are going to set `group_1` and `group_2` to be the indices of the players we identified above."
   ]
  },
  {
   "cell_type": "code",
   "execution_count": null,
   "metadata": {},
   "outputs": [],
   "source": [
    "group_1 = min_ix\n",
    "group_2 = max_ix"
   ]
  },
  {
   "cell_type": "markdown",
   "metadata": {},
   "source": [
    "Now, write a some `print()` statements to tell the user who is in each group. You will need to use the `gsw_2016['Player']` column and convert into a string separated by a comma and space `', '`. Here are two useful examples. Pay close attention to the data types.\n",
    "\n",
    "**Option 1: Use the `.join()` method**  \n",
    "We can use `.join()` on a list.  \n",
    "\n",
    "`\n",
    "names = ['Shaquille O'Neal', 'Kobe Bryant', 'Pau Gasol', 'Derek Fisher', 'Karl Malone']\n",
    "'and '.join(names)\n",
    "`\n",
    "\n",
    "**Option 2: Use the `.str.cat()` method**\n",
    "We can use `.str.cat()` on a pandas *series*. Don't worry too much about what a *series* is. Just know that it is quite like a numpy array or list. Just another name for it in another universe.  \n",
    "\n",
    "`\n",
    "names = ['Michael Jordan', 'Steve Kerr', 'Scottie Pippen', 'Dennis Rodman', 'Toni Kokuc']\n",
    "names = pd.Series(names)\n",
    "names.str.cat(sep='and ')\n",
    "`"
   ]
  },
  {
   "cell_type": "markdown",
   "metadata": {},
   "source": [
    "First, print out their names in a string."
   ]
  },
  {
   "cell_type": "code",
   "execution_count": null,
   "metadata": {},
   "outputs": [],
   "source": [
    "# YOUR CODE HERE\n",
    "# TRY TO MAKE AND DELETE CHUNKS"
   ]
  },
  {
   "cell_type": "markdown",
   "metadata": {},
   "source": [
    "Now, print useful information to the user explaining the player composition of each group."
   ]
  },
  {
   "cell_type": "code",
   "execution_count": null,
   "metadata": {},
   "outputs": [],
   "source": [
    "# YOUR CODE HERE\n",
    "# TRY TO MAKE AND DELETE CHUNKS"
   ]
  },
  {
   "cell_type": "markdown",
   "metadata": {},
   "source": [
    "Now that we have confirmed with the user which players are in Group 1 and Group 2, we want to give them a summary of the averages. Please write several if-else statements that will print out information similar to this. You may choose to reorder how you type out this information. Simply think of what the user might want.\n",
    "\n",
    "`\n",
    "Group 1 has a lower average age than Group 2 since  27.8 < 28.0 .\n",
    "Group 1 has lower average points than Group 2 since  289.6 < 1299.6 .\n",
    "Group 1 has lower average assists than Group 2 since  101.4 < 329.8 .\n",
    "`"
   ]
  },
  {
   "cell_type": "code",
   "execution_count": null,
   "metadata": {},
   "outputs": [],
   "source": [
    "# YOUR CODE HERE\n",
    "# TRY TO MAKE AND DELETE CHUNKS"
   ]
  },
  {
   "cell_type": "markdown",
   "metadata": {},
   "source": [
    "Now, put everything that we just did into one chunk! Set groups based on indices, print out who is in the groups, and print out the average information. That is, copy and paste the last few chunks and put them together so it'll run all together."
   ]
  },
  {
   "cell_type": "code",
   "execution_count": null,
   "metadata": {},
   "outputs": [],
   "source": [
    "# YOUR CODE HERE\n",
    "# TRY TO MAKE AND DELETE CHUNKS"
   ]
  },
  {
   "cell_type": "markdown",
   "metadata": {},
   "source": [
    "Finally, change the indices given to the groups. Choose some indices of players like\n",
    "\n",
    "`\n",
    "group_1 = [2,3,4,5]\n",
    "group_2 = [10,11,12,1]\n",
    "`\n",
    "\n",
    "and run the whole thing again! We have no seen the power of the beginnings of a program. I think that's pretty awesome."
   ]
  },
  {
   "cell_type": "code",
   "execution_count": null,
   "metadata": {},
   "outputs": [],
   "source": [
    "# YOUR CODE HERE\n",
    "# TRY TO MAKE AND DELETE CHUNKS"
   ]
  },
  {
   "cell_type": "markdown",
   "metadata": {},
   "source": [
    "# Reflection\n",
    "Type out a reflection on what you learned and what you're still confused about below!"
   ]
  },
  {
   "cell_type": "markdown",
   "metadata": {},
   "source": [
    "~ * Write your reflection here * ~"
   ]
  }
 ],
 "metadata": {
  "kernelspec": {
   "display_name": "Python 3",
   "language": "python",
   "name": "python3"
  },
  "language_info": {
   "codemirror_mode": {
    "name": "ipython",
    "version": 3
   },
   "file_extension": ".py",
   "mimetype": "text/x-python",
   "name": "python",
   "nbconvert_exporter": "python",
   "pygments_lexer": "ipython3",
   "version": "3.7.4"
  }
 },
 "nbformat": 4,
 "nbformat_minor": 2
}
