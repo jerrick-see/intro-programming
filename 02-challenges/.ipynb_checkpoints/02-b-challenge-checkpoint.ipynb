{
 "cells": [
  {
   "cell_type": "markdown",
   "metadata": {},
   "source": [
    "# Challenge 2B.\n",
    "We want to use our classes from the previous challenge and make some sort of user interface. This interface should be similar to our ever-beloved MyFitnessPal.\n",
    "\n",
    "<img src='https://hips.hearstapps.com/hmg-prod.s3.amazonaws.com/images/screen-shot-2020-01-16-at-13-37-27-1579181871.png?resize=640:*' width=600>\n",
    "\n",
    "First, let's redefine our classes in this notebook. We are going to do this in a different way than normal.\n",
    "\n",
    "**Directions**:\n",
    "\n",
    "1. Open a text editor on your computer. This **cannot** be Microsoft word, which is a *rich* text editor. This means that there is extra markup in the text that your code will make your code unhappy with you. I recommend downloading and using <a href='https://atom.io/'>Atom</a> which was made by Github. Another super popular text editor is <a href='https://www.sublimetext.com/'>Sublime</a>. Download one of them, then open it up.\n",
    "\n",
    "\n",
    "2. Copy and paste the definition of the classes you made in Challenge 2A into a text file on your text editor.\n",
    "\n",
    "3. Save the file as `02-classes.py`.\n",
    "\n",
    "After all that: Congratulations! You have created your first Python file. And it's nothing too special right? Just a text file with a different extension, `.py` instead of `.txt`."
   ]
  },
  {
   "cell_type": "code",
   "execution_count": 13,
   "metadata": {},
   "outputs": [],
   "source": [
    "# UNCOMMENT AND RUN THIS AFTER YOU HAVE COMPLETED STEPS (1) - (3)\n",
    "# %run '02-classes.py'"
   ]
  },
  {
   "cell_type": "markdown",
   "metadata": {},
   "source": [
    "What was the point of doing the above step? Well, sometimes you really don't need to show all your code in a Jupyter notebook. It was just a way to keep this particular Challenge 2B Jupyter notebook clean and to the point. If we hadn't used `%run '02-classes.py`, we could have indeed just pasted in our code from the previous notebook and ran it in the above chunk. This would just take up a lot of space and look kind of bulky.\n",
    "\n",
    "**Directions**: Now, copy and paste your code of creating `mcd_fries` below. Calculate the serving size in grams, the calories, and display the food."
   ]
  },
  {
   "cell_type": "code",
   "execution_count": 2,
   "metadata": {},
   "outputs": [],
   "source": [
    "# YOUR CODE HERE\n",
    "# You can create more cells by clicking on the side of the cell + the letter b!"
   ]
  },
  {
   "cell_type": "markdown",
   "metadata": {},
   "source": [
    "# Part 1: Create `diary` class.\n",
    "Now, let's create a class called `diary` that will contain \n",
    "\n",
    "- List of dates logged\n",
    "- List of class 2 objects (the day's foods information)\n",
    "\n",
    "This class should be much shorter in comparison to the classes we created in Challenge 2A."
   ]
  },
  {
   "cell_type": "code",
   "execution_count": 3,
   "metadata": {},
   "outputs": [],
   "source": [
    "# YOUR CODE HERE\n",
    "# You can create more cells by clicking on the side of the cell + the letter b!"
   ]
  },
  {
   "cell_type": "markdown",
   "metadata": {},
   "source": [
    "**Directions**: Use the classes you created in Challenge 2A and 2B to log the calories below into a diary. The macros are in `Carb / Fat / Protein` order. The value in front of the food is how many servings you ate.\n",
    "\n",
    "- **Day 1**: 2018-09-25\n",
    "    - 11:00\n",
    "        - 1 x Quaker, Maple and Brown Sugar Oatmeal: 32 / 2 / 4\n",
    "    - 15:00\n",
    "        - 1 x Generic, Salmon Poke Bowl: 38 / 37 / 49\n",
    "    - 19:00\n",
    "        - 1 x Boba Guys, Jasmine Milk Tea: 42 / 4 / 4\n",
    "- **Day 2**: 2018-09-26\n",
    "    - 10:30\n",
    "        - 1 x Quaker, Maple and Brown Sugar Oatmeal: 32 / 2 / 4\n",
    "        - 2 x Generic, Soft-boiled egg: 1 / 5 / 6\n",
    "    - 18:00\n",
    "        - 0.5 x Chipotle, Steak Burrito: 103 / 32 / 54\n",
    "    - 20:00\n",
    "        - 2 x Mrs. Fields, White Chunk Macademia: 18 / 6 / 1\n"
   ]
  },
  {
   "cell_type": "code",
   "execution_count": 4,
   "metadata": {},
   "outputs": [],
   "source": [
    "# YOUR CODE HERE\n",
    "# You can create more cells by clicking on the side of the cell + the letter b!"
   ]
  },
  {
   "cell_type": "markdown",
   "metadata": {},
   "source": [
    "First, create the foods as food objects."
   ]
  },
  {
   "cell_type": "code",
   "execution_count": 5,
   "metadata": {},
   "outputs": [],
   "source": [
    "# YOUR CODE HERE\n",
    "# You can create more cells by clicking on the side of the cell + the letter b!"
   ]
  },
  {
   "cell_type": "markdown",
   "metadata": {},
   "source": [
    "Next, create daily logs."
   ]
  },
  {
   "cell_type": "code",
   "execution_count": 6,
   "metadata": {},
   "outputs": [],
   "source": [
    "# DAY 1: YOUR CODE HERE\n",
    "# You can create more cells by clicking on the side of the cell + the letter b!"
   ]
  },
  {
   "cell_type": "code",
   "execution_count": 7,
   "metadata": {},
   "outputs": [],
   "source": [
    "# DAY 2: YOUR CODE HERE\n",
    "# You can create more cells by clicking on the side of the cell + the letter b!"
   ]
  },
  {
   "cell_type": "markdown",
   "metadata": {},
   "source": [
    "Finally, add the daily logs into a diary class."
   ]
  },
  {
   "cell_type": "code",
   "execution_count": 8,
   "metadata": {},
   "outputs": [],
   "source": [
    "# YOUR CODE HERE\n",
    "# You can create more cells by clicking on the side of the cell + the letter b!"
   ]
  },
  {
   "cell_type": "markdown",
   "metadata": {},
   "source": [
    "# Part 2: Make a user interface.\n",
    "Use `input()` statements and the classes we created in challenges 2A and 2B to collect information in a helpful manner. This part of the challenge does not require any sort of loops. Imagine that every time someone wants to add a food to their diary, they will rerun the chunk.\n",
    "\n",
    "Use your user interface to log <a href='https://www.myfitnesspal.com/food/calories/steamed-chicken-soup-dumplings-339054919'>Steamed Chicken Soup Dumplings</a> into a diary for the date of 2020-03-16."
   ]
  },
  {
   "cell_type": "code",
   "execution_count": 9,
   "metadata": {},
   "outputs": [],
   "source": [
    "# YOUR CODE HERE\n",
    "# You can create more cells by clicking on the side of the cell + the letter b!"
   ]
  },
  {
   "cell_type": "code",
   "execution_count": 10,
   "metadata": {},
   "outputs": [],
   "source": [
    "# CHUNK TO CREATE DIARY\n",
    "\n",
    "# YOUR CODE HERE\n",
    "# You can create more cells by clicking on the side of the cell + the letter b!"
   ]
  },
  {
   "cell_type": "code",
   "execution_count": 11,
   "metadata": {},
   "outputs": [],
   "source": [
    "# CHUNK TO CREATE A DAILY LOG\n",
    "\n",
    "# YOUR CODE HERE\n",
    "# You can create more cells by clicking on the side of the cell + the letter b!"
   ]
  },
  {
   "cell_type": "code",
   "execution_count": 12,
   "metadata": {},
   "outputs": [],
   "source": [
    "# CHUNK TO ADD FOOD INTO DAILY LOG\n",
    "\n",
    "# YOUR CODE HERE\n",
    "# You can create more cells by clicking on the side of the cell + the letter b!"
   ]
  },
  {
   "cell_type": "markdown",
   "metadata": {},
   "source": [
    "# Reflection\n",
    "Type out a reflection on what you learned and what you're still confused about below!"
   ]
  },
  {
   "cell_type": "markdown",
   "metadata": {},
   "source": [
    "~ * Write your reflection here * ~"
   ]
  }
 ],
 "metadata": {
  "kernelspec": {
   "display_name": "Python 3",
   "language": "python",
   "name": "python3"
  },
  "language_info": {
   "codemirror_mode": {
    "name": "ipython",
    "version": 3
   },
   "file_extension": ".py",
   "mimetype": "text/x-python",
   "name": "python",
   "nbconvert_exporter": "python",
   "pygments_lexer": "ipython3",
   "version": "3.7.4"
  }
 },
 "nbformat": 4,
 "nbformat_minor": 2
}
