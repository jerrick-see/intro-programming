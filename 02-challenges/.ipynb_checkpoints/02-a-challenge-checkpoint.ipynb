{
 "cells": [
  {
   "cell_type": "markdown",
   "metadata": {},
   "source": [
    "# Challenge 2A."
   ]
  },
  {
   "cell_type": "markdown",
   "metadata": {},
   "source": [
    "CICO stands for \"calories in, calories out\". This is a type of paradigm we use to lose weight. While CICO is the baseline for weight loss, we will also need to track macronutrients. There are three macronutrients: protein, fat, and carbohydrates. In this challenge, we are going to create several useful objects to track calories and macronutrients of foods. This class will rely on user input, just like MyFitnessPal, to name the food, the serving size in grams, and the macronutrient content.\n",
    "\n",
    "<img src='https://avitahealth.org/wp-content/uploads/2019/09/macronutrients-featured.jpg' width=600>\n",
    "\n",
    "## Class 1: Food.\n",
    "The first class will be an object that will contain at least\n",
    "\n",
    "- Source (Restaurant/Generic)\n",
    "- Food name\n",
    "- Protein in grams\n",
    "- Fat in grams\n",
    "- Carbs in grams\n",
    "\n",
    "and will also carry these attributes. \n",
    "\n",
    "- Serving size kCal\n",
    "- Serving size in grams\n",
    "\n",
    "Using the macronutrients as a basis, this first class will have a method that will calculate how many kCal are in the food. Here is a reminder about calories per macronutrient:  \n",
    "\n",
    "- Carbohydrate: 4 kCal/g\n",
    "- Protein: 4 kCal/g  \n",
    "- Fat: 9 kCal/g\n",
    "\n",
    "It will also have a method that will calculate serving size in grams by adding protein, fat, and carb grams together. There should be a method of printing all the information out in a list.\n",
    "\n",
    "**Directions**: First, create the class, and name it `food`. You need to create an `__init__`, a way to add in the macronutrients, two methods to calculate serving size and calories based off of the macronutrients, and a way to print out the food information. You might want to think about adding some data verification checks."
   ]
  },
  {
   "cell_type": "code",
   "execution_count": 1,
   "metadata": {},
   "outputs": [],
   "source": [
    "# YOUR CODE HERE\n",
    "# You can create more cells by clicking on the side of the cell + the letter b!"
   ]
  },
  {
   "cell_type": "markdown",
   "metadata": {},
   "source": [
    "**Directions**: Use the information on the macronutrients from the <a href=https://www.mcdonalds.com/us/en-us/product/small-french-fries.html>McDonald's website</a> to calculate the serving size in grams and what the calories for a small McDonald's fries should be. Name the food `mcd_fries`."
   ]
  },
  {
   "cell_type": "code",
   "execution_count": 2,
   "metadata": {},
   "outputs": [],
   "source": [
    "# YOUR CODE HERE\n",
    "# You can create more cells by clicking on the side of the cell + the letter b!"
   ]
  },
  {
   "cell_type": "markdown",
   "metadata": {},
   "source": [
    "**Directions**: Now using the information provided here on the <a href='https://company.bk.com/pdfs/nutrition.pdf'>Burger King website</a>, create a food called `bk_fries`."
   ]
  },
  {
   "cell_type": "code",
   "execution_count": 3,
   "metadata": {},
   "outputs": [],
   "source": [
    "# YOUR CODE HERE\n",
    "# You can create more cells by clicking on the side of the cell + the letter b!"
   ]
  },
  {
   "cell_type": "markdown",
   "metadata": {},
   "source": [
    "**Question**: Do the french fries calories match with their respective websites? Do you have any comments?"
   ]
  },
  {
   "cell_type": "markdown",
   "metadata": {},
   "source": [
    "~ * Write your answer here * ~"
   ]
  },
  {
   "cell_type": "markdown",
   "metadata": {},
   "source": [
    "## Class 2: Daily Log.\n",
    "The second class will be a day's worth of food. This object should contain\n",
    "\n",
    "- List of times eaten (24-hour clock)\n",
    "- List of class 1 objects (the foods eaten)\n",
    "- List of numbers of servings\n",
    "- Total kCal\n",
    "\n",
    "However, the only thing that a daily log will require initilization should be \n",
    "\n",
    "- A date\n",
    "\n",
    "In order to calculate the total kCal per day, you will need to use a for loop. When you're ready for that, please contact me because we have not covered that in class yet. You can also watch a guide for how to do use a for loop. What is most important is that you understand the idea behind why we would need some sort of iteration structure. This will become more clear as you think about what is needed for the daily log. \n",
    "\n",
    "\n",
    "**Directions**: Create the class, and name it `daily_log`. You need to create an `__init__`, a way to add a food into the log, a method to count calories, and a way to print out the log information. You might want to think about adding some data verification checks."
   ]
  },
  {
   "cell_type": "code",
   "execution_count": 4,
   "metadata": {},
   "outputs": [],
   "source": [
    "# YOUR CODE HERE\n",
    "# You can create more cells by clicking on the side of the cell + the letter b!"
   ]
  },
  {
   "cell_type": "markdown",
   "metadata": {},
   "source": [
    "**Directions:** Now that you have created the `daily_log` class, start a log for today. Call it `todays_log`. That is, initialize a daily log with today's date."
   ]
  },
  {
   "cell_type": "code",
   "execution_count": 5,
   "metadata": {},
   "outputs": [],
   "source": [
    "# YOUR CODE HERE\n",
    "# You can create more cells by clicking on the side of the cell + the letter b!"
   ]
  },
  {
   "cell_type": "markdown",
   "metadata": {},
   "source": [
    "**Directions**: Next, add in the `mcd_fries` and `bk_fries` food objects that you created earlier. Create the object to reflect that you ate the McD's at 12:00 and Burger King at 13:00 *AND* that you ate 1 serving of each."
   ]
  },
  {
   "cell_type": "code",
   "execution_count": 6,
   "metadata": {},
   "outputs": [],
   "source": [
    "# YOUR CODE HERE\n",
    "# You can create more cells by clicking on the side of the cell + the letter b!"
   ]
  },
  {
   "cell_type": "markdown",
   "metadata": {},
   "source": [
    "**Directions**: Use the method you wrote to calculate the total number of calories that were eaten for this day."
   ]
  },
  {
   "cell_type": "code",
   "execution_count": 7,
   "metadata": {},
   "outputs": [],
   "source": [
    "# YOUR CODE HERE\n",
    "# You can create more cells by clicking on the side of the cell + the letter b!"
   ]
  },
  {
   "cell_type": "markdown",
   "metadata": {},
   "source": [
    "**Directions**: Print out today's log in a semi-convenient way. It can just be a list."
   ]
  },
  {
   "cell_type": "code",
   "execution_count": 8,
   "metadata": {},
   "outputs": [],
   "source": [
    "# YOUR CODE HERE\n",
    "# You can create more cells by clicking on the side of the cell + the letter b!"
   ]
  },
  {
   "cell_type": "markdown",
   "metadata": {},
   "source": [
    "# Reflection\n",
    "Type out a reflection on what you learned and what you're still confused about below!"
   ]
  },
  {
   "cell_type": "markdown",
   "metadata": {},
   "source": [
    "~ * Write your reflection here * ~"
   ]
  }
 ],
 "metadata": {
  "kernelspec": {
   "display_name": "Python 3",
   "language": "python",
   "name": "python3"
  },
  "language_info": {
   "codemirror_mode": {
    "name": "ipython",
    "version": 3
   },
   "file_extension": ".py",
   "mimetype": "text/x-python",
   "name": "python",
   "nbconvert_exporter": "python",
   "pygments_lexer": "ipython3",
   "version": "3.7.4"
  }
 },
 "nbformat": 4,
 "nbformat_minor": 2
}
