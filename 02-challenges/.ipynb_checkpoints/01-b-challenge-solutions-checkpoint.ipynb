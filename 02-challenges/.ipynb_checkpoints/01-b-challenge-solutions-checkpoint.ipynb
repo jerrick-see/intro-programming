{
 "cells": [
  {
   "cell_type": "markdown",
   "metadata": {},
   "source": [
    "# Challenge 1B.\n",
    "In Lesson 1, we covered significant downloads and lots of introductory programming concepts. Now, we're going to put forth the skills we learned."
   ]
  },
  {
   "cell_type": "markdown",
   "metadata": {},
   "source": [
    "# The 2016 Golden State Warriors\n",
    "\n",
    "<img src='https://i2.wp.com/ramblingeveron.com/wp-content/uploads/2016/03/warriors.jpg?w=650'>"
   ]
  },
  {
   "cell_type": "code",
   "execution_count": 1,
   "metadata": {},
   "outputs": [],
   "source": [
    "# IMPORTING THE LIBRARY FOR DATAFRAMES\n",
    "import pandas as pd\n",
    "\n",
    "# DO NOT WORRY ABOUT THE FOLLOWING CODE FOR NOW\n",
    "gsw_2016 = pd.read_csv('../00-data/gsw-2016.csv')\n",
    "gsw_2016['Player'] = gsw_2016['Player'].str.replace('[A-z]{7}0[0-9]', '').str.replace('\\\\', '')"
   ]
  },
  {
   "cell_type": "markdown",
   "metadata": {},
   "source": [
    "We have a dataframe here called `gsw_2016` which we imported from a CSV file on our local drive. We are going to call the `.head()` method on it to show us the first 5 rows!"
   ]
  },
  {
   "cell_type": "code",
   "execution_count": 2,
   "metadata": {},
   "outputs": [
    {
     "data": {
      "text/html": [
       "<div>\n",
       "<style scoped>\n",
       "    .dataframe tbody tr th:only-of-type {\n",
       "        vertical-align: middle;\n",
       "    }\n",
       "\n",
       "    .dataframe tbody tr th {\n",
       "        vertical-align: top;\n",
       "    }\n",
       "\n",
       "    .dataframe thead th {\n",
       "        text-align: right;\n",
       "    }\n",
       "</style>\n",
       "<table border=\"1\" class=\"dataframe\">\n",
       "  <thead>\n",
       "    <tr style=\"text-align: right;\">\n",
       "      <th></th>\n",
       "      <th>Rk</th>\n",
       "      <th>Player</th>\n",
       "      <th>Age</th>\n",
       "      <th>G</th>\n",
       "      <th>GS</th>\n",
       "      <th>MP</th>\n",
       "      <th>FG</th>\n",
       "      <th>FGA</th>\n",
       "      <th>FG%</th>\n",
       "      <th>3P</th>\n",
       "      <th>...</th>\n",
       "      <th>FT%</th>\n",
       "      <th>ORB</th>\n",
       "      <th>DRB</th>\n",
       "      <th>TRB</th>\n",
       "      <th>AST</th>\n",
       "      <th>STL</th>\n",
       "      <th>BLK</th>\n",
       "      <th>TOV</th>\n",
       "      <th>PF</th>\n",
       "      <th>PTS</th>\n",
       "    </tr>\n",
       "  </thead>\n",
       "  <tbody>\n",
       "    <tr>\n",
       "      <td>0</td>\n",
       "      <td>1</td>\n",
       "      <td>Klay Thompson</td>\n",
       "      <td>26</td>\n",
       "      <td>78</td>\n",
       "      <td>78</td>\n",
       "      <td>2649</td>\n",
       "      <td>644</td>\n",
       "      <td>1376</td>\n",
       "      <td>0.468</td>\n",
       "      <td>268</td>\n",
       "      <td>...</td>\n",
       "      <td>0.853</td>\n",
       "      <td>49</td>\n",
       "      <td>236</td>\n",
       "      <td>285</td>\n",
       "      <td>160</td>\n",
       "      <td>66</td>\n",
       "      <td>40</td>\n",
       "      <td>128</td>\n",
       "      <td>139</td>\n",
       "      <td>1742</td>\n",
       "    </tr>\n",
       "    <tr>\n",
       "      <td>1</td>\n",
       "      <td>2</td>\n",
       "      <td>Stephen Curry</td>\n",
       "      <td>28</td>\n",
       "      <td>79</td>\n",
       "      <td>79</td>\n",
       "      <td>2638</td>\n",
       "      <td>675</td>\n",
       "      <td>1443</td>\n",
       "      <td>0.468</td>\n",
       "      <td>324</td>\n",
       "      <td>...</td>\n",
       "      <td>0.898</td>\n",
       "      <td>61</td>\n",
       "      <td>292</td>\n",
       "      <td>353</td>\n",
       "      <td>524</td>\n",
       "      <td>142</td>\n",
       "      <td>17</td>\n",
       "      <td>239</td>\n",
       "      <td>183</td>\n",
       "      <td>1999</td>\n",
       "    </tr>\n",
       "    <tr>\n",
       "      <td>2</td>\n",
       "      <td>3</td>\n",
       "      <td>Draymond Green</td>\n",
       "      <td>26</td>\n",
       "      <td>76</td>\n",
       "      <td>76</td>\n",
       "      <td>2471</td>\n",
       "      <td>272</td>\n",
       "      <td>650</td>\n",
       "      <td>0.418</td>\n",
       "      <td>81</td>\n",
       "      <td>...</td>\n",
       "      <td>0.709</td>\n",
       "      <td>98</td>\n",
       "      <td>501</td>\n",
       "      <td>599</td>\n",
       "      <td>533</td>\n",
       "      <td>154</td>\n",
       "      <td>106</td>\n",
       "      <td>184</td>\n",
       "      <td>217</td>\n",
       "      <td>776</td>\n",
       "    </tr>\n",
       "    <tr>\n",
       "      <td>3</td>\n",
       "      <td>4</td>\n",
       "      <td>Kevin Durant</td>\n",
       "      <td>28</td>\n",
       "      <td>62</td>\n",
       "      <td>62</td>\n",
       "      <td>2070</td>\n",
       "      <td>551</td>\n",
       "      <td>1026</td>\n",
       "      <td>0.537</td>\n",
       "      <td>117</td>\n",
       "      <td>...</td>\n",
       "      <td>0.875</td>\n",
       "      <td>39</td>\n",
       "      <td>474</td>\n",
       "      <td>513</td>\n",
       "      <td>300</td>\n",
       "      <td>66</td>\n",
       "      <td>99</td>\n",
       "      <td>138</td>\n",
       "      <td>117</td>\n",
       "      <td>1555</td>\n",
       "    </tr>\n",
       "    <tr>\n",
       "      <td>4</td>\n",
       "      <td>5</td>\n",
       "      <td>Andre Iguodala</td>\n",
       "      <td>33</td>\n",
       "      <td>76</td>\n",
       "      <td>0</td>\n",
       "      <td>1998</td>\n",
       "      <td>219</td>\n",
       "      <td>415</td>\n",
       "      <td>0.528</td>\n",
       "      <td>64</td>\n",
       "      <td>...</td>\n",
       "      <td>0.706</td>\n",
       "      <td>51</td>\n",
       "      <td>253</td>\n",
       "      <td>304</td>\n",
       "      <td>261</td>\n",
       "      <td>76</td>\n",
       "      <td>39</td>\n",
       "      <td>58</td>\n",
       "      <td>97</td>\n",
       "      <td>574</td>\n",
       "    </tr>\n",
       "  </tbody>\n",
       "</table>\n",
       "<p>5 rows × 28 columns</p>\n",
       "</div>"
      ],
      "text/plain": [
       "   Rk          Player  Age   G  GS    MP   FG   FGA    FG%   3P  ...    FT%  \\\n",
       "0   1   Klay Thompson   26  78  78  2649  644  1376  0.468  268  ...  0.853   \n",
       "1   2   Stephen Curry   28  79  79  2638  675  1443  0.468  324  ...  0.898   \n",
       "2   3  Draymond Green   26  76  76  2471  272   650  0.418   81  ...  0.709   \n",
       "3   4    Kevin Durant   28  62  62  2070  551  1026  0.537  117  ...  0.875   \n",
       "4   5  Andre Iguodala   33  76   0  1998  219   415  0.528   64  ...  0.706   \n",
       "\n",
       "   ORB  DRB  TRB  AST  STL  BLK  TOV   PF   PTS  \n",
       "0   49  236  285  160   66   40  128  139  1742  \n",
       "1   61  292  353  524  142   17  239  183  1999  \n",
       "2   98  501  599  533  154  106  184  217   776  \n",
       "3   39  474  513  300   66   99  138  117  1555  \n",
       "4   51  253  304  261   76   39   58   97   574  \n",
       "\n",
       "[5 rows x 28 columns]"
      ]
     },
     "execution_count": 2,
     "metadata": {},
     "output_type": "execute_result"
    }
   ],
   "source": [
    "gsw_2016.head()"
   ]
  },
  {
   "cell_type": "markdown",
   "metadata": {},
   "source": [
    "We are going to call the `.tail()` method on it to show us the last 5 rows!"
   ]
  },
  {
   "cell_type": "code",
   "execution_count": 3,
   "metadata": {},
   "outputs": [
    {
     "data": {
      "text/html": [
       "<div>\n",
       "<style scoped>\n",
       "    .dataframe tbody tr th:only-of-type {\n",
       "        vertical-align: middle;\n",
       "    }\n",
       "\n",
       "    .dataframe tbody tr th {\n",
       "        vertical-align: top;\n",
       "    }\n",
       "\n",
       "    .dataframe thead th {\n",
       "        text-align: right;\n",
       "    }\n",
       "</style>\n",
       "<table border=\"1\" class=\"dataframe\">\n",
       "  <thead>\n",
       "    <tr style=\"text-align: right;\">\n",
       "      <th></th>\n",
       "      <th>Rk</th>\n",
       "      <th>Player</th>\n",
       "      <th>Age</th>\n",
       "      <th>G</th>\n",
       "      <th>GS</th>\n",
       "      <th>MP</th>\n",
       "      <th>FG</th>\n",
       "      <th>FGA</th>\n",
       "      <th>FG%</th>\n",
       "      <th>3P</th>\n",
       "      <th>...</th>\n",
       "      <th>FT%</th>\n",
       "      <th>ORB</th>\n",
       "      <th>DRB</th>\n",
       "      <th>TRB</th>\n",
       "      <th>AST</th>\n",
       "      <th>STL</th>\n",
       "      <th>BLK</th>\n",
       "      <th>TOV</th>\n",
       "      <th>PF</th>\n",
       "      <th>PTS</th>\n",
       "    </tr>\n",
       "  </thead>\n",
       "  <tbody>\n",
       "    <tr>\n",
       "      <td>12</td>\n",
       "      <td>13</td>\n",
       "      <td>Kevon Looney</td>\n",
       "      <td>20</td>\n",
       "      <td>53</td>\n",
       "      <td>4</td>\n",
       "      <td>447</td>\n",
       "      <td>56</td>\n",
       "      <td>107</td>\n",
       "      <td>0.523</td>\n",
       "      <td>2</td>\n",
       "      <td>...</td>\n",
       "      <td>0.618</td>\n",
       "      <td>44</td>\n",
       "      <td>80</td>\n",
       "      <td>124</td>\n",
       "      <td>29</td>\n",
       "      <td>15</td>\n",
       "      <td>17</td>\n",
       "      <td>17</td>\n",
       "      <td>64</td>\n",
       "      <td>135</td>\n",
       "    </tr>\n",
       "    <tr>\n",
       "      <td>13</td>\n",
       "      <td>14</td>\n",
       "      <td>Matt Barnes</td>\n",
       "      <td>36</td>\n",
       "      <td>20</td>\n",
       "      <td>5</td>\n",
       "      <td>410</td>\n",
       "      <td>38</td>\n",
       "      <td>90</td>\n",
       "      <td>0.422</td>\n",
       "      <td>18</td>\n",
       "      <td>...</td>\n",
       "      <td>0.870</td>\n",
       "      <td>15</td>\n",
       "      <td>76</td>\n",
       "      <td>91</td>\n",
       "      <td>45</td>\n",
       "      <td>12</td>\n",
       "      <td>9</td>\n",
       "      <td>24</td>\n",
       "      <td>47</td>\n",
       "      <td>114</td>\n",
       "    </tr>\n",
       "    <tr>\n",
       "      <td>14</td>\n",
       "      <td>15</td>\n",
       "      <td>Anderson Varejão</td>\n",
       "      <td>34</td>\n",
       "      <td>14</td>\n",
       "      <td>1</td>\n",
       "      <td>92</td>\n",
       "      <td>5</td>\n",
       "      <td>14</td>\n",
       "      <td>0.357</td>\n",
       "      <td>0</td>\n",
       "      <td>...</td>\n",
       "      <td>0.727</td>\n",
       "      <td>12</td>\n",
       "      <td>15</td>\n",
       "      <td>27</td>\n",
       "      <td>10</td>\n",
       "      <td>3</td>\n",
       "      <td>3</td>\n",
       "      <td>8</td>\n",
       "      <td>16</td>\n",
       "      <td>18</td>\n",
       "    </tr>\n",
       "    <tr>\n",
       "      <td>15</td>\n",
       "      <td>16</td>\n",
       "      <td>Damian Jones</td>\n",
       "      <td>21</td>\n",
       "      <td>10</td>\n",
       "      <td>0</td>\n",
       "      <td>85</td>\n",
       "      <td>8</td>\n",
       "      <td>16</td>\n",
       "      <td>0.500</td>\n",
       "      <td>0</td>\n",
       "      <td>...</td>\n",
       "      <td>0.300</td>\n",
       "      <td>9</td>\n",
       "      <td>14</td>\n",
       "      <td>23</td>\n",
       "      <td>0</td>\n",
       "      <td>1</td>\n",
       "      <td>4</td>\n",
       "      <td>6</td>\n",
       "      <td>15</td>\n",
       "      <td>19</td>\n",
       "    </tr>\n",
       "    <tr>\n",
       "      <td>16</td>\n",
       "      <td>17</td>\n",
       "      <td>Briante Weber</td>\n",
       "      <td>24</td>\n",
       "      <td>7</td>\n",
       "      <td>0</td>\n",
       "      <td>46</td>\n",
       "      <td>5</td>\n",
       "      <td>14</td>\n",
       "      <td>0.357</td>\n",
       "      <td>0</td>\n",
       "      <td>...</td>\n",
       "      <td>0.667</td>\n",
       "      <td>0</td>\n",
       "      <td>4</td>\n",
       "      <td>4</td>\n",
       "      <td>5</td>\n",
       "      <td>3</td>\n",
       "      <td>1</td>\n",
       "      <td>3</td>\n",
       "      <td>4</td>\n",
       "      <td>12</td>\n",
       "    </tr>\n",
       "  </tbody>\n",
       "</table>\n",
       "<p>5 rows × 28 columns</p>\n",
       "</div>"
      ],
      "text/plain": [
       "    Rk            Player  Age   G  GS   MP  FG  FGA    FG%  3P  ...    FT%  \\\n",
       "12  13      Kevon Looney   20  53   4  447  56  107  0.523   2  ...  0.618   \n",
       "13  14       Matt Barnes   36  20   5  410  38   90  0.422  18  ...  0.870   \n",
       "14  15  Anderson Varejão   34  14   1   92   5   14  0.357   0  ...  0.727   \n",
       "15  16      Damian Jones   21  10   0   85   8   16  0.500   0  ...  0.300   \n",
       "16  17     Briante Weber   24   7   0   46   5   14  0.357   0  ...  0.667   \n",
       "\n",
       "    ORB  DRB  TRB  AST  STL  BLK  TOV  PF  PTS  \n",
       "12   44   80  124   29   15   17   17  64  135  \n",
       "13   15   76   91   45   12    9   24  47  114  \n",
       "14   12   15   27   10    3    3    8  16   18  \n",
       "15    9   14   23    0    1    4    6  15   19  \n",
       "16    0    4    4    5    3    1    3   4   12  \n",
       "\n",
       "[5 rows x 28 columns]"
      ]
     },
     "execution_count": 3,
     "metadata": {},
     "output_type": "execute_result"
    }
   ],
   "source": [
    "gsw_2016.tail()"
   ]
  },
  {
   "cell_type": "markdown",
   "metadata": {},
   "source": [
    "We can also find out what all the columns are by using `.columns`."
   ]
  },
  {
   "cell_type": "code",
   "execution_count": 4,
   "metadata": {},
   "outputs": [
    {
     "data": {
      "text/plain": [
       "Index(['Rk', 'Player', 'Age', 'G', 'GS', 'MP', 'FG', 'FGA', 'FG%', '3P', '3PA',\n",
       "       '3P%', '2P', '2PA', '2P%', 'eFG%', 'FT', 'FTA', 'FT%', 'ORB', 'DRB',\n",
       "       'TRB', 'AST', 'STL', 'BLK', 'TOV', 'PF', 'PTS'],\n",
       "      dtype='object')"
      ]
     },
     "execution_count": 4,
     "metadata": {},
     "output_type": "execute_result"
    }
   ],
   "source": [
    "gsw_2016.columns"
   ]
  },
  {
   "cell_type": "markdown",
   "metadata": {},
   "source": [
    "And we can know how big our table is by using `.shape`."
   ]
  },
  {
   "cell_type": "code",
   "execution_count": 5,
   "metadata": {},
   "outputs": [
    {
     "data": {
      "text/plain": [
       "(17, 28)"
      ]
     },
     "execution_count": 5,
     "metadata": {},
     "output_type": "execute_result"
    }
   ],
   "source": [
    "gsw_2016.shape"
   ]
  },
  {
   "cell_type": "markdown",
   "metadata": {},
   "source": [
    "Now, this already looks like a cool spreadsheet type of thing. But before we get to working with all that... we need to solidify how to do math in Python. Start by importing `numpy as np`."
   ]
  },
  {
   "cell_type": "code",
   "execution_count": 6,
   "metadata": {},
   "outputs": [],
   "source": [
    "import numpy as np"
   ]
  },
  {
   "cell_type": "markdown",
   "metadata": {},
   "source": [
    "Let's focus on these two wonderful players for now."
   ]
  },
  {
   "cell_type": "code",
   "execution_count": 7,
   "metadata": {},
   "outputs": [
    {
     "data": {
      "text/html": [
       "<div>\n",
       "<style scoped>\n",
       "    .dataframe tbody tr th:only-of-type {\n",
       "        vertical-align: middle;\n",
       "    }\n",
       "\n",
       "    .dataframe tbody tr th {\n",
       "        vertical-align: top;\n",
       "    }\n",
       "\n",
       "    .dataframe thead th {\n",
       "        text-align: right;\n",
       "    }\n",
       "</style>\n",
       "<table border=\"1\" class=\"dataframe\">\n",
       "  <thead>\n",
       "    <tr style=\"text-align: right;\">\n",
       "      <th></th>\n",
       "      <th>Rk</th>\n",
       "      <th>Player</th>\n",
       "      <th>Age</th>\n",
       "      <th>G</th>\n",
       "      <th>GS</th>\n",
       "      <th>MP</th>\n",
       "      <th>FG</th>\n",
       "      <th>FGA</th>\n",
       "      <th>FG%</th>\n",
       "      <th>3P</th>\n",
       "      <th>...</th>\n",
       "      <th>FT%</th>\n",
       "      <th>ORB</th>\n",
       "      <th>DRB</th>\n",
       "      <th>TRB</th>\n",
       "      <th>AST</th>\n",
       "      <th>STL</th>\n",
       "      <th>BLK</th>\n",
       "      <th>TOV</th>\n",
       "      <th>PF</th>\n",
       "      <th>PTS</th>\n",
       "    </tr>\n",
       "  </thead>\n",
       "  <tbody>\n",
       "    <tr>\n",
       "      <td>0</td>\n",
       "      <td>1</td>\n",
       "      <td>Klay Thompson</td>\n",
       "      <td>26</td>\n",
       "      <td>78</td>\n",
       "      <td>78</td>\n",
       "      <td>2649</td>\n",
       "      <td>644</td>\n",
       "      <td>1376</td>\n",
       "      <td>0.468</td>\n",
       "      <td>268</td>\n",
       "      <td>...</td>\n",
       "      <td>0.853</td>\n",
       "      <td>49</td>\n",
       "      <td>236</td>\n",
       "      <td>285</td>\n",
       "      <td>160</td>\n",
       "      <td>66</td>\n",
       "      <td>40</td>\n",
       "      <td>128</td>\n",
       "      <td>139</td>\n",
       "      <td>1742</td>\n",
       "    </tr>\n",
       "    <tr>\n",
       "      <td>1</td>\n",
       "      <td>2</td>\n",
       "      <td>Stephen Curry</td>\n",
       "      <td>28</td>\n",
       "      <td>79</td>\n",
       "      <td>79</td>\n",
       "      <td>2638</td>\n",
       "      <td>675</td>\n",
       "      <td>1443</td>\n",
       "      <td>0.468</td>\n",
       "      <td>324</td>\n",
       "      <td>...</td>\n",
       "      <td>0.898</td>\n",
       "      <td>61</td>\n",
       "      <td>292</td>\n",
       "      <td>353</td>\n",
       "      <td>524</td>\n",
       "      <td>142</td>\n",
       "      <td>17</td>\n",
       "      <td>239</td>\n",
       "      <td>183</td>\n",
       "      <td>1999</td>\n",
       "    </tr>\n",
       "  </tbody>\n",
       "</table>\n",
       "<p>2 rows × 28 columns</p>\n",
       "</div>"
      ],
      "text/plain": [
       "   Rk         Player  Age   G  GS    MP   FG   FGA    FG%   3P  ...    FT%  \\\n",
       "0   1  Klay Thompson   26  78  78  2649  644  1376  0.468  268  ...  0.853   \n",
       "1   2  Stephen Curry   28  79  79  2638  675  1443  0.468  324  ...  0.898   \n",
       "\n",
       "   ORB  DRB  TRB  AST  STL  BLK  TOV   PF   PTS  \n",
       "0   49  236  285  160   66   40  128  139  1742  \n",
       "1   61  292  353  524  142   17  239  183  1999  \n",
       "\n",
       "[2 rows x 28 columns]"
      ]
     },
     "execution_count": 7,
     "metadata": {},
     "output_type": "execute_result"
    }
   ],
   "source": [
    "our_focus = gsw_2016[gsw_2016['Player'].isin(['Klay Thompson', 'Stephen Curry'])]\n",
    "our_focus"
   ]
  },
  {
   "cell_type": "markdown",
   "metadata": {},
   "source": [
    "Let's just look at their ages in the object `their_ages`."
   ]
  },
  {
   "cell_type": "code",
   "execution_count": 8,
   "metadata": {},
   "outputs": [
    {
     "data": {
      "text/plain": [
       "0    26\n",
       "1    28\n",
       "Name: Age, dtype: int64"
      ]
     },
     "execution_count": 8,
     "metadata": {},
     "output_type": "execute_result"
    }
   ],
   "source": [
    "their_ages = our_focus['Age']\n",
    "their_ages"
   ]
  },
  {
   "cell_type": "markdown",
   "metadata": {},
   "source": [
    "Use indexing to calculate the average (mean) of `their_ages`."
   ]
  },
  {
   "cell_type": "code",
   "execution_count": 9,
   "metadata": {},
   "outputs": [
    {
     "data": {
      "text/plain": [
       "27.0"
      ]
     },
     "execution_count": 9,
     "metadata": {},
     "output_type": "execute_result"
    }
   ],
   "source": [
    "(their_ages[0] + their_ages[1]) / 2"
   ]
  },
  {
   "cell_type": "markdown",
   "metadata": {},
   "source": [
    "Now use `sum` and `len` to get the average (mean)."
   ]
  },
  {
   "cell_type": "code",
   "execution_count": 10,
   "metadata": {},
   "outputs": [
    {
     "data": {
      "text/plain": [
       "27.0"
      ]
     },
     "execution_count": 10,
     "metadata": {},
     "output_type": "execute_result"
    }
   ],
   "source": [
    "sum(their_ages) / len(their_ages)"
   ]
  },
  {
   "cell_type": "markdown",
   "metadata": {},
   "source": [
    "Finally, use the function `np.mean()` to get the mean."
   ]
  },
  {
   "cell_type": "code",
   "execution_count": 11,
   "metadata": {},
   "outputs": [
    {
     "data": {
      "text/plain": [
       "27.0"
      ]
     },
     "execution_count": 11,
     "metadata": {},
     "output_type": "execute_result"
    }
   ],
   "source": [
    "np.mean(their_ages)"
   ]
  },
  {
   "cell_type": "markdown",
   "metadata": {},
   "source": [
    "Now clearly, getting their average could have been done simply by looking at the two numbers in your head. Let's go ahead and get the mean of the whole team's ages. Use `gsw_2016['Age']` and caculate the mean.\n",
    "\n",
    "First, use `sum()` and `len()`."
   ]
  },
  {
   "cell_type": "code",
   "execution_count": 12,
   "metadata": {},
   "outputs": [
    {
     "data": {
      "text/plain": [
       "27.88235294117647"
      ]
     },
     "execution_count": 12,
     "metadata": {},
     "output_type": "execute_result"
    }
   ],
   "source": [
    "sum(gsw_2016['Age']) / len(gsw_2016['Age'])"
   ]
  },
  {
   "cell_type": "markdown",
   "metadata": {},
   "source": [
    "Now, use numpy."
   ]
  },
  {
   "cell_type": "code",
   "execution_count": 13,
   "metadata": {},
   "outputs": [
    {
     "data": {
      "text/plain": [
       "27.88235294117647"
      ]
     },
     "execution_count": 13,
     "metadata": {},
     "output_type": "execute_result"
    }
   ],
   "source": [
    "np.mean(gsw_2016['Age'])"
   ]
  },
  {
   "cell_type": "markdown",
   "metadata": {},
   "source": [
    "A more advanced way to do this is use `.apply('mean')` on the column itself."
   ]
  },
  {
   "cell_type": "code",
   "execution_count": 14,
   "metadata": {},
   "outputs": [
    {
     "data": {
      "text/plain": [
       "27.88235294117647"
      ]
     },
     "execution_count": 14,
     "metadata": {},
     "output_type": "execute_result"
    }
   ],
   "source": [
    "gsw_2016['Age'].apply('mean')"
   ]
  },
  {
   "cell_type": "markdown",
   "metadata": {},
   "source": [
    "As you can see, there are many different ways to do the same thing in Python. You might ask when would be the right time to use which. This is intuition you will discover as you continue working with objects in Python.\n",
    "\n",
    "Let's do some background research on where these numbers came from. Visit <a href='https://www.basketball-reference.com/teams/GSW/2017.html'>basketball ref</a>. Scroll down to the table that says \"Totals\". This is the table that we are working with. Read through the associated *Glossary* next to the table. Your next task is to calculate the fraction of games that a player started in based on the number of games they played. That is, we want to calculate\n",
    "\n",
    "$$\n",
    "\\text{Fraction Started} = \\frac{\\text{Number of games started}}{\\text{Number of games played}}\n",
    "$$\n",
    "\n",
    "using Python functions."
   ]
  },
  {
   "cell_type": "markdown",
   "metadata": {},
   "source": [
    "Try dividing the associated columns by each other to calculate \"Fraction Started\"."
   ]
  },
  {
   "cell_type": "code",
   "execution_count": 15,
   "metadata": {},
   "outputs": [
    {
     "data": {
      "text/plain": [
       "0     1.000000\n",
       "1     1.000000\n",
       "2     1.000000\n",
       "3     1.000000\n",
       "4     0.000000\n",
       "5     0.039474\n",
       "6     1.000000\n",
       "7     0.000000\n",
       "8     0.281690\n",
       "9     0.000000\n",
       "10    0.129870\n",
       "11    0.038462\n",
       "12    0.075472\n",
       "13    0.250000\n",
       "14    0.071429\n",
       "15    0.000000\n",
       "16    0.000000\n",
       "dtype: float64"
      ]
     },
     "execution_count": 15,
     "metadata": {},
     "output_type": "execute_result"
    }
   ],
   "source": [
    "gsw_2016['GS'] / gsw_2016['G']"
   ]
  },
  {
   "cell_type": "markdown",
   "metadata": {},
   "source": [
    "Assign this division to a new column in the dataframe. You can do this by assigning `gsw_2016['fraction_started']` to the division you wrote above."
   ]
  },
  {
   "cell_type": "code",
   "execution_count": 16,
   "metadata": {},
   "outputs": [
    {
     "data": {
      "text/html": [
       "<div>\n",
       "<style scoped>\n",
       "    .dataframe tbody tr th:only-of-type {\n",
       "        vertical-align: middle;\n",
       "    }\n",
       "\n",
       "    .dataframe tbody tr th {\n",
       "        vertical-align: top;\n",
       "    }\n",
       "\n",
       "    .dataframe thead th {\n",
       "        text-align: right;\n",
       "    }\n",
       "</style>\n",
       "<table border=\"1\" class=\"dataframe\">\n",
       "  <thead>\n",
       "    <tr style=\"text-align: right;\">\n",
       "      <th></th>\n",
       "      <th>Rk</th>\n",
       "      <th>Player</th>\n",
       "      <th>Age</th>\n",
       "      <th>G</th>\n",
       "      <th>GS</th>\n",
       "      <th>MP</th>\n",
       "      <th>FG</th>\n",
       "      <th>FGA</th>\n",
       "      <th>FG%</th>\n",
       "      <th>3P</th>\n",
       "      <th>...</th>\n",
       "      <th>ORB</th>\n",
       "      <th>DRB</th>\n",
       "      <th>TRB</th>\n",
       "      <th>AST</th>\n",
       "      <th>STL</th>\n",
       "      <th>BLK</th>\n",
       "      <th>TOV</th>\n",
       "      <th>PF</th>\n",
       "      <th>PTS</th>\n",
       "      <th>fraction_started</th>\n",
       "    </tr>\n",
       "  </thead>\n",
       "  <tbody>\n",
       "    <tr>\n",
       "      <td>0</td>\n",
       "      <td>1</td>\n",
       "      <td>Klay Thompson</td>\n",
       "      <td>26</td>\n",
       "      <td>78</td>\n",
       "      <td>78</td>\n",
       "      <td>2649</td>\n",
       "      <td>644</td>\n",
       "      <td>1376</td>\n",
       "      <td>0.468</td>\n",
       "      <td>268</td>\n",
       "      <td>...</td>\n",
       "      <td>49</td>\n",
       "      <td>236</td>\n",
       "      <td>285</td>\n",
       "      <td>160</td>\n",
       "      <td>66</td>\n",
       "      <td>40</td>\n",
       "      <td>128</td>\n",
       "      <td>139</td>\n",
       "      <td>1742</td>\n",
       "      <td>1.0</td>\n",
       "    </tr>\n",
       "    <tr>\n",
       "      <td>1</td>\n",
       "      <td>2</td>\n",
       "      <td>Stephen Curry</td>\n",
       "      <td>28</td>\n",
       "      <td>79</td>\n",
       "      <td>79</td>\n",
       "      <td>2638</td>\n",
       "      <td>675</td>\n",
       "      <td>1443</td>\n",
       "      <td>0.468</td>\n",
       "      <td>324</td>\n",
       "      <td>...</td>\n",
       "      <td>61</td>\n",
       "      <td>292</td>\n",
       "      <td>353</td>\n",
       "      <td>524</td>\n",
       "      <td>142</td>\n",
       "      <td>17</td>\n",
       "      <td>239</td>\n",
       "      <td>183</td>\n",
       "      <td>1999</td>\n",
       "      <td>1.0</td>\n",
       "    </tr>\n",
       "    <tr>\n",
       "      <td>2</td>\n",
       "      <td>3</td>\n",
       "      <td>Draymond Green</td>\n",
       "      <td>26</td>\n",
       "      <td>76</td>\n",
       "      <td>76</td>\n",
       "      <td>2471</td>\n",
       "      <td>272</td>\n",
       "      <td>650</td>\n",
       "      <td>0.418</td>\n",
       "      <td>81</td>\n",
       "      <td>...</td>\n",
       "      <td>98</td>\n",
       "      <td>501</td>\n",
       "      <td>599</td>\n",
       "      <td>533</td>\n",
       "      <td>154</td>\n",
       "      <td>106</td>\n",
       "      <td>184</td>\n",
       "      <td>217</td>\n",
       "      <td>776</td>\n",
       "      <td>1.0</td>\n",
       "    </tr>\n",
       "    <tr>\n",
       "      <td>3</td>\n",
       "      <td>4</td>\n",
       "      <td>Kevin Durant</td>\n",
       "      <td>28</td>\n",
       "      <td>62</td>\n",
       "      <td>62</td>\n",
       "      <td>2070</td>\n",
       "      <td>551</td>\n",
       "      <td>1026</td>\n",
       "      <td>0.537</td>\n",
       "      <td>117</td>\n",
       "      <td>...</td>\n",
       "      <td>39</td>\n",
       "      <td>474</td>\n",
       "      <td>513</td>\n",
       "      <td>300</td>\n",
       "      <td>66</td>\n",
       "      <td>99</td>\n",
       "      <td>138</td>\n",
       "      <td>117</td>\n",
       "      <td>1555</td>\n",
       "      <td>1.0</td>\n",
       "    </tr>\n",
       "    <tr>\n",
       "      <td>4</td>\n",
       "      <td>5</td>\n",
       "      <td>Andre Iguodala</td>\n",
       "      <td>33</td>\n",
       "      <td>76</td>\n",
       "      <td>0</td>\n",
       "      <td>1998</td>\n",
       "      <td>219</td>\n",
       "      <td>415</td>\n",
       "      <td>0.528</td>\n",
       "      <td>64</td>\n",
       "      <td>...</td>\n",
       "      <td>51</td>\n",
       "      <td>253</td>\n",
       "      <td>304</td>\n",
       "      <td>261</td>\n",
       "      <td>76</td>\n",
       "      <td>39</td>\n",
       "      <td>58</td>\n",
       "      <td>97</td>\n",
       "      <td>574</td>\n",
       "      <td>0.0</td>\n",
       "    </tr>\n",
       "  </tbody>\n",
       "</table>\n",
       "<p>5 rows × 29 columns</p>\n",
       "</div>"
      ],
      "text/plain": [
       "   Rk          Player  Age   G  GS    MP   FG   FGA    FG%   3P  ...  ORB  \\\n",
       "0   1   Klay Thompson   26  78  78  2649  644  1376  0.468  268  ...   49   \n",
       "1   2   Stephen Curry   28  79  79  2638  675  1443  0.468  324  ...   61   \n",
       "2   3  Draymond Green   26  76  76  2471  272   650  0.418   81  ...   98   \n",
       "3   4    Kevin Durant   28  62  62  2070  551  1026  0.537  117  ...   39   \n",
       "4   5  Andre Iguodala   33  76   0  1998  219   415  0.528   64  ...   51   \n",
       "\n",
       "   DRB  TRB  AST  STL  BLK  TOV   PF   PTS  fraction_started  \n",
       "0  236  285  160   66   40  128  139  1742               1.0  \n",
       "1  292  353  524  142   17  239  183  1999               1.0  \n",
       "2  501  599  533  154  106  184  217   776               1.0  \n",
       "3  474  513  300   66   99  138  117  1555               1.0  \n",
       "4  253  304  261   76   39   58   97   574               0.0  \n",
       "\n",
       "[5 rows x 29 columns]"
      ]
     },
     "execution_count": 16,
     "metadata": {},
     "output_type": "execute_result"
    }
   ],
   "source": [
    "gsw_2016['fraction_started'] = gsw_2016['GS'] / gsw_2016['G']\n",
    "gsw_2016.head()"
   ]
  },
  {
   "cell_type": "markdown",
   "metadata": {},
   "source": [
    "What is the minimum `fraction_started`? Use `min()` on the column to find out."
   ]
  },
  {
   "cell_type": "code",
   "execution_count": 17,
   "metadata": {},
   "outputs": [
    {
     "data": {
      "text/plain": [
       "0.0"
      ]
     },
     "execution_count": 17,
     "metadata": {},
     "output_type": "execute_result"
    }
   ],
   "source": [
    "fraction_started = gsw_2016['fraction_started']\n",
    "min(fraction_started)"
   ]
  },
  {
   "cell_type": "code",
   "execution_count": 18,
   "metadata": {},
   "outputs": [
    {
     "data": {
      "text/plain": [
       "0.0"
      ]
     },
     "execution_count": 18,
     "metadata": {},
     "output_type": "execute_result"
    }
   ],
   "source": [
    "min(gsw_2016['fraction_started'])"
   ]
  },
  {
   "cell_type": "markdown",
   "metadata": {},
   "source": [
    "Which player had the minimum `fraction_started`? Use `np.where()` to get the row index of the players who had the smallest `fraction_started`. You need to put a logical statement within the `np.where()` statement to see *where* fraction_started is equal to the minimum. Once you have retrieved the row indices, save them to a variable `min_ix`. Finally, resave `min_ix=min_ix[0]`."
   ]
  },
  {
   "cell_type": "code",
   "execution_count": 19,
   "metadata": {},
   "outputs": [
    {
     "data": {
      "text/plain": [
       "array([ 4,  7,  9, 15, 16])"
      ]
     },
     "execution_count": 19,
     "metadata": {},
     "output_type": "execute_result"
    }
   ],
   "source": [
    "min_ix = np.where(fraction_started == min(fraction_started))\n",
    "min_ix = min_ix[0]\n",
    "min_ix"
   ]
  },
  {
   "cell_type": "markdown",
   "metadata": {},
   "source": [
    " Once you have the indices, use it on the `gsw_2016['Player']` column."
   ]
  },
  {
   "cell_type": "code",
   "execution_count": 20,
   "metadata": {},
   "outputs": [
    {
     "data": {
      "text/plain": [
       "4     Andre Iguodala\n",
       "7          Ian Clark\n",
       "9         David West\n",
       "15      Damian Jones\n",
       "16     Briante Weber\n",
       "Name: Player, dtype: object"
      ]
     },
     "execution_count": 20,
     "metadata": {},
     "output_type": "execute_result"
    }
   ],
   "source": [
    "gsw_2016['Player'][min_ix]"
   ]
  },
  {
   "cell_type": "markdown",
   "metadata": {},
   "source": [
    "Who are these players? Were they great? Okay? Not so great?\n",
    "\n",
    "Now, do the same for the players that had the maximum `fraction_started`! Name the indices `max_ix`. (Hint: Use `max()`.)"
   ]
  },
  {
   "cell_type": "code",
   "execution_count": 21,
   "metadata": {},
   "outputs": [
    {
     "data": {
      "text/plain": [
       "0     Klay Thompson\n",
       "1     Stephen Curry\n",
       "2    Draymond Green\n",
       "3      Kevin Durant\n",
       "6     Zaza Pachulia\n",
       "Name: Player, dtype: object"
      ]
     },
     "execution_count": 21,
     "metadata": {},
     "output_type": "execute_result"
    }
   ],
   "source": [
    "max_ix = np.where(fraction_started == max(fraction_started))\n",
    "max_ix = max_ix[0]\n",
    "gsw_2016['Player'][max_ix]"
   ]
  },
  {
   "cell_type": "markdown",
   "metadata": {},
   "source": [
    "And who were these players? Were they great? Okay? Not so great? Hm?\n",
    "\n",
    "Now let's compare the stats between the different players. We are going to start thinking in terms of a user input program. Imagine that a user is going to input the indices of the players that we identified above into a program. Then, the program will use an if/else statement to compare the average age, average points, and average assists of these two groups of players. We will output information to the user in an orderly way about the averages and explain who has a higher averages for those metrics. There are many ways to output this information to the user.\n",
    "\n",
    "First, let's just quickly take a look at the dataframe to see what `Age`, `PTS`, and `AST` look like for these groups of players. In the following chunks, I am selecting certain columns and using a method called `.iloc` which lets me select the parts of the dataframe I want by index number."
   ]
  },
  {
   "cell_type": "code",
   "execution_count": 22,
   "metadata": {},
   "outputs": [
    {
     "data": {
      "text/html": [
       "<div>\n",
       "<style scoped>\n",
       "    .dataframe tbody tr th:only-of-type {\n",
       "        vertical-align: middle;\n",
       "    }\n",
       "\n",
       "    .dataframe tbody tr th {\n",
       "        vertical-align: top;\n",
       "    }\n",
       "\n",
       "    .dataframe thead th {\n",
       "        text-align: right;\n",
       "    }\n",
       "</style>\n",
       "<table border=\"1\" class=\"dataframe\">\n",
       "  <thead>\n",
       "    <tr style=\"text-align: right;\">\n",
       "      <th></th>\n",
       "      <th>Player</th>\n",
       "      <th>Age</th>\n",
       "      <th>PTS</th>\n",
       "      <th>AST</th>\n",
       "    </tr>\n",
       "  </thead>\n",
       "  <tbody>\n",
       "    <tr>\n",
       "      <td>4</td>\n",
       "      <td>Andre Iguodala</td>\n",
       "      <td>33</td>\n",
       "      <td>574</td>\n",
       "      <td>261</td>\n",
       "    </tr>\n",
       "    <tr>\n",
       "      <td>7</td>\n",
       "      <td>Ian Clark</td>\n",
       "      <td>25</td>\n",
       "      <td>527</td>\n",
       "      <td>90</td>\n",
       "    </tr>\n",
       "    <tr>\n",
       "      <td>9</td>\n",
       "      <td>David West</td>\n",
       "      <td>36</td>\n",
       "      <td>316</td>\n",
       "      <td>151</td>\n",
       "    </tr>\n",
       "    <tr>\n",
       "      <td>15</td>\n",
       "      <td>Damian Jones</td>\n",
       "      <td>21</td>\n",
       "      <td>19</td>\n",
       "      <td>0</td>\n",
       "    </tr>\n",
       "    <tr>\n",
       "      <td>16</td>\n",
       "      <td>Briante Weber</td>\n",
       "      <td>24</td>\n",
       "      <td>12</td>\n",
       "      <td>5</td>\n",
       "    </tr>\n",
       "  </tbody>\n",
       "</table>\n",
       "</div>"
      ],
      "text/plain": [
       "            Player  Age  PTS  AST\n",
       "4   Andre Iguodala   33  574  261\n",
       "7        Ian Clark   25  527   90\n",
       "9       David West   36  316  151\n",
       "15    Damian Jones   21   19    0\n",
       "16   Briante Weber   24   12    5"
      ]
     },
     "execution_count": 22,
     "metadata": {},
     "output_type": "execute_result"
    }
   ],
   "source": [
    "gsw_2016[['Player', 'Age', 'PTS', 'AST']].iloc[min_ix]"
   ]
  },
  {
   "cell_type": "code",
   "execution_count": 23,
   "metadata": {},
   "outputs": [
    {
     "data": {
      "text/html": [
       "<div>\n",
       "<style scoped>\n",
       "    .dataframe tbody tr th:only-of-type {\n",
       "        vertical-align: middle;\n",
       "    }\n",
       "\n",
       "    .dataframe tbody tr th {\n",
       "        vertical-align: top;\n",
       "    }\n",
       "\n",
       "    .dataframe thead th {\n",
       "        text-align: right;\n",
       "    }\n",
       "</style>\n",
       "<table border=\"1\" class=\"dataframe\">\n",
       "  <thead>\n",
       "    <tr style=\"text-align: right;\">\n",
       "      <th></th>\n",
       "      <th>Player</th>\n",
       "      <th>Age</th>\n",
       "      <th>PTS</th>\n",
       "      <th>AST</th>\n",
       "    </tr>\n",
       "  </thead>\n",
       "  <tbody>\n",
       "    <tr>\n",
       "      <td>0</td>\n",
       "      <td>Klay Thompson</td>\n",
       "      <td>26</td>\n",
       "      <td>1742</td>\n",
       "      <td>160</td>\n",
       "    </tr>\n",
       "    <tr>\n",
       "      <td>1</td>\n",
       "      <td>Stephen Curry</td>\n",
       "      <td>28</td>\n",
       "      <td>1999</td>\n",
       "      <td>524</td>\n",
       "    </tr>\n",
       "    <tr>\n",
       "      <td>2</td>\n",
       "      <td>Draymond Green</td>\n",
       "      <td>26</td>\n",
       "      <td>776</td>\n",
       "      <td>533</td>\n",
       "    </tr>\n",
       "    <tr>\n",
       "      <td>3</td>\n",
       "      <td>Kevin Durant</td>\n",
       "      <td>28</td>\n",
       "      <td>1555</td>\n",
       "      <td>300</td>\n",
       "    </tr>\n",
       "    <tr>\n",
       "      <td>6</td>\n",
       "      <td>Zaza Pachulia</td>\n",
       "      <td>32</td>\n",
       "      <td>426</td>\n",
       "      <td>132</td>\n",
       "    </tr>\n",
       "  </tbody>\n",
       "</table>\n",
       "</div>"
      ],
      "text/plain": [
       "           Player  Age   PTS  AST\n",
       "0   Klay Thompson   26  1742  160\n",
       "1   Stephen Curry   28  1999  524\n",
       "2  Draymond Green   26   776  533\n",
       "3    Kevin Durant   28  1555  300\n",
       "6   Zaza Pachulia   32   426  132"
      ]
     },
     "execution_count": 23,
     "metadata": {},
     "output_type": "execute_result"
    }
   ],
   "source": [
    "gsw_2016[['Player', 'Age', 'PTS', 'AST']].iloc[max_ix]"
   ]
  },
  {
   "cell_type": "markdown",
   "metadata": {},
   "source": [
    "Next, calculate the following for both groups of players.\n",
    "\n",
    "- Mean age\n",
    "- Mean points\n",
    "- Mean assists\n",
    "\n",
    "Print them out as a *tuple*. A tuple is similar to a list. That's all you need to know for now. You can do this by typing\n",
    "\n",
    "`mean_age, mean_points, mean_assists`,\n",
    "\n",
    "assuming you have named the means you calculated in that way. You can also simply not name the means and print out as tuple directly. Give it a try."
   ]
  },
  {
   "cell_type": "code",
   "execution_count": 24,
   "metadata": {},
   "outputs": [
    {
     "data": {
      "text/plain": [
       "(28.0, 1299.6, 329.8)"
      ]
     },
     "execution_count": 24,
     "metadata": {},
     "output_type": "execute_result"
    }
   ],
   "source": [
    "# THE STARTERS\n",
    "np.mean(gsw_2016['Age'][max_ix]), np.mean(gsw_2016['PTS'][max_ix]), np.mean(gsw_2016['AST'][max_ix])"
   ]
  },
  {
   "cell_type": "code",
   "execution_count": 25,
   "metadata": {},
   "outputs": [
    {
     "data": {
      "text/plain": [
       "(27.8, 289.6, 101.4)"
      ]
     },
     "execution_count": 25,
     "metadata": {},
     "output_type": "execute_result"
    }
   ],
   "source": [
    "# THE BENCH\n",
    "np.mean(gsw_2016['Age'][min_ix]), np.mean(gsw_2016['PTS'][min_ix]), np.mean(gsw_2016['AST'][min_ix])"
   ]
  },
  {
   "cell_type": "markdown",
   "metadata": {},
   "source": [
    "Now, we want to start formalizing what a program could look like. For now, we are going to set `group_1` and `group_2` to be the indices of the players we identified above."
   ]
  },
  {
   "cell_type": "code",
   "execution_count": 26,
   "metadata": {},
   "outputs": [],
   "source": [
    "group_1 = min_ix\n",
    "group_2 = max_ix"
   ]
  },
  {
   "cell_type": "markdown",
   "metadata": {},
   "source": [
    "Now, write a some `print()` statements to tell the user who is in each group. You will need to use the `gsw_2016['Player']` column and convert into a string separated by a comma and space `', '`. Here are two useful examples. Pay close attention to the data types.\n",
    "\n",
    "**Option 1: Use the `.join()` method**  \n",
    "We can use `.join()` on a list.  \n",
    "\n",
    "`\n",
    "names = ['Shaquille O'Neal', 'Kobe Bryant', 'Pau Gasol', 'Derek Fisher', 'Karl Malone']\n",
    "'and '.join(names)\n",
    "`\n",
    "\n",
    "**Option 2: Use the `.str.cat()` method**\n",
    "We can use `.str.cat()` on a pandas *series*. Don't worry too much about what a *series* is. Just know that it is quite like a numpy array or list. Just another name for it in another universe.  \n",
    "\n",
    "`\n",
    "names = ['Michael Jordan', 'Steve Kerr', 'Scottie Pippen', 'Dennis Rodman', 'Toni Kokuc']\n",
    "names = pd.Series(names)\n",
    "names.str.cat(sep='and ')\n",
    "`"
   ]
  },
  {
   "cell_type": "code",
   "execution_count": 27,
   "metadata": {},
   "outputs": [
    {
     "name": "stdout",
     "output_type": "stream",
     "text": [
      "Andre Iguodala, Ian Clark, David West, Damian Jones, Briante Weber\n"
     ]
    }
   ],
   "source": [
    "names_str = ', '.join(gsw_2016['Player'][min_ix])\n",
    "print(names_str)"
   ]
  },
  {
   "cell_type": "code",
   "execution_count": 28,
   "metadata": {},
   "outputs": [
    {
     "name": "stdout",
     "output_type": "stream",
     "text": [
      "Andre Iguodala, Ian Clark, David West, Damian Jones, Briante Weber\n"
     ]
    }
   ],
   "source": [
    "names_str = gsw_2016['Player'][min_ix].str.cat(sep=', ')\n",
    "print(names_str)"
   ]
  },
  {
   "cell_type": "code",
   "execution_count": 29,
   "metadata": {},
   "outputs": [
    {
     "name": "stdout",
     "output_type": "stream",
     "text": [
      "Group 1 includes:  Andre Iguodala, Ian Clark, David West, Damian Jones, Briante Weber\n",
      "Group 2 includes:  Klay Thompson, Stephen Curry, Draymond Green, Kevin Durant, Zaza Pachulia\n"
     ]
    }
   ],
   "source": [
    "# YOU CAN USE THE FIRST\n",
    "print('Group 1 includes: ', ', '.join(gsw_2016['Player'][min_ix]))\n",
    "\n",
    "# OR SECOND WAYS, DOES NOT MATTER\n",
    "print('Group 2 includes: ', gsw_2016['Player'][max_ix].str.cat(sep=', '))\n",
    "\n",
    "# OR ANOTHER WAY IF YOU FOUND ANOTHER WAY!"
   ]
  },
  {
   "cell_type": "markdown",
   "metadata": {},
   "source": [
    "Now that we have confirmed with the user which players are in Group 1 and Group 2, we want to give them a summary of the averages. Please write several if-else statements that will print out information similar to this. You may choose to reorder how you type out this information. Simply think of what the user might want.\n",
    "\n",
    "`\n",
    "Group 1 has a lower average age than Group 2 since  27.8 < 28.0 .\n",
    "Group 1 has lower average points than Group 2 since  289.6 < 1299.6 .\n",
    "Group 1 has lower average assists than Group 2 since  101.4 < 329.8 .\n",
    "`"
   ]
  },
  {
   "cell_type": "code",
   "execution_count": 30,
   "metadata": {},
   "outputs": [
    {
     "name": "stdout",
     "output_type": "stream",
     "text": [
      "Group 1 has a lower average age than Group 2 since  27.8 < 28.0 .\n",
      "Group 1 has lower average points than Group 2 since  289.6 < 1299.6 .\n",
      "Group 1 has lower average assists than Group 2 since  101.4 < 329.8 .\n"
     ]
    }
   ],
   "source": [
    "# AGE\n",
    "if np.mean(gsw_2016['Age'][group_1]) < np.mean(gsw_2016['Age'][group_2]):\n",
    "    print('Group 1 has a lower average age than Group 2 since ',\n",
    "          np.mean(gsw_2016['Age'][group_1]),\n",
    "          '<',\n",
    "          np.mean(gsw_2016['Age'][group_2]),\n",
    "          '.')\n",
    "else:\n",
    "    print('Group 1 has a lower average age than Group 2 since ',\n",
    "          np.mean(gsw_2016['Age'][group_1]),\n",
    "          '>',\n",
    "          np.mean(gsw_2016['Age'][group_2]),\n",
    "          '.')\n",
    "\n",
    "# PTS\n",
    "if np.mean(gsw_2016['PTS'][group_1]) < np.mean(gsw_2016['PTS'][group_2]):\n",
    "    print('Group 1 has lower average points than Group 2 since ',\n",
    "          np.mean(gsw_2016['PTS'][group_1]),\n",
    "          '<',\n",
    "          np.mean(gsw_2016['PTS'][group_2]),\n",
    "          '.')\n",
    "else:\n",
    "    print('Group 1 has lower average points than Group 2 since ',\n",
    "          np.mean(gsw_2016['PTS'][group_1]),\n",
    "          '>',\n",
    "          np.mean(gsw_2016['PTS'][group_2]),\n",
    "          '.')\n",
    "\n",
    "# AST\n",
    "if np.mean(gsw_2016['AST'][group_1]) < np.mean(gsw_2016['AST'][group_2]):\n",
    "    print('Group 1 has lower average assists than Group 2 since ',\n",
    "          np.mean(gsw_2016['AST'][group_1]),\n",
    "          '<',\n",
    "          np.mean(gsw_2016['AST'][group_2]),\n",
    "          '.')\n",
    "else:\n",
    "    print('Group 1 has higher average assists than group 2 since ',\n",
    "          np.mean(gsw_2016['AST'][group_1]),\n",
    "          '>',\n",
    "          np.mean(gsw_2016['AST'][group_2]),\n",
    "          '.')"
   ]
  },
  {
   "cell_type": "markdown",
   "metadata": {},
   "source": [
    "Now, put everything that we just did into one chunk! Set groups based on indices, print out who is in the groups, and print out the average information. That is, copy and paste the last few chunks and put them together so it'll run all together."
   ]
  },
  {
   "cell_type": "code",
   "execution_count": 31,
   "metadata": {},
   "outputs": [
    {
     "name": "stdout",
     "output_type": "stream",
     "text": [
      "Group 1 includes:  Andre Iguodala, Ian Clark, David West, Damian Jones, Briante Weber\n",
      "Group 2 includes:  Klay Thompson, Stephen Curry, Draymond Green, Kevin Durant, Zaza Pachulia\n",
      "\n",
      "\n",
      "Group 1 has a lower average age than Group 2 since  27.8 < 28.0 .\n",
      "Group 1 has lower average points than Group 2 since  289.6 < 1299.6 .\n",
      "Group 1 has lower average assists than Group 2 since  101.4 < 329.8 .\n"
     ]
    }
   ],
   "source": [
    "group_1 = min_ix\n",
    "group_2 = max_ix\n",
    "\n",
    "# YOU CAN USE THE FIRST\n",
    "print('Group 1 includes: ', ', '.join(gsw_2016['Player'][min_ix]))\n",
    "\n",
    "# OR SECOND WAYS, DOES NOT MATTER\n",
    "print('Group 2 includes: ', gsw_2016['Player'][max_ix].str.cat(sep=', '))\n",
    "\n",
    "# OR ANOTHER WAY IF YOU FOUND ANOTHER WAY!\n",
    "print('\\n')\n",
    "\n",
    "# AGE\n",
    "if np.mean(gsw_2016['Age'][group_1]) < np.mean(gsw_2016['Age'][group_2]):\n",
    "    print('Group 1 has a lower average age than Group 2 since ',\n",
    "          np.mean(gsw_2016['Age'][group_1]),\n",
    "          '<',\n",
    "          np.mean(gsw_2016['Age'][group_2]),\n",
    "          '.')\n",
    "else:\n",
    "    print('Group 1 has a lower average age than Group 2 since ',\n",
    "          np.mean(gsw_2016['Age'][group_1]),\n",
    "          '>',\n",
    "          np.mean(gsw_2016['Age'][group_2]),\n",
    "          '.')\n",
    "\n",
    "# PTS\n",
    "if np.mean(gsw_2016['PTS'][group_1]) < np.mean(gsw_2016['PTS'][group_2]):\n",
    "    print('Group 1 has lower average points than Group 2 since ',\n",
    "          np.mean(gsw_2016['PTS'][group_1]),\n",
    "          '<',\n",
    "          np.mean(gsw_2016['PTS'][group_2]),\n",
    "          '.')\n",
    "else:\n",
    "    print('Group 1 has lower average points than Group 2 since ',\n",
    "          np.mean(gsw_2016['PTS'][group_1]),\n",
    "          '>',\n",
    "          np.mean(gsw_2016['PTS'][group_2]),\n",
    "          '.')\n",
    "\n",
    "# AST\n",
    "if np.mean(gsw_2016['AST'][group_1]) < np.mean(gsw_2016['AST'][group_2]):\n",
    "    print('Group 1 has lower average assists than Group 2 since ',\n",
    "          np.mean(gsw_2016['AST'][group_1]),\n",
    "          '<',\n",
    "          np.mean(gsw_2016['AST'][group_2]),\n",
    "          '.')\n",
    "else:\n",
    "    print('Group 1 has higher average assists than group 2 since ',\n",
    "          np.mean(gsw_2016['AST'][group_1]),\n",
    "          '>',\n",
    "          np.mean(gsw_2016['AST'][group_2]),\n",
    "          '.')"
   ]
  },
  {
   "cell_type": "markdown",
   "metadata": {},
   "source": [
    "Finally, change the indices given to the groups. Choose some indices of players like\n",
    "\n",
    "`\n",
    "group_1 = [2,3,4,5]\n",
    "group_2 = [10,11,12,1]\n",
    "`\n",
    "\n",
    "and run the whole thing again! We have no seen the power of the beginnings of a program. I think that's pretty awesome."
   ]
  },
  {
   "cell_type": "code",
   "execution_count": 32,
   "metadata": {},
   "outputs": [
    {
     "name": "stdout",
     "output_type": "stream",
     "text": [
      "Group 1 includes:  Andre Iguodala, Ian Clark, David West, Damian Jones, Briante Weber\n",
      "Group 2 includes:  Klay Thompson, Stephen Curry, Draymond Green, Kevin Durant, Zaza Pachulia\n",
      "\n",
      "\n",
      "Group 1 has a lower average age than Group 2 since  29.5 > 25.25 .\n",
      "Group 1 has lower average points than Group 2 since  823.5 > 688.25 .\n",
      "Group 1 has higher average assists than group 2 since  308.25 > 147.0 .\n"
     ]
    }
   ],
   "source": [
    "group_1 = [2,3,4,5]\n",
    "group_2 = [10,11,12,1]\n",
    "\n",
    "# YOU CAN USE THE FIRST\n",
    "print('Group 1 includes: ', ', '.join(gsw_2016['Player'][min_ix]))\n",
    "\n",
    "# OR SECOND WAYS, DOES NOT MATTER\n",
    "print('Group 2 includes: ', gsw_2016['Player'][max_ix].str.cat(sep=', '))\n",
    "\n",
    "# OR ANOTHER WAY IF YOU FOUND ANOTHER WAY!\n",
    "print('\\n')\n",
    "\n",
    "# AGE\n",
    "if np.mean(gsw_2016['Age'][group_1]) < np.mean(gsw_2016['Age'][group_2]):\n",
    "    print('Group 1 has a lower average age than Group 2 since ',\n",
    "          np.mean(gsw_2016['Age'][group_1]),\n",
    "          '<',\n",
    "          np.mean(gsw_2016['Age'][group_2]),\n",
    "          '.')\n",
    "else:\n",
    "    print('Group 1 has a lower average age than Group 2 since ',\n",
    "          np.mean(gsw_2016['Age'][group_1]),\n",
    "          '>',\n",
    "          np.mean(gsw_2016['Age'][group_2]),\n",
    "          '.')\n",
    "\n",
    "# PTS\n",
    "if np.mean(gsw_2016['PTS'][group_1]) < np.mean(gsw_2016['PTS'][group_2]):\n",
    "    print('Group 1 has lower average points than Group 2 since ',\n",
    "          np.mean(gsw_2016['PTS'][group_1]),\n",
    "          '<',\n",
    "          np.mean(gsw_2016['PTS'][group_2]),\n",
    "          '.')\n",
    "else:\n",
    "    print('Group 1 has lower average points than Group 2 since ',\n",
    "          np.mean(gsw_2016['PTS'][group_1]),\n",
    "          '>',\n",
    "          np.mean(gsw_2016['PTS'][group_2]),\n",
    "          '.')\n",
    "\n",
    "# AST\n",
    "if np.mean(gsw_2016['AST'][group_1]) < np.mean(gsw_2016['AST'][group_2]):\n",
    "    print('Group 1 has lower average assists than Group 2 since ',\n",
    "          np.mean(gsw_2016['AST'][group_1]),\n",
    "          '<',\n",
    "          np.mean(gsw_2016['AST'][group_2]),\n",
    "          '.')\n",
    "else:\n",
    "    print('Group 1 has higher average assists than group 2 since ',\n",
    "          np.mean(gsw_2016['AST'][group_1]),\n",
    "          '>',\n",
    "          np.mean(gsw_2016['AST'][group_2]),\n",
    "          '.')"
   ]
  },
  {
   "cell_type": "markdown",
   "metadata": {},
   "source": [
    "# Reflection\n",
    "Type out a reflection on what you learned and what you're still confused about below!"
   ]
  },
  {
   "cell_type": "markdown",
   "metadata": {},
   "source": [
    "~ * Write your reflection here * ~"
   ]
  }
 ],
 "metadata": {
  "kernelspec": {
   "display_name": "Python 3",
   "language": "python",
   "name": "python3"
  },
  "language_info": {
   "codemirror_mode": {
    "name": "ipython",
    "version": 3
   },
   "file_extension": ".py",
   "mimetype": "text/x-python",
   "name": "python",
   "nbconvert_exporter": "python",
   "pygments_lexer": "ipython3",
   "version": "3.7.4"
  }
 },
 "nbformat": 4,
 "nbformat_minor": 2
}
