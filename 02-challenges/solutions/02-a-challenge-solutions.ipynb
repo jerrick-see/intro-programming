{
 "cells": [
  {
   "cell_type": "markdown",
   "metadata": {},
   "source": [
    "# Challenge 2A."
   ]
  },
  {
   "cell_type": "markdown",
   "metadata": {},
   "source": [
    "CICO stands for \"calories in, calories out\". This is a type of paradigm we use to lose weight. While CICO is the baseline for weight loss, we will also need to track macronutrients. There are three macronutrients: protein, fat, and carbohydrates. In this challenge, we are going to create several useful objects to track calories and macronutrients of foods. This class will rely on user input, just like MyFitnessPal, to name the food, the serving size in grams, and the macronutrient content.\n",
    "\n",
    "<img src='https://avitahealth.org/wp-content/uploads/2019/09/macronutrients-featured.jpg' width=600>\n",
    "\n",
    "## Class 1: Food.\n",
    "The first class will be an object that will contain at least\n",
    "\n",
    "- Source (Restaurant/Generic)\n",
    "- Food name\n",
    "- Protein in grams\n",
    "- Fat in grams\n",
    "- Carbs in grams\n",
    "\n",
    "and will also carry these attributes. \n",
    "\n",
    "- Serving size kCal\n",
    "- Serving size in grams\n",
    "\n",
    "Using the macronutrients as a basis, this first class will have a method that will calculate how many kCal are in the food. Here is a reminder about calories per macronutrient:  \n",
    "\n",
    "- Carbohydrate: 4 kCal/g\n",
    "- Protein: 4 kCal/g  \n",
    "- Fat: 9 kCal/g\n",
    "\n",
    "It will also have a method that will calculate serving size in grams by adding protein, fat, and carb grams together. There should be a method of printing all the information out in a list.\n",
    "\n",
    "**Directions**: First, create the class, and name it `food`. You need to create an `__init__`, a way to add in the macronutrients, two methods to calculate serving size and calories based off of the macronutrients, and a way to print out the food information. You might want to think about adding some data verification checks."
   ]
  },
  {
   "cell_type": "code",
   "execution_count": 1,
   "metadata": {},
   "outputs": [],
   "source": [
    "# YOUR CODE HERE\n",
    "# You can create more cells by clicking on the side of the cell + the letter b!"
   ]
  },
  {
   "cell_type": "code",
   "execution_count": 2,
   "metadata": {},
   "outputs": [],
   "source": [
    "class food:\n",
    "    def __init__(self, source, name):\n",
    "        '''\n",
    "        Create a new food including\n",
    "            - Where the food is sourced from (restaurant, brand, or generic)\n",
    "            - A name for the food\n",
    "        '''\n",
    "        self.source = source\n",
    "        self.name = name\n",
    "    \n",
    "    \n",
    "    def macros(self, protein, fat, carbs):\n",
    "        '''\n",
    "        Add macronutrient attributes to the food, all must be numeric values of grams\n",
    "        '''\n",
    "        \n",
    "        # DATA CHECK\n",
    "        # Make sure all the user input is numeric.\n",
    "        entered_types = [type(x) in [float, int] for x in [protein, fat, carbs]]\n",
    "\n",
    "        if all(entered_types):\n",
    "            self.protein = protein\n",
    "            self.fat = fat\n",
    "            self.carbs = carbs\n",
    "        else:\n",
    "            print('No macronutrients saved for this food. Please enter integer or floats.')\n",
    "    \n",
    "    \n",
    "    def calculateCalories(self):\n",
    "        '''\n",
    "        Calculate the calories given the macronutrient breakdown\n",
    "        '''\n",
    "        total_cals = 4*self.protein + 9*self.fat + 4*self.carbs\n",
    "        self.total_cals = total_cals\n",
    "        return(total_cals)\n",
    "    \n",
    "    \n",
    "    def calculateServingGrams(self):\n",
    "        total_grams = self.protein + self.fat + self.carbs\n",
    "        self.total_grams = total_grams\n",
    "        return(total_grams)\n",
    "    \n",
    "    \n",
    "    def display(self):\n",
    "        import numpy as np\n",
    "        \n",
    "        output = list()\n",
    "        output.append(self.source)\n",
    "        output.append(self.name)\n",
    "        \n",
    "        if type(self.total_cals) in [float, int]:\n",
    "            output.append(self.total_cals)\n",
    "        else:\n",
    "            output.append(np.nan)\n",
    "        \n",
    "        if type(self.total_grams) in [float, int]:\n",
    "            output.append(self.total_grams)\n",
    "        else:\n",
    "            output.append(np.nan)\n",
    "        \n",
    "        return(output)"
   ]
  },
  {
   "cell_type": "markdown",
   "metadata": {},
   "source": [
    "**Directions**: Use the information on the macronutrients from the <a href=https://www.mcdonalds.com/us/en-us/product/small-french-fries.html>McDonald's website</a> to calculate the serving size in grams and what the calories for a small McDonald's fries should be. Name the food `mcd_fries`."
   ]
  },
  {
   "cell_type": "code",
   "execution_count": 3,
   "metadata": {},
   "outputs": [],
   "source": [
    "# YOUR CODE HERE\n",
    "# You can create more cells by clicking on the side of the cell + the letter b!"
   ]
  },
  {
   "cell_type": "code",
   "execution_count": 4,
   "metadata": {},
   "outputs": [],
   "source": [
    "mcd_fries = food(\"McDonald's\", 'Small World Famous Fries')\n",
    "mcd_fries.macros(protein=3, fat=10, carbs=29)"
   ]
  },
  {
   "cell_type": "code",
   "execution_count": 5,
   "metadata": {},
   "outputs": [
    {
     "data": {
      "text/plain": [
       "42"
      ]
     },
     "execution_count": 5,
     "metadata": {},
     "output_type": "execute_result"
    }
   ],
   "source": [
    "mcd_fries.calculateServingGrams()"
   ]
  },
  {
   "cell_type": "code",
   "execution_count": 6,
   "metadata": {},
   "outputs": [
    {
     "data": {
      "text/plain": [
       "218"
      ]
     },
     "execution_count": 6,
     "metadata": {},
     "output_type": "execute_result"
    }
   ],
   "source": [
    "mcd_fries.calculateCalories()"
   ]
  },
  {
   "cell_type": "code",
   "execution_count": 7,
   "metadata": {},
   "outputs": [
    {
     "data": {
      "text/plain": [
       "[\"McDonald's\", 'Small World Famous Fries', 218, 42]"
      ]
     },
     "execution_count": 7,
     "metadata": {},
     "output_type": "execute_result"
    }
   ],
   "source": [
    "mcd_fries.display()"
   ]
  },
  {
   "cell_type": "markdown",
   "metadata": {},
   "source": [
    "**Directions**: Now using the information provided here on the <a href='https://company.bk.com/pdfs/nutrition.pdf'>Burger King website</a>, create a food called `bk_fries`."
   ]
  },
  {
   "cell_type": "code",
   "execution_count": 8,
   "metadata": {},
   "outputs": [],
   "source": [
    "# YOUR CODE HERE\n",
    "# You can create more cells by clicking on the side of the cell + the letter b!"
   ]
  },
  {
   "cell_type": "code",
   "execution_count": 9,
   "metadata": {},
   "outputs": [
    {
     "data": {
      "text/plain": [
       "(66, 329)"
      ]
     },
     "execution_count": 9,
     "metadata": {},
     "output_type": "execute_result"
    }
   ],
   "source": [
    "bk_fries = food('Burger King', 'French Fries - Small (unsalted)')\n",
    "bk_fries.macros(fat=13, protein=4, carbs=49)\n",
    "bk_fries.calculateServingGrams(), bk_fries.calculateCalories()"
   ]
  },
  {
   "cell_type": "code",
   "execution_count": 10,
   "metadata": {},
   "outputs": [
    {
     "data": {
      "text/plain": [
       "['Burger King', 'French Fries - Small (unsalted)', 329, 66]"
      ]
     },
     "execution_count": 10,
     "metadata": {},
     "output_type": "execute_result"
    }
   ],
   "source": [
    "bk_fries.display()"
   ]
  },
  {
   "cell_type": "markdown",
   "metadata": {},
   "source": [
    "**Question**: Do the french fries calories match with their respective websites? Do you have any comments?"
   ]
  },
  {
   "cell_type": "markdown",
   "metadata": {},
   "source": [
    "~ * Write your answer here * ~"
   ]
  },
  {
   "cell_type": "markdown",
   "metadata": {},
   "source": [
    "## Class 2: Daily Log.\n",
    "The second class will be a day's worth of food. This object should contain\n",
    "\n",
    "- List of times eaten (24-hour clock)\n",
    "- List of class 1 objects (the foods eaten)\n",
    "- List of numbers of servings\n",
    "- Total kCal\n",
    "\n",
    "However, the only thing that a daily log will require initilization should be \n",
    "\n",
    "- A date\n",
    "\n",
    "In order to calculate the total kCal per day, you will need to use a for loop. When you're ready for that, please contact me because we have not covered that in class yet. You can also watch a guide for how to do use a for loop. What is most important is that you understand the idea behind why we would need some sort of iteration structure. This will become more clear as you think about what is needed for the daily log. \n",
    "\n",
    "\n",
    "**Directions**: Create the class, and name it `daily_log`. You need to create an `__init__`, a way to add a food into the log, a method to count calories, and a way to print out the log information. You might want to think about adding some data verification checks."
   ]
  },
  {
   "cell_type": "code",
   "execution_count": 11,
   "metadata": {},
   "outputs": [],
   "source": [
    "# YOUR CODE HERE\n",
    "# You can create more cells by clicking on the side of the cell + the letter b!"
   ]
  },
  {
   "cell_type": "code",
   "execution_count": 12,
   "metadata": {},
   "outputs": [],
   "source": [
    "class daily_log:\n",
    "    def __init__(self, date):\n",
    "        self.date = date\n",
    "        self.time = []\n",
    "        self.food = []\n",
    "        self.num_servings = []\n",
    "    \n",
    "    def add(self, time, food, num_servings):\n",
    "        self.time.append(time)\n",
    "        self.food.append(food)\n",
    "        self.num_servings.append(num_servings)\n",
    "    \n",
    "    def calorieCount(self):\n",
    "        \n",
    "        daily_cals = []\n",
    "        for this_food in self.food:\n",
    "            daily_cals.append(this_food.total_cals)\n",
    "        \n",
    "        self.total_calories = sum(daily_cals)\n",
    "        \n",
    "        return(self.total_calories)\n",
    "    \n",
    "    def display(self):\n",
    "        import numpy as np\n",
    "        \n",
    "        output = list()\n",
    "        output.append(self.date)\n",
    "        \n",
    "        if type(self.time)==list:\n",
    "            output.append(self.time)\n",
    "        else:\n",
    "            output.append(np.nan)\n",
    "        \n",
    "        if type(self.food)==list:\n",
    "            output.append(self.food)\n",
    "        else:\n",
    "            output.append(np.nan)\n",
    "            \n",
    "        if type(self.num_servings)==list:\n",
    "            output.append(self.num_servings)\n",
    "        else:\n",
    "            output.append(np.nan)\n",
    "            \n",
    "        if type(self.total_calories) in [int, float]:\n",
    "            output.append(self.total_calories)\n",
    "        else:\n",
    "            output.append(np.nan)\n",
    "        \n",
    "        return(output)"
   ]
  },
  {
   "cell_type": "markdown",
   "metadata": {},
   "source": [
    "**Directions:** Now that you have created the `daily_log` class, start a log for today. Call it `todays_log`. That is, initialize a daily log with today's date."
   ]
  },
  {
   "cell_type": "code",
   "execution_count": 13,
   "metadata": {},
   "outputs": [],
   "source": [
    "# YOUR CODE HERE\n",
    "# You can create more cells by clicking on the side of the cell + the letter b!"
   ]
  },
  {
   "cell_type": "code",
   "execution_count": 14,
   "metadata": {},
   "outputs": [
    {
     "data": {
      "text/plain": [
       "'2020-06-02'"
      ]
     },
     "execution_count": 14,
     "metadata": {},
     "output_type": "execute_result"
    }
   ],
   "source": [
    "todays_log = daily_log('2020-06-02')\n",
    "todays_log.date"
   ]
  },
  {
   "cell_type": "markdown",
   "metadata": {},
   "source": [
    "**Directions**: Next, add in the `mcd_fries` and `bk_fries` food objects that you created earlier. Create the object to reflect that you ate the McD's at 12:00 and Burger King at 13:00 *AND* that you ate 1 serving of each."
   ]
  },
  {
   "cell_type": "code",
   "execution_count": 15,
   "metadata": {},
   "outputs": [],
   "source": [
    "# YOUR CODE HERE\n",
    "# You can create more cells by clicking on the side of the cell + the letter b!"
   ]
  },
  {
   "cell_type": "code",
   "execution_count": 16,
   "metadata": {},
   "outputs": [],
   "source": [
    "todays_log.add('12:00', mcd_fries, 1)"
   ]
  },
  {
   "cell_type": "code",
   "execution_count": 17,
   "metadata": {},
   "outputs": [],
   "source": [
    "todays_log.add('13:00', bk_fries, 1)"
   ]
  },
  {
   "cell_type": "markdown",
   "metadata": {},
   "source": [
    "**Directions**: Use the method you wrote to calculate the total number of calories that were eaten for this day."
   ]
  },
  {
   "cell_type": "code",
   "execution_count": 18,
   "metadata": {},
   "outputs": [],
   "source": [
    "# YOUR CODE HERE\n",
    "# You can create more cells by clicking on the side of the cell + the letter b!"
   ]
  },
  {
   "cell_type": "code",
   "execution_count": 19,
   "metadata": {},
   "outputs": [
    {
     "data": {
      "text/plain": [
       "547"
      ]
     },
     "execution_count": 19,
     "metadata": {},
     "output_type": "execute_result"
    }
   ],
   "source": [
    "todays_log.calorieCount()"
   ]
  },
  {
   "cell_type": "markdown",
   "metadata": {},
   "source": [
    "**Directions**: Print out today's log in a semi-convenient way. It can just be a list."
   ]
  },
  {
   "cell_type": "code",
   "execution_count": 20,
   "metadata": {},
   "outputs": [],
   "source": [
    "# YOUR CODE HERE\n",
    "# You can create more cells by clicking on the side of the cell + the letter b!"
   ]
  },
  {
   "cell_type": "code",
   "execution_count": 21,
   "metadata": {},
   "outputs": [
    {
     "data": {
      "text/plain": [
       "['2020-06-02',\n",
       " ['12:00', '13:00'],\n",
       " [<__main__.food at 0x109a57ad0>, <__main__.food at 0x10b113410>],\n",
       " [1, 1],\n",
       " 547]"
      ]
     },
     "execution_count": 21,
     "metadata": {},
     "output_type": "execute_result"
    }
   ],
   "source": [
    "todays_log.display()"
   ]
  },
  {
   "cell_type": "markdown",
   "metadata": {},
   "source": [
    "# Reflection\n",
    "Type out a reflection on what you learned and what you're still confused about below!"
   ]
  },
  {
   "cell_type": "markdown",
   "metadata": {},
   "source": [
    "~ * Write your reflection here * ~"
   ]
  }
 ],
 "metadata": {
  "kernelspec": {
   "display_name": "Python 3",
   "language": "python",
   "name": "python3"
  },
  "language_info": {
   "codemirror_mode": {
    "name": "ipython",
    "version": 3
   },
   "file_extension": ".py",
   "mimetype": "text/x-python",
   "name": "python",
   "nbconvert_exporter": "python",
   "pygments_lexer": "ipython3",
   "version": "3.7.4"
  }
 },
 "nbformat": 4,
 "nbformat_minor": 2
}
