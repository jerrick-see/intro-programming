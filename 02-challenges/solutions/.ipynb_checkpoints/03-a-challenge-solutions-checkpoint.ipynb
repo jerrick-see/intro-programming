{
 "cells": [
  {
   "cell_type": "markdown",
   "metadata": {},
   "source": [
    "# Challenge 3A.\n",
    "\n",
    "## Functions\n",
    "- Calculate the BMI of a person\n",
    "- Calculate TDEE\n",
    "\n",
    "## While\n",
    "- While loop asking for how what they eat for dinner\n",
    "- While loop asking for how many calories they thought it was\n",
    "\n",
    "## For\n",
    "- For loop to create a list of lists\n",
    "    - System time"
   ]
  },
  {
   "cell_type": "code",
   "execution_count": null,
   "metadata": {},
   "outputs": [],
   "source": []
  }
 ],
 "metadata": {
  "kernelspec": {
   "display_name": "Python 3",
   "language": "python",
   "name": "python3"
  },
  "language_info": {
   "codemirror_mode": {
    "name": "ipython",
    "version": 3
   },
   "file_extension": ".py",
   "mimetype": "text/x-python",
   "name": "python",
   "nbconvert_exporter": "python",
   "pygments_lexer": "ipython3",
   "version": "3.7.4"
  }
 },
 "nbformat": 4,
 "nbformat_minor": 2
}
