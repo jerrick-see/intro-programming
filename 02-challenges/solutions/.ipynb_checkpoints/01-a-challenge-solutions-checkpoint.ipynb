{
 "cells": [
  {
   "cell_type": "markdown",
   "metadata": {},
   "source": [
    "# Challenge 1A.\n",
    "In Lesson 1, we covered significant downloads and lots of introductory programming concepts. Now, we're going to put forth the skills we learned."
   ]
  },
  {
   "cell_type": "markdown",
   "metadata": {},
   "source": [
    "## \"Shelter\" by Porter Robinson\n",
    "\n",
    "<img src='https://www.edmtunes.com/wp-content/uploads/2018/10/Io3zJuh.jpg' width=800>\n",
    "\n",
    "Here are the lyrics to Porter Robinson's \"Shelter\"."
   ]
  },
  {
   "cell_type": "code",
   "execution_count": 1,
   "metadata": {},
   "outputs": [],
   "source": [
    "shelter = '''\n",
    "\n",
    "I could never find the right way to tell you\n",
    "Have you noticed I've been gone?\n",
    "'Cause I left behind the home that you made me\n",
    "But I will carry it along\n",
    "And it's a long way forward, so trust in me\n",
    "I'll give them shelter, like you've done for me\n",
    "And I know, I'm not alone, you'll be watching over us\n",
    "Until you're gone\n",
    "\n",
    "'''"
   ]
  },
  {
   "cell_type": "markdown",
   "metadata": {},
   "source": [
    "Try printing out `shelter` in two ways. First, call the variable name by itself. Then do it using the `print()` function. Do this in two chunks. You can create a new chunk by click insert new chunk. There is also a hotkey for this which is by pressing on the left side of a chunk then clicking `b` to make a chunk below the selected chunk. Click `a` to make a chunk above the selected chunk."
   ]
  },
  {
   "cell_type": "code",
   "execution_count": 2,
   "metadata": {},
   "outputs": [
    {
     "data": {
      "text/plain": [
       "\"\\n\\nI could never find the right way to tell you\\nHave you noticed I've been gone?\\n'Cause I left behind the home that you made me\\nBut I will carry it along\\nAnd it's a long way forward, so trust in me\\nI'll give them shelter, like you've done for me\\nAnd I know, I'm not alone, you'll be watching over us\\nUntil you're gone\\n\\n\""
      ]
     },
     "execution_count": 2,
     "metadata": {},
     "output_type": "execute_result"
    }
   ],
   "source": [
    "shelter"
   ]
  },
  {
   "cell_type": "code",
   "execution_count": 3,
   "metadata": {},
   "outputs": [
    {
     "name": "stdout",
     "output_type": "stream",
     "text": [
      "\n",
      "\n",
      "I could never find the right way to tell you\n",
      "Have you noticed I've been gone?\n",
      "'Cause I left behind the home that you made me\n",
      "But I will carry it along\n",
      "And it's a long way forward, so trust in me\n",
      "I'll give them shelter, like you've done for me\n",
      "And I know, I'm not alone, you'll be watching over us\n",
      "Until you're gone\n",
      "\n",
      "\n"
     ]
    }
   ],
   "source": [
    "print(shelter)"
   ]
  },
  {
   "cell_type": "markdown",
   "metadata": {},
   "source": [
    "Use code to find out what type of variable `shelter` is."
   ]
  },
  {
   "cell_type": "code",
   "execution_count": 4,
   "metadata": {},
   "outputs": [
    {
     "data": {
      "text/plain": [
       "str"
      ]
     },
     "execution_count": 4,
     "metadata": {},
     "output_type": "execute_result"
    }
   ],
   "source": [
    "type(shelter)"
   ]
  },
  {
   "cell_type": "markdown",
   "metadata": {},
   "source": [
    "Can you count how many characters are inside `shelter`?"
   ]
  },
  {
   "cell_type": "code",
   "execution_count": 5,
   "metadata": {},
   "outputs": [
    {
     "data": {
      "text/plain": [
       "318"
      ]
     },
     "execution_count": 5,
     "metadata": {},
     "output_type": "execute_result"
    }
   ],
   "source": [
    "len(shelter)"
   ]
  },
  {
   "cell_type": "markdown",
   "metadata": {},
   "source": [
    "String manipulation is an important function in Python. Since we have a lot newline characters in our string (mostly because of aesthetic formatting), we can use the `.strip()` method on `shelter`. A method is similar to a function! That's all you need to know for now other than a function wraps around a variable and a method is placed at the end of a variable name with a period before it.\n",
    "\n",
    "Try typing `shelter.strip()`."
   ]
  },
  {
   "cell_type": "code",
   "execution_count": 6,
   "metadata": {},
   "outputs": [
    {
     "data": {
      "text/plain": [
       "\"I could never find the right way to tell you\\nHave you noticed I've been gone?\\n'Cause I left behind the home that you made me\\nBut I will carry it along\\nAnd it's a long way forward, so trust in me\\nI'll give them shelter, like you've done for me\\nAnd I know, I'm not alone, you'll be watching over us\\nUntil you're gone\""
      ]
     },
     "execution_count": 6,
     "metadata": {},
     "output_type": "execute_result"
    }
   ],
   "source": [
    "shelter.strip()"
   ]
  },
  {
   "cell_type": "markdown",
   "metadata": {},
   "source": [
    "You'll notice that `.strip()` removes extra formatting. See how there are no extra `\\n` characters before and after the actual lyrics?\n",
    "\n",
    "Save the stripped version of `shelter` to a new variable called `shelter_u`. Then, print it out using the `print()` function."
   ]
  },
  {
   "cell_type": "code",
   "execution_count": 7,
   "metadata": {},
   "outputs": [
    {
     "name": "stdout",
     "output_type": "stream",
     "text": [
      "I could never find the right way to tell you\n",
      "Have you noticed I've been gone?\n",
      "'Cause I left behind the home that you made me\n",
      "But I will carry it along\n",
      "And it's a long way forward, so trust in me\n",
      "I'll give them shelter, like you've done for me\n",
      "And I know, I'm not alone, you'll be watching over us\n",
      "Until you're gone\n"
     ]
    }
   ],
   "source": [
    "shelter_u = shelter.strip()\n",
    "print(shelter_u)"
   ]
  },
  {
   "cell_type": "markdown",
   "metadata": {},
   "source": [
    "We are going to use the `.replace()` method to change the lyrics! Whaaaat? Noooo! Haha. The format for the `.replace()` method is like this:\n",
    "\n",
    "`some_string.replace('Pattern Existing', 'Pattern To Replace With')`.\n",
    "\n",
    "Use the `.replace()` method to replace all the \"I\" characters with \"You\" in `shelter_u`. Save this new string as `shelter_u`. That is, reassign `shelter_u` to this new replaced version of it. Then, `print()` it out."
   ]
  },
  {
   "cell_type": "code",
   "execution_count": 8,
   "metadata": {},
   "outputs": [
    {
     "name": "stdout",
     "output_type": "stream",
     "text": [
      "You could never find the right way to tell you\n",
      "Have you noticed You've been gone?\n",
      "'Cause You left behind the home that you made me\n",
      "But You will carry it along\n",
      "And it's a long way forward, so trust in me\n",
      "You'll give them shelter, like you've done for me\n",
      "And You know, You'm not alone, you'll be watching over us\n",
      "Until you're gone\n"
     ]
    }
   ],
   "source": [
    "shelter_u = shelter_u.replace('I', 'You')\n",
    "print(shelter_u)"
   ]
  },
  {
   "cell_type": "markdown",
   "metadata": {},
   "source": [
    "Next, replace all the `\\n` with spaces `' '` in `shelter_u` and reassign this update to `shelter_u`. Then, print it out."
   ]
  },
  {
   "cell_type": "code",
   "execution_count": 9,
   "metadata": {},
   "outputs": [
    {
     "name": "stdout",
     "output_type": "stream",
     "text": [
      "You could never find the right way to tell you Have you noticed You've been gone? 'Cause You left behind the home that you made me But You will carry it along And it's a long way forward, so trust in me You'll give them shelter, like you've done for me And You know, You'm not alone, you'll be watching over us Until you're gone\n"
     ]
    }
   ],
   "source": [
    "shelter_u = shelter_u.replace('\\n', ' ')\n",
    "print(shelter_u)"
   ]
  },
  {
   "cell_type": "markdown",
   "metadata": {},
   "source": [
    "We are going to use the `.split()` method. This method takes a string and chops it up according to a pattern you propose. Try using `.split(' ')` on `shelter_u`. Save it to `shelter_l`. Then, print it out."
   ]
  },
  {
   "cell_type": "code",
   "execution_count": 10,
   "metadata": {},
   "outputs": [
    {
     "name": "stdout",
     "output_type": "stream",
     "text": [
      "['You', 'could', 'never', 'find', 'the', 'right', 'way', 'to', 'tell', 'you', 'Have', 'you', 'noticed', \"You've\", 'been', 'gone?', \"'Cause\", 'You', 'left', 'behind', 'the', 'home', 'that', 'you', 'made', 'me', 'But', 'You', 'will', 'carry', 'it', 'along', 'And', \"it's\", 'a', 'long', 'way', 'forward,', 'so', 'trust', 'in', 'me', \"You'll\", 'give', 'them', 'shelter,', 'like', \"you've\", 'done', 'for', 'me', 'And', 'You', 'know,', \"You'm\", 'not', 'alone,', \"you'll\", 'be', 'watching', 'over', 'us', 'Until', \"you're\", 'gone']\n"
     ]
    }
   ],
   "source": [
    "shelter_l = shelter_u.split(' ')\n",
    "print(shelter_l)"
   ]
  },
  {
   "cell_type": "markdown",
   "metadata": {},
   "source": [
    "What is the data type of `shelter_l`?"
   ]
  },
  {
   "cell_type": "code",
   "execution_count": 11,
   "metadata": {},
   "outputs": [
    {
     "data": {
      "text/plain": [
       "list"
      ]
     },
     "execution_count": 11,
     "metadata": {},
     "output_type": "execute_result"
    }
   ],
   "source": [
    "type(shelter_l)"
   ]
  },
  {
   "cell_type": "markdown",
   "metadata": {},
   "source": [
    "How many words are in this excerpt of the song?"
   ]
  },
  {
   "cell_type": "code",
   "execution_count": 12,
   "metadata": {},
   "outputs": [
    {
     "data": {
      "text/plain": [
       "65"
      ]
     },
     "execution_count": 12,
     "metadata": {},
     "output_type": "execute_result"
    }
   ],
   "source": [
    "len(shelter_l)"
   ]
  },
  {
   "cell_type": "markdown",
   "metadata": {},
   "source": [
    "We have all the goods now to try writing an if else statement. Here's the idea.\n",
    "\n",
    "0. We are given by some user a string of lyrics.\n",
    "1. Next, we have to check if what the user is given to us is a string or not! If it is a string, then we will continue to count how many words there are in the provided user lyrics. If not, then we will decline the user. \n",
    "2. We will count how many characters there are in the lyrics and how many words there are. This will require several different functions, and these functions are not so quickly mirrored by the above pipeline of functions!\n",
    "3. Print out the number of characters and the number of words at the end of our if else statement.\n",
    "\n",
    "First, start by using `shelter`. Check if it is a string or not using an if-else statement. You can check if `type(obj)==str` for a string. If `shelter` is a string, print 'Yes', if it isn't, print 'No'."
   ]
  },
  {
   "cell_type": "code",
   "execution_count": 13,
   "metadata": {},
   "outputs": [
    {
     "name": "stdout",
     "output_type": "stream",
     "text": [
      "Yes\n"
     ]
    }
   ],
   "source": [
    "if type(shelter)==str:\n",
    "    print('Yes')\n",
    "else:\n",
    "    print('No')"
   ]
  },
  {
   "cell_type": "markdown",
   "metadata": {},
   "source": [
    "Update the if/else statement above to clean up the lyrics if it is a string. Then, use `len()` to count up the number of words and the number of lyrics. Provide a nicely printed message to the user about how many characters and words there are in \"Shelter\"."
   ]
  },
  {
   "cell_type": "code",
   "execution_count": 14,
   "metadata": {},
   "outputs": [
    {
     "name": "stdout",
     "output_type": "stream",
     "text": [
      "I could never find the right way to tell you Have you noticed I've been gone? 'Cause I left behind the home that you made me But I will carry it along And it's a long way forward, so trust in me I'll give them shelter, like you've done for me And I know, I'm not alone, you'll be watching over us Until you're gone\n",
      "314\n",
      "['I', 'could', 'never', 'find', 'the', 'right', 'way', 'to', 'tell', 'you', 'Have', 'you', 'noticed', \"I've\", 'been', 'gone?', \"'Cause\", 'I', 'left', 'behind', 'the', 'home', 'that', 'you', 'made', 'me', 'But', 'I', 'will', 'carry', 'it', 'along', 'And', \"it's\", 'a', 'long', 'way', 'forward,', 'so', 'trust', 'in', 'me', \"I'll\", 'give', 'them', 'shelter,', 'like', \"you've\", 'done', 'for', 'me', 'And', 'I', 'know,', \"I'm\", 'not', 'alone,', \"you'll\", 'be', 'watching', 'over', 'us', 'Until', \"you're\", 'gone']\n",
      "65\n",
      "There are 314 characters, and there are 65 words in \"Shelter\".\n"
     ]
    }
   ],
   "source": [
    "# HOW I BUILT THE ANSWER\n",
    "if type(shelter)==str:\n",
    "    clean_lyrics = shelter.strip().replace('\\n', ' ')\n",
    "    print(clean_lyrics)\n",
    "    print(len(clean_lyrics))\n",
    "    \n",
    "    list_lyrics = clean_lyrics.split(' ')\n",
    "    print(list_lyrics)\n",
    "    print(len(list_lyrics))\n",
    "    \n",
    "    print('There are', len(clean_lyrics), 'characters, and there are', len(list_lyrics), 'words in \"Shelter\".')\n",
    "    \n",
    "else:\n",
    "    print('No')"
   ]
  },
  {
   "cell_type": "code",
   "execution_count": 16,
   "metadata": {},
   "outputs": [
    {
     "name": "stdout",
     "output_type": "stream",
     "text": [
      "There are 314 characters, and there are 65 words in \"Shelter\".\n"
     ]
    }
   ],
   "source": [
    "# FINAL ANSWER\n",
    "if type(shelter)==str:\n",
    "    clean_lyrics = shelter.strip().replace('\\n', ' ')\n",
    "    list_lyrics = clean_lyrics.split(' ')\n",
    "    \n",
    "    print('There are', len(clean_lyrics), 'characters, and there are', len(list_lyrics), 'words in \"Shelter\".')\n",
    "    \n",
    "else:\n",
    "    print('Please provide a string of lyrics.')"
   ]
  },
  {
   "cell_type": "markdown",
   "metadata": {},
   "source": [
    "An important part of programming is error checking. Notice that we are checking that the input data are in the right format. Below, try to use your if-else statement on a variable that is not a string, i.e. a number or a boolean. You'll have to change all of the places in the if-else statement where you referred to `shelter` to this new variable you are creating. Make sure you update the print messages as well if you referred to \"Shelter\"."
   ]
  },
  {
   "cell_type": "code",
   "execution_count": 17,
   "metadata": {},
   "outputs": [
    {
     "name": "stdout",
     "output_type": "stream",
     "text": [
      "Please provide a string of lyrics.\n"
     ]
    }
   ],
   "source": [
    "non_string = 0\n",
    "\n",
    "if type(non_string)==str:\n",
    "    clean_lyrics = non_string.strip().replace('\\n', ' ')\n",
    "    list_lyrics = clean_lyrics.split(' ')\n",
    "    \n",
    "    print('There are', len(clean_lyrics), 'characters, and there are', len(list_lyrics), 'words in this song.')\n",
    "    \n",
    "else:\n",
    "    print('Please provide a string of lyrics.')"
   ]
  },
  {
   "cell_type": "markdown",
   "metadata": {},
   "source": [
    "Now, paste in lyrics of your own in the same fashion as the original `shelter` variable was created. Use your if-else statement to print out the number of characters and words in it."
   ]
  },
  {
   "cell_type": "code",
   "execution_count": 19,
   "metadata": {},
   "outputs": [
    {
     "name": "stdout",
     "output_type": "stream",
     "text": [
      "There are 181 characters, and there are 37 words in \"Concrete Angel\".\n"
     ]
    }
   ],
   "source": [
    "concrete_angel = '''\n",
    "Through the wind and the rain\n",
    "She stands hard as a stone\n",
    "In her world that she can rise above\n",
    "But her dreams give her wings\n",
    "And she flies to a place where\n",
    "She's loved\n",
    "Concrete angel\n",
    "'''\n",
    "\n",
    "if type(concrete_angel)==str:\n",
    "    clean_lyrics = concrete_angel.strip().replace('\\n', ' ')\n",
    "    list_lyrics = clean_lyrics.split(' ')\n",
    "    \n",
    "    print('There are', len(clean_lyrics), 'characters, and there are', len(list_lyrics), 'words in \"Concrete Angel\".')\n",
    "    \n",
    "else:\n",
    "    print('Please provide a string of lyrics.')"
   ]
  },
  {
   "cell_type": "markdown",
   "metadata": {},
   "source": [
    "# Reflection\n",
    "Type out a reflection on what you learned and what you're still confused about below!"
   ]
  },
  {
   "cell_type": "markdown",
   "metadata": {},
   "source": [
    "~ * Write your reflection here * ~"
   ]
  }
 ],
 "metadata": {
  "kernelspec": {
   "display_name": "Python 3",
   "language": "python",
   "name": "python3"
  },
  "language_info": {
   "codemirror_mode": {
    "name": "ipython",
    "version": 3
   },
   "file_extension": ".py",
   "mimetype": "text/x-python",
   "name": "python",
   "nbconvert_exporter": "python",
   "pygments_lexer": "ipython3",
   "version": "3.7.4"
  }
 },
 "nbformat": 4,
 "nbformat_minor": 2
}
