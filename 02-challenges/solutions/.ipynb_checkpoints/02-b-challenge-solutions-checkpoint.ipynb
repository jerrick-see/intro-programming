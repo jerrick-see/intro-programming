{
 "cells": [
  {
   "cell_type": "markdown",
   "metadata": {},
   "source": [
    "# Challenge 2B.\n",
    "We want to use our classes from the previous challenge and make some sort of user interface. This interface should be similar to our ever-beloved MyFitnessPal.\n",
    "\n",
    "<img src='https://hips.hearstapps.com/hmg-prod.s3.amazonaws.com/images/screen-shot-2020-01-16-at-13-37-27-1579181871.png?resize=640:*' width=600>\n",
    "\n",
    "First, let's redefine our classes in this notebook. We are going to do this in a different way than normal.\n",
    "\n",
    "**Directions**:\n",
    "\n",
    "1. Open a text editor on your computer. This **cannot** be Microsoft word, which is a *rich* text editor. This means that there is extra markup in the text that your code will make your code unhappy with you. I recommend downloading and using <a href='https://atom.io/'>Atom</a> which was made by Github. Another super popular text editor is <a href='https://www.sublimetext.com/'>Sublime</a>. Download one of them, then open it up.\n",
    "\n",
    "\n",
    "2. Copy and paste the definition of the classes you made in Challenge 2A into a text file on your text editor.\n",
    "\n",
    "3. Save the file as `02-classes.py`.\n",
    "\n",
    "After all that: Congratulations! You have created your first Python file. And it's nothing too special right? Just a text file with a different extension, `.py` instead of `.txt`."
   ]
  },
  {
   "cell_type": "code",
   "execution_count": 1,
   "metadata": {},
   "outputs": [],
   "source": [
    "# RUN THIS AFTER YOU HAVE COMPLETED STEPS (1) - (3)\n",
    "%run '02-classes.py'"
   ]
  },
  {
   "cell_type": "markdown",
   "metadata": {},
   "source": [
    "What was the point of doing the above step? Well, sometimes you really don't need to show all your code in a Jupyter notebook. It was just a way to keep this particular Challenge 2B Jupyter notebook clean and to the point. If we hadn't used `%run '02-classes.py`, we could have indeed just pasted in our code from the previous notebook and ran it in the above chunk. This would just take up a lot of space and look kind of bulky.\n",
    "\n",
    "**Directions**: Now, copy and paste your code of creating `mcd_fries` below. Calculate the serving size in grams, the calories, and display the food."
   ]
  },
  {
   "cell_type": "code",
   "execution_count": null,
   "metadata": {},
   "outputs": [],
   "source": [
    "# YOUR CODE HERE\n",
    "# You can create more cells by clicking on the side of the cell + the letter b!"
   ]
  },
  {
   "cell_type": "code",
   "execution_count": 2,
   "metadata": {},
   "outputs": [
    {
     "data": {
      "text/plain": [
       "(42, 218)"
      ]
     },
     "execution_count": 2,
     "metadata": {},
     "output_type": "execute_result"
    }
   ],
   "source": [
    "mcd_fries = food(\"McDonald's\", 'Small World Famous Fries')\n",
    "mcd_fries.macros(protein=3, fat=10, carbs=29)\n",
    "mcd_fries.calculateServingGrams(), mcd_fries.calculateCalories()"
   ]
  },
  {
   "cell_type": "code",
   "execution_count": 3,
   "metadata": {
    "scrolled": true
   },
   "outputs": [
    {
     "data": {
      "text/plain": [
       "[\"McDonald's\", 'Small World Famous Fries', 218, 42]"
      ]
     },
     "execution_count": 3,
     "metadata": {},
     "output_type": "execute_result"
    }
   ],
   "source": [
    "mcd_fries.display()"
   ]
  },
  {
   "cell_type": "markdown",
   "metadata": {},
   "source": [
    "# Part 1: Create `diary` class.\n",
    "Now, let's create a class called `diary` that will contain \n",
    "\n",
    "- List of dates logged\n",
    "- List of class 2 objects (the day's foods information)\n",
    "\n",
    "This class should be much shorter in comparison to the classes we created in Challenge 2A."
   ]
  },
  {
   "cell_type": "code",
   "execution_count": null,
   "metadata": {},
   "outputs": [],
   "source": [
    "# YOUR CODE HERE\n",
    "# You can create more cells by clicking on the side of the cell + the letter b!"
   ]
  },
  {
   "cell_type": "code",
   "execution_count": 5,
   "metadata": {},
   "outputs": [],
   "source": [
    "class diary:\n",
    "    def __init__(self):\n",
    "        self.dates = []\n",
    "        self.logs = []\n",
    "        \n",
    "    def add(self, daily_log):\n",
    "        self.dates.append(daily_log.date)\n",
    "        self.logs.append(daily_log)"
   ]
  },
  {
   "cell_type": "markdown",
   "metadata": {},
   "source": [
    "**Directions**: Use the classes you created in Challenge 2A and 2B to log the calories below. The macros are in `Carb / Fat / Protein` order. \n",
    "\n",
    "- **Day 1**\n",
    "    - 11:00\n",
    "        - Quaker, Maple and Brown Sugar Oatmeal: 32 / 2 / 4\n",
    "    - 15:00\n",
    "        - Generic, Salmon Poke Bowl: 38 / 37 / 49\n",
    "    - 19:00\n",
    "        - Boba Guys, Jasmine Milk Tea: 42 / 4 / 4\n",
    "- **Day 2**\n",
    "    - 10:30\n",
    "        - Quaker, Maple and Brown Sugar Oatmeal: 32 / 2 / 4\n",
    "        - Generic, Soft-boiled egg: 1 / 5 / 6\n",
    "    - 18:00\n",
    "        - Chipotle, Steak Burrito: 103 / 32 / 54\n",
    "    - 20:00\n",
    "        - Mrs. Fields, White Chunk Macademia: 18 / 6 / 1\n"
   ]
  },
  {
   "cell_type": "code",
   "execution_count": null,
   "metadata": {},
   "outputs": [],
   "source": [
    "# YOUR CODE HERE\n",
    "# You can create more cells by clicking on the side of the cell + the letter b!"
   ]
  },
  {
   "cell_type": "code",
   "execution_count": 10,
   "metadata": {},
   "outputs": [
    {
     "data": {
      "text/plain": [
       "(25, 130)"
      ]
     },
     "execution_count": 10,
     "metadata": {},
     "output_type": "execute_result"
    }
   ],
   "source": [
    "# DAY 1 FOODS\n",
    "oatmeal = food('Quaker', 'Maple and Brown Sugar Oatmeal')\n",
    "oatmeal.macros(carbs=32, fat=2, protein=4)\n",
    "oatmeal.calculateServingGrams(), oatmeal.calculateCalories()\n",
    "\n",
    "poke = food('Generic', 'Salmon Poke Bowl')\n",
    "poke.macros(carbs=38, fat=37, protein=49)\n",
    "poke.calculateServingGrams(), poke.calculateCalories()\n",
    "\n",
    "boba = food('Boba Guys', 'Jasmine Milk Tea')\n",
    "boba.macros(carbs=42, fat=4, protein=4)\n",
    "boba.calculateServingGrams(), boba.calculateCalories()\n",
    "\n",
    "# DAY 2 FOODS\n",
    "# We already made an oatmeal food, so we shall skip that.\n",
    "soft_egg = food('Generic', 'Soft-boiled egg')\n",
    "soft_egg.macros(carbs=1, fat=5, protein=6)\n",
    "soft_egg.calculateServingGrams(), soft_egg.calculateCalories()\n",
    "\n",
    "burrito = food('Chipotle', 'Steak burrito')\n",
    "burrito.macros(carbs=103, fat=32, protein=54)\n",
    "burrito.calculateServingGrams(), burrito.calculateCalories()\n",
    "\n",
    "cookie = food('Mrs. Fields', 'White chunk macademia')\n",
    "cookie.macros(carbs=18, fat=6, protein=1)\n",
    "cookie.calculateServingGrams(), cookie.calculateCalories()"
   ]
  },
  {
   "cell_type": "markdown",
   "metadata": {},
   "source": [
    "# Part 2: Make a user interface.\n",
    "Use `input()` statements and the classes we created in challenges 2A and 2B to collect information in a helpful manner."
   ]
  },
  {
   "cell_type": "code",
   "execution_count": null,
   "metadata": {},
   "outputs": [],
   "source": [
    "# YOUR CODE HERE\n",
    "# You can create more cells by clicking on the side of the cell + the letter b!"
   ]
  }
 ],
 "metadata": {
  "kernelspec": {
   "display_name": "Python 3",
   "language": "python",
   "name": "python3"
  },
  "language_info": {
   "codemirror_mode": {
    "name": "ipython",
    "version": 3
   },
   "file_extension": ".py",
   "mimetype": "text/x-python",
   "name": "python",
   "nbconvert_exporter": "python",
   "pygments_lexer": "ipython3",
   "version": "3.7.4"
  }
 },
 "nbformat": 4,
 "nbformat_minor": 2
}
