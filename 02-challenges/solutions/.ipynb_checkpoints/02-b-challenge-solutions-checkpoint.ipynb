{
 "cells": [
  {
   "cell_type": "markdown",
   "metadata": {},
   "source": [
    "# Challenge 2B.\n",
    "We want to use our classes from the previous challenge and make some sort of user interface. This interface is going to need to have several data validation checks. First, let's redefine our classes in this notebook."
   ]
  },
  {
   "cell_type": "code",
   "execution_count": null,
   "metadata": {},
   "outputs": [],
   "source": [
    "# YOUR CODE HERE\n",
    "# You can create more cells by clicking on the side of the cell + the letter b!"
   ]
  },
  {
   "cell_type": "markdown",
   "metadata": {},
   "source": [
    "Now, let's create a class called `diary` that will contain \n",
    "\n",
    "- List of dates logged\n",
    "- List of class 2 objects (the day's foods information)"
   ]
  },
  {
   "cell_type": "code",
   "execution_count": null,
   "metadata": {},
   "outputs": [],
   "source": [
    "# YOUR CODE HERE\n",
    "# You can create more cells by clicking on the side of the cell + the letter b!"
   ]
  },
  {
   "cell_type": "markdown",
   "metadata": {},
   "source": [
    "Each day that a user wants to log calories, they will need to run the following chunk. To try and keep things simpler, let's attempt to log 2 days of food. Foods will be recorded as `Source, Food: Carb / Fat / Protein`.\n",
    "\n",
    "- **Day 1**\n",
    "    - 11:00\n",
    "        - Quaker, Maple and Brown Sugar Oatmeal: 32 / 2 / 4\n",
    "    - 15:00\n",
    "        - Generic, Salmon Poke Bowl: 38 / 37 / 49\n",
    "    - 19:00\n",
    "        - Boba Guys, Jasmine Milk Tea: 42 / 4 / 4\n",
    "- **Day 2**\n",
    "    - 10:30\n",
    "        - Quaker, Maple and Brown Sugar Oatmeal: 32 / 2 / 4\n",
    "        - Generic, Soft-boiled egg: 1 / 5 / 6\n",
    "    - 18:00\n",
    "        - Chipotle, Steak Burrito: 103 / 32 / 54\n",
    "    - 20:00\n",
    "        - Mrs. Fields, White Chunk Macademia: 18 / 6 / 1\n",
    "        \n",
    "Use `input()` statements and the classes we created in challenges 2A and 2B to collect information in a helpful manner."
   ]
  },
  {
   "cell_type": "code",
   "execution_count": null,
   "metadata": {},
   "outputs": [],
   "source": [
    "# YOUR CODE HERE\n",
    "# You can create more cells by clicking on the side of the cell + the letter b!"
   ]
  }
 ],
 "metadata": {
  "kernelspec": {
   "display_name": "Python 3",
   "language": "python",
   "name": "python3"
  },
  "language_info": {
   "codemirror_mode": {
    "name": "ipython",
    "version": 3
   },
   "file_extension": ".py",
   "mimetype": "text/x-python",
   "name": "python",
   "nbconvert_exporter": "python",
   "pygments_lexer": "ipython3",
   "version": "3.7.4"
  }
 },
 "nbformat": 4,
 "nbformat_minor": 2
}
