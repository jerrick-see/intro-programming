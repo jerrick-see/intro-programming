{
 "cells": [
  {
   "cell_type": "markdown",
   "metadata": {},
   "source": [
    "# Challenge 2A."
   ]
  },
  {
   "cell_type": "markdown",
   "metadata": {},
   "source": [
    "CICO stands for \"calories in, calories out\". This is a type of paradigm we use to lose weight. While CICO is the baseline for weight loss, we will also need to track macronutrients. There are three macronutrients: protein, fat, and carbohydrates. In this challenge, we are going to create several useful objects to track calories and macronutrients of foods. This class will rely on user input, just like MyFitnessPal, to name the food, the serving size in grams, and the macronutrient content.\n",
    "\n",
    "The first class will be an object that will contain\n",
    "\n",
    "- Food name  \n",
    "- Serving size in grams  \n",
    "- Protein in grams\n",
    "- Fat in grams\n",
    "- Carbs in grams\n",
    "\n",
    "Using the macronutrients as a basis, this first class will have a method that will calculate how many kCal are in the food."
   ]
  },
  {
   "cell_type": "markdown",
   "metadata": {},
   "source": [
    "# Challenge 3A.\n",
    "\n",
    "## Functions\n",
    "- Calculate the BMI of a person\n",
    "- Calculate TDEE\n",
    "\n",
    "## While\n",
    "- While loop asking for how what they eat for dinner\n",
    "- While loop asking for how many calories they thought it was\n",
    "\n",
    "## For\n",
    "- For loop to create a list of lists\n",
    "    - System time"
   ]
  },
  {
   "cell_type": "code",
   "execution_count": null,
   "metadata": {},
   "outputs": [],
   "source": []
  }
 ],
 "metadata": {
  "kernelspec": {
   "display_name": "Python 3",
   "language": "python",
   "name": "python3"
  },
  "language_info": {
   "codemirror_mode": {
    "name": "ipython",
    "version": 3
   },
   "file_extension": ".py",
   "mimetype": "text/x-python",
   "name": "python",
   "nbconvert_exporter": "python",
   "pygments_lexer": "ipython3",
   "version": "3.7.4"
  }
 },
 "nbformat": 4,
 "nbformat_minor": 2
}
