{
 "cells": [
  {
   "cell_type": "markdown",
   "metadata": {},
   "source": [
    "# Challenge 2A."
   ]
  },
  {
   "cell_type": "markdown",
   "metadata": {},
   "source": [
    "CICO stands for \"calories in, calories out\". This is a type of paradigm we use to lose weight. While CICO is the baseline for weight loss, we will also need to track macronutrients. There are three macronutrients: protein, fat, and carbohydrates. In this challenge, we are going to create several useful objects to track calories and macronutrients of foods. This class will rely on user input, just like MyFitnessPal, to name the food, the serving size in grams, and the macronutrient content.\n",
    "\n",
    "## Class 1: Food.\n",
    "The first class will be an object that will contain at least\n",
    "\n",
    "- Source (Restaurant/Generic)\n",
    "- Food name\n",
    "- Protein in grams\n",
    "- Fat in grams\n",
    "- Carbs in grams\n",
    "\n",
    "and will also carry these attributes. \n",
    "\n",
    "- Serving size kCal\n",
    "- Serving size in grams\n",
    "\n",
    "Using the macronutrients as a basis, this first class will have a method that will calculate how many kCal are in the food. Here is a reminder about calories per macronutrient:  \n",
    "\n",
    "- Carbohydrate: 4 kCal/g\n",
    "- Protein: 4 kCal/g  \n",
    "- Fat: 9 kCal/g\n",
    "\n",
    "It will also have a method that will calculate serving size in grams by adding protein, fat, and carb grams together. There should be a method of printing all the information out in a list.\n",
    "\n",
    "## Class 2: Daily Log.\n",
    "The second class will be a day's worth of food. This object should contain\n",
    "\n",
    "- List of times eaten (24-hour clock)\n",
    "- List of class 1 objects (the foods eaten)\n",
    "- List of numbers of servings\n",
    "- Total kCal"
   ]
  },
  {
   "cell_type": "code",
   "execution_count": null,
   "metadata": {},
   "outputs": [],
   "source": [
    "# YOUR CODE HERE\n",
    "# You can create more cells by clicking on the side of the cell + the letter b!"
   ]
  },
  {
   "cell_type": "markdown",
   "metadata": {},
   "source": [
    "## Testing Classes.\n",
    "Use your classes to store the following information."
   ]
  },
  {
   "cell_type": "code",
   "execution_count": null,
   "metadata": {},
   "outputs": [],
   "source": [
    "# YOUR CODE HERE\n",
    "# You can create more cells by clicking on the side of the cell + the letter b!"
   ]
  }
 ],
 "metadata": {
  "kernelspec": {
   "display_name": "Python 3",
   "language": "python",
   "name": "python3"
  },
  "language_info": {
   "codemirror_mode": {
    "name": "ipython",
    "version": 3
   },
   "file_extension": ".py",
   "mimetype": "text/x-python",
   "name": "python",
   "nbconvert_exporter": "python",
   "pygments_lexer": "ipython3",
   "version": "3.7.4"
  }
 },
 "nbformat": 4,
 "nbformat_minor": 2
}
