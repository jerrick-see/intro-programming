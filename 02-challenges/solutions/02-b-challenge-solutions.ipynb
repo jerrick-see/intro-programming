{
 "cells": [
  {
   "cell_type": "markdown",
   "metadata": {},
   "source": [
    "# Challenge 2B.\n",
    "We want to use our classes from the previous challenge and make some sort of user interface. This interface should be similar to our ever-beloved MyFitnessPal.\n",
    "\n",
    "<img src='https://hips.hearstapps.com/hmg-prod.s3.amazonaws.com/images/screen-shot-2020-01-16-at-13-37-27-1579181871.png?resize=640:*' width=600>\n",
    "\n",
    "First, let's redefine our classes in this notebook. We are going to do this in a different way than normal.\n",
    "\n",
    "**Directions**:\n",
    "\n",
    "1. Open a text editor on your computer. This **cannot** be Microsoft word, which is a *rich* text editor. This means that there is extra markup in the text that your code will make your code unhappy with you. I recommend downloading and using <a href='https://atom.io/'>Atom</a> which was made by Github. Another super popular text editor is <a href='https://www.sublimetext.com/'>Sublime</a>. Download one of them, then open it up.\n",
    "\n",
    "\n",
    "2. Copy and paste the definition of the classes you made in Challenge 2A into a text file on your text editor.\n",
    "\n",
    "3. Save the file as `02-classes.py`.\n",
    "\n",
    "After all that: Congratulations! You have created your first Python file. And it's nothing too special right? Just a text file with a different extension, `.py` instead of `.txt`."
   ]
  },
  {
   "cell_type": "code",
   "execution_count": 1,
   "metadata": {},
   "outputs": [],
   "source": [
    "# RUN THIS AFTER YOU HAVE COMPLETED STEPS (1) - (3)\n",
    "%run '02-classes.py'"
   ]
  },
  {
   "cell_type": "markdown",
   "metadata": {},
   "source": [
    "What was the point of doing the above step? Well, sometimes you really don't need to show all your code in a Jupyter notebook. It was just a way to keep this particular Challenge 2B Jupyter notebook clean and to the point. If we hadn't used `%run '02-classes.py`, we could have indeed just pasted in our code from the previous notebook and ran it in the above chunk. This would just take up a lot of space and look kind of bulky.\n",
    "\n",
    "**Directions**: Now, copy and paste your code of creating `mcd_fries` below. Calculate the serving size in grams, the calories, and display the food."
   ]
  },
  {
   "cell_type": "code",
   "execution_count": 2,
   "metadata": {},
   "outputs": [],
   "source": [
    "# YOUR CODE HERE\n",
    "# You can create more cells by clicking on the side of the cell + the letter b!"
   ]
  },
  {
   "cell_type": "code",
   "execution_count": 3,
   "metadata": {},
   "outputs": [
    {
     "data": {
      "text/plain": [
       "(42, 218)"
      ]
     },
     "execution_count": 3,
     "metadata": {},
     "output_type": "execute_result"
    }
   ],
   "source": [
    "mcd_fries = food(\"McDonald's\", 'Small World Famous Fries')\n",
    "mcd_fries.macros(protein=3, fat=10, carbs=29)\n",
    "mcd_fries.calculateServingGrams(), mcd_fries.calculateCalories()"
   ]
  },
  {
   "cell_type": "code",
   "execution_count": 4,
   "metadata": {
    "scrolled": true
   },
   "outputs": [
    {
     "data": {
      "text/plain": [
       "[\"McDonald's\", 'Small World Famous Fries', 218, 42]"
      ]
     },
     "execution_count": 4,
     "metadata": {},
     "output_type": "execute_result"
    }
   ],
   "source": [
    "mcd_fries.display()"
   ]
  },
  {
   "cell_type": "markdown",
   "metadata": {},
   "source": [
    "# Part 1: Create `diary` class.\n",
    "Now, let's create a class called `diary` that will contain \n",
    "\n",
    "- List of dates logged\n",
    "- List of class 2 objects (the day's foods information)\n",
    "\n",
    "This class should be much shorter in comparison to the classes we created in Challenge 2A."
   ]
  },
  {
   "cell_type": "code",
   "execution_count": 5,
   "metadata": {},
   "outputs": [],
   "source": [
    "# YOUR CODE HERE\n",
    "# You can create more cells by clicking on the side of the cell + the letter b!"
   ]
  },
  {
   "cell_type": "code",
   "execution_count": 6,
   "metadata": {},
   "outputs": [],
   "source": [
    "class diary:\n",
    "    def __init__(self, name):\n",
    "        self.name = name\n",
    "        self.dates = []\n",
    "        self.logs = []\n",
    "        \n",
    "    def add(self, date, daily_log):\n",
    "        self.dates.append(daily_log.date)\n",
    "        self.logs.append(daily_log)\n",
    "        \n",
    "    def display(self):\n",
    "        diary_title = self.name + \"'s Food Diary'\"\n",
    "        return(diary_title, self.dates, self.logs)"
   ]
  },
  {
   "cell_type": "markdown",
   "metadata": {},
   "source": [
    "**Directions**: Use the classes you created in Challenge 2A and 2B to log the calories below into a diary. The macros are in `Carb / Fat / Protein` order. The value in front of the food is how many servings you ate.\n",
    "\n",
    "- **Day 1**: 2018-09-25\n",
    "    - 11:00\n",
    "        - 1 x Quaker, Maple and Brown Sugar Oatmeal: 32 / 2 / 4\n",
    "    - 15:00\n",
    "        - 1 x Generic, Salmon Poke Bowl: 38 / 37 / 49\n",
    "    - 19:00\n",
    "        - 1 x Boba Guys, Jasmine Milk Tea: 42 / 4 / 4\n",
    "- **Day 2**: 2018-09-26\n",
    "    - 10:30\n",
    "        - 1 x Quaker, Maple and Brown Sugar Oatmeal: 32 / 2 / 4\n",
    "        - 2 x Generic, Soft-boiled egg: 1 / 5 / 6\n",
    "    - 18:00\n",
    "        - 0.5 x Chipotle, Steak Burrito: 103 / 32 / 54\n",
    "    - 20:00\n",
    "        - 2 x Mrs. Fields, White Chunk Macademia: 18 / 6 / 1\n"
   ]
  },
  {
   "cell_type": "code",
   "execution_count": 7,
   "metadata": {},
   "outputs": [],
   "source": [
    "# YOUR CODE HERE\n",
    "# You can create more cells by clicking on the side of the cell + the letter b!"
   ]
  },
  {
   "cell_type": "markdown",
   "metadata": {},
   "source": [
    "First, create the foods as food objects."
   ]
  },
  {
   "cell_type": "code",
   "execution_count": 8,
   "metadata": {},
   "outputs": [
    {
     "data": {
      "text/plain": [
       "(25, 130)"
      ]
     },
     "execution_count": 8,
     "metadata": {},
     "output_type": "execute_result"
    }
   ],
   "source": [
    "# DAY 1 FOODS\n",
    "oatmeal = food('Quaker', 'Maple and Brown Sugar Oatmeal')\n",
    "oatmeal.macros(carbs=32, fat=2, protein=4)\n",
    "oatmeal.calculateServingGrams(), oatmeal.calculateCalories()\n",
    "\n",
    "poke = food('Generic', 'Salmon Poke Bowl')\n",
    "poke.macros(carbs=38, fat=37, protein=49)\n",
    "poke.calculateServingGrams(), poke.calculateCalories()\n",
    "\n",
    "boba = food('Boba Guys', 'Jasmine Milk Tea')\n",
    "boba.macros(carbs=42, fat=4, protein=4)\n",
    "boba.calculateServingGrams(), boba.calculateCalories()\n",
    "\n",
    "# DAY 2 FOODS\n",
    "# We already made an oatmeal food, so we shall skip that.\n",
    "soft_egg = food('Generic', 'Soft-boiled egg')\n",
    "soft_egg.macros(carbs=1, fat=5, protein=6)\n",
    "soft_egg.calculateServingGrams(), soft_egg.calculateCalories()\n",
    "\n",
    "burrito = food('Chipotle', 'Steak burrito')\n",
    "burrito.macros(carbs=103, fat=32, protein=54)\n",
    "burrito.calculateServingGrams(), burrito.calculateCalories()\n",
    "\n",
    "cookie = food('Mrs. Fields', 'White chunk macademia')\n",
    "cookie.macros(carbs=18, fat=6, protein=1)\n",
    "cookie.calculateServingGrams(), cookie.calculateCalories()"
   ]
  },
  {
   "cell_type": "markdown",
   "metadata": {},
   "source": [
    "Next, create daily logs."
   ]
  },
  {
   "cell_type": "code",
   "execution_count": 9,
   "metadata": {},
   "outputs": [
    {
     "data": {
      "text/plain": [
       "1063"
      ]
     },
     "execution_count": 9,
     "metadata": {},
     "output_type": "execute_result"
    }
   ],
   "source": [
    "day_1 = daily_log('2018-09-25')\n",
    "day_1.add('11:00', oatmeal, 1)\n",
    "day_1.add('15:00', poke, 1)\n",
    "day_1.add('19:00', boba, 1)\n",
    "day_1.calorieCount()"
   ]
  },
  {
   "cell_type": "code",
   "execution_count": 10,
   "metadata": {},
   "outputs": [
    {
     "data": {
      "text/plain": [
       "1026.0"
      ]
     },
     "execution_count": 10,
     "metadata": {},
     "output_type": "execute_result"
    }
   ],
   "source": [
    "day_2 = daily_log('2019-09-26')\n",
    "day_2.add('10:30', oatmeal, 1)\n",
    "day_2.add('10:30', soft_egg, 2)\n",
    "day_2.add('18:00', burrito, 0.5)\n",
    "day_2.add('20:00', cookie, 2)\n",
    "day_2.calorieCount()"
   ]
  },
  {
   "cell_type": "markdown",
   "metadata": {},
   "source": [
    "Finally, add the daily logs into a diary class."
   ]
  },
  {
   "cell_type": "code",
   "execution_count": 11,
   "metadata": {},
   "outputs": [
    {
     "data": {
      "text/plain": [
       "(\"Minnie's Food Diary'\",\n",
       " ['2018-09-25', '2019-09-26'],\n",
       " [<__main__.daily_log at 0x10799b450>, <__main__.daily_log at 0x10799bbd0>])"
      ]
     },
     "execution_count": 11,
     "metadata": {},
     "output_type": "execute_result"
    }
   ],
   "source": [
    "our_diary = diary('Minnie')\n",
    "our_diary.add(day_1.date, day_1)\n",
    "our_diary.add(day_2.date, day_2)\n",
    "our_diary.display()"
   ]
  },
  {
   "cell_type": "markdown",
   "metadata": {},
   "source": [
    "# Part 2: Make a user interface.\n",
    "Use `input()` statements and the classes we created in challenges 2A and 2B to collect information in a helpful manner. This part of the challenge does not require any sort of loops. Imagine that every time someone wants to add a food to their diary, they will rerun the chunk.\n",
    "\n",
    "Use your user interface to log <a href='https://www.myfitnesspal.com/food/calories/steamed-chicken-soup-dumplings-339054919'>Steamed Chicken Soup Dumplings</a> into a diary for the date of 2020-03-16."
   ]
  },
  {
   "cell_type": "code",
   "execution_count": 12,
   "metadata": {},
   "outputs": [],
   "source": [
    "# YOUR CODE HERE\n",
    "# You can create more cells by clicking on the side of the cell + the letter b!"
   ]
  },
  {
   "cell_type": "code",
   "execution_count": 13,
   "metadata": {},
   "outputs": [
    {
     "name": "stdout",
     "output_type": "stream",
     "text": [
      "Welcome to your food diary.\n",
      "What is your name?: Edie\n",
      "A new diary was created for Edie!\n",
      "You can add foods to your diary now.\n"
     ]
    }
   ],
   "source": [
    "# CHUNK TO CREATE DIARY\n",
    "print(\"Welcome to your food diary.\")\n",
    "username = input('What is your name?: ')\n",
    "this_diary = diary(username)\n",
    "print('A new diary was created for ' + username + '!')\n",
    "print('You can add foods to your diary now.')"
   ]
  },
  {
   "cell_type": "code",
   "execution_count": 14,
   "metadata": {},
   "outputs": [
    {
     "name": "stdout",
     "output_type": "stream",
     "text": [
      "Let's log your calories for the day!\n",
      "What date are you logging food for? (YYYY-MM-DD): 2020-03-16\n",
      "You can now add foods for the date 2020-03-16.\n"
     ]
    }
   ],
   "source": [
    "# CHUNK TO CREATE A DAILY LOG\n",
    "print(\"Let's log your calories for the day!\")\n",
    "\n",
    "date = input('What date are you logging food for? (YYYY-MM-DD): ')\n",
    "this_log = daily_log(date)\n",
    "print('You can now add foods for the date ' + date + '.')"
   ]
  },
  {
   "cell_type": "code",
   "execution_count": 15,
   "metadata": {},
   "outputs": [
    {
     "name": "stdout",
     "output_type": "stream",
     "text": [
      "Where did you purchase the food item you are logging?: Trader Joe's\n",
      "What is the name of the food item?: Chicken Steamed Soup Dumplings\n",
      "To verify, you want to log Chicken Steamed Soup Dumplings from Trader Joe's? (Y/N): Y\n",
      "How many grams of carbohydrates are there in Chicken Steamed Soup Dumplings?: 29\n",
      "How many grams of fat are there in Chicken Steamed Soup Dumplings?: 7\n",
      "How many grams of protein are there in Chicken Steamed Soup Dumplings?: 16\n",
      "To verify, Chicken Steamed Soup Dumplings has a macronutrient content of 29.0/7.0/16.0 (Carbs/Fat/Protein)? (Y/N): Y\n",
      "What time did you eat Chicken Steamed Soup Dumplings? (HH:MM): 11:00\n",
      "How many servings did you have of Chicken Steamed Soup Dumplings?: 1\n",
      "Would you like to keep logging for the date of 2020-03-16? (Y/N): N\n",
      "You ate 243.0 calories total on 2020-03-16!\n"
     ]
    }
   ],
   "source": [
    "keep_logging = 'Y'\n",
    "\n",
    "while keep_logging == 'Y':\n",
    "    source = input('Where did you purchase the food item you are logging?: ')\n",
    "    food_item = input('What is the name of the food item?: ')\n",
    "\n",
    "    verification_1 = 'N'\n",
    "    while verification_1 != 'Y':\n",
    "        verification_1 = input('To verify, you want to log ' + food_item + ' from ' + source + '? (Y/N): ')\n",
    "        \n",
    "    this_food = food(source, food_item)\n",
    "    this_carb = float(input('How many grams of carbohydrates are there in ' + food_item + '?: '))\n",
    "    this_fat  = float(input('How many grams of fat are there in ' + food_item + '?: '))\n",
    "    this_prot = float(input('How many grams of protein are there in ' + food_item + '?: '))\n",
    "    \n",
    "    verification_2 = 'N'\n",
    "    while verification_2 != 'Y':\n",
    "        verification_2 = input('To verify, ' + food_item + ' has a macronutrient content of ' + str(this_carb) + '/' + str(this_fat) + '/' + str(this_prot) + ' (Carbs/Fat/Protein)? (Y/N): ')\n",
    "    \n",
    "    this_food.macros(carbs=this_carb, fat=this_fat, protein=this_prot)\n",
    "    this_food.calculateServingGrams()\n",
    "    this_food.calculateCalories()\n",
    "    \n",
    "    this_time = input('What time did you eat ' + food_item + '? (HH:MM): ')\n",
    "    this_serving = float(input('How many servings did you have of ' + food_item + '?: '))\n",
    "    this_log.add(this_time, this_food, this_serving)\n",
    "    \n",
    "    keep_logging = input('Would you like to keep logging for the date of ' + date + '? (Y/N): ')\n",
    "    \n",
    "num_cals = this_log.calorieCount()\n",
    "print('You ate ' + str(num_cals) + ' calories total on ' + date + '!')"
   ]
  },
  {
   "cell_type": "markdown",
   "metadata": {},
   "source": [
    "# Reflection\n",
    "Type out a reflection on what you learned and what you're still confused about below!"
   ]
  },
  {
   "cell_type": "markdown",
   "metadata": {},
   "source": [
    "~ * Write your reflection here * ~"
   ]
  }
 ],
 "metadata": {
  "kernelspec": {
   "display_name": "Python 3",
   "language": "python",
   "name": "python3"
  },
  "language_info": {
   "codemirror_mode": {
    "name": "ipython",
    "version": 3
   },
   "file_extension": ".py",
   "mimetype": "text/x-python",
   "name": "python",
   "nbconvert_exporter": "python",
   "pygments_lexer": "ipython3",
   "version": "3.7.4"
  }
 },
 "nbformat": 4,
 "nbformat_minor": 2
}
