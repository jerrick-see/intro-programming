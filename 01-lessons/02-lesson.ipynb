{
 "cells": [
  {
   "cell_type": "markdown",
   "metadata": {},
   "source": [
    "# Lesson 2.\n",
    "We learned a whole lot in Lesson 1 and Challenges 1A and B. It's time to elevate and practice what we've learned now with the addition of some new concepts. In the previous lesson, we talked about a lot of different data types. We are going to regress and talk about lists only for a while. This is so we can master some of the programming fundamentals in this lesson. We will return to the other data types later, but keep them \"vibing on the side\" in your mind!\n",
    "\n",
    "<img src='https://broadly.com/wp-content/uploads/2019/02/How-Can-I-Create-a-Business-Facebook-Page-Without-a-Personal-Account-.png' width=800>\n",
    "\n",
    "Today, we are going to look at these concepts. The idea behind a lot of this is going to be a little tough to grasp at first because we're going at full speed with the code, but I am sure we can get through.\n",
    "\n",
    "- **Part 0: Saving your work**\n",
    "    - Committing challenges to Github\n",
    "- **Part 1: User Input**\n",
    "    - Processing Keyboard Input\n",
    "- **Part 2: Objects**\n",
    "    - Creating an object\n",
    "    - Defining methods with `def`\n",
    "    - Data checking (if/else)\n",
    "    - Using `+` to make strings\n",
    "    - Commenting\n",
    "- **Part 3: Putting it all together**\n",
    "    - Improvements  \n",
    "    - Multiple accounts\n",
    "\n",
    "\n",
    "## References\n",
    "I used a few references.\n",
    "- https://www.w3schools.com/python/python_user_input.asp\n",
    "- http://openbookproject.net/thinkcs/python/english3e/classes_and_objects_I.html\n",
    "- https://www.journaldev.com/22460/python-str-repr-functions"
   ]
  },
  {
   "cell_type": "markdown",
   "metadata": {},
   "source": [
    "# Part 0: Saving your work.\n",
    "In Lesson 1, we downloaded Github and Anaconda. Remember, Github is used for saving versions of your work. Now that you've finished Challenges 1A and B, you want to commit your work to the cloud. This helps you keep track of changes. In the future, you can commit at any point where you think you need a \"save checkpoint\". Follow the directions here to commit your changes from Challenges 1A and B.\n",
    "\n",
    "1. Open the Github Desktop app on your laptop.\n",
    "2. First, pull changes from the master branch.\n",
    "3. Then, commit your changes!\n",
    "\n",
    "Saving your work via Github is not always so simple. In this class, it will be quite simple though. This is because there will not be multiple people committing to the same files."
   ]
  },
  {
   "cell_type": "markdown",
   "metadata": {},
   "source": [
    "# Part 1: User Input.\n",
    "Let's say that we are making a Facebook for the first time! In order to create a new account, we need to ask the user for their name and other sorts of things. To get input from the user, in Python we use the `input()` function."
   ]
  },
  {
   "cell_type": "code",
   "execution_count": 1,
   "metadata": {},
   "outputs": [
    {
     "name": "stdout",
     "output_type": "stream",
     "text": [
      "First Name: edie\n"
     ]
    }
   ],
   "source": [
    "user_first_name = input('First Name: ')"
   ]
  },
  {
   "cell_type": "code",
   "execution_count": 2,
   "metadata": {},
   "outputs": [
    {
     "name": "stdout",
     "output_type": "stream",
     "text": [
      "Last Name: espejo\n"
     ]
    }
   ],
   "source": [
    "user_last_name = input('Last Name: ')"
   ]
  },
  {
   "cell_type": "code",
   "execution_count": 8,
   "metadata": {},
   "outputs": [
    {
     "name": "stdout",
     "output_type": "stream",
     "text": [
      "Would you like to set your birthdate? (Y/N): Y\n",
      "Birthdate (YYYY-MM-DD): 1995-04-04\n"
     ]
    }
   ],
   "source": [
    "bool_birthdate = input('Would you like to set your birthdate? (Y/N): ')\n",
    "\n",
    "if bool_birthdate=='Y':\n",
    "    user_birthdate = input('Birthdate (YYYY-MM-DD): ')"
   ]
  },
  {
   "cell_type": "markdown",
   "metadata": {},
   "source": [
    "<font color='red'>**Directions**: Use the above chunk to write a similar chunk for email. Use the variable names `bool_email` and `user_email`.</font>"
   ]
  },
  {
   "cell_type": "code",
   "execution_count": 9,
   "metadata": {},
   "outputs": [],
   "source": [
    "# YOUR CODE GOES HERE"
   ]
  },
  {
   "cell_type": "markdown",
   "metadata": {},
   "source": [
    "# Part 2: Objects.\n",
    "Now that we have all that information about our new user, we can create a new account. What I'm creating below is an object. You may have heard of the phrase \"object-oriented programming\" (OOP). OOP is a programming paradigm where the program revolves around the creation of objects and methods that support those objects. Python is an object-oriented programming language, so this course would be totally incomplete without discussing objects.\n",
    "\n",
    "We have learned object classes in the previous lesson. These were \n",
    "\n",
    "- `str`\n",
    "- `float`\n",
    "- `int`\n",
    "- `bool`\n",
    "\n",
    "In the previous lesson and challenges, we have used plenty of methods that have to do with certain types of objects. Recall these ones\n",
    "\n",
    "- `.shape`\n",
    "- `.split()`\n",
    "- `.join()`\n",
    "\n",
    "\n",
    "\n",
    "In the next chunk, we are creating a new class called `fb_account`. At barest, a class will need the following lines to initialize a new class."
   ]
  },
  {
   "cell_type": "code",
   "execution_count": 10,
   "metadata": {},
   "outputs": [],
   "source": [
    "# DEFINING A NEW CLASS\n",
    "class fb_account:\n",
    "    '''Create a new fake Facebook account!'''\n",
    "    \n",
    "    # CREATING INITILIAZATION METHOD FOR CLASS\n",
    "    def __init__(self, first_name, last_name):\n",
    "        '''Create a new account with first name and last name.'''\n",
    "        self.first_name = first_name\n",
    "        self.last_name = last_name"
   ]
  },
  {
   "cell_type": "markdown",
   "metadata": {},
   "source": [
    "We can now create a `fb_account` class by adding in the information that we asked the user for earlier."
   ]
  },
  {
   "cell_type": "code",
   "execution_count": 11,
   "metadata": {},
   "outputs": [
    {
     "name": "stdout",
     "output_type": "stream",
     "text": [
      "edie espejo\n"
     ]
    }
   ],
   "source": [
    "# CREATE THE OBJECT\n",
    "our_account = fb_account(user_first_name, user_last_name)\n",
    "\n",
    "# PRINT OUT PIECES OF THE OBJECT\n",
    "print(our_account.first_name,\n",
    "      our_account.last_name)"
   ]
  },
  {
   "cell_type": "markdown",
   "metadata": {},
   "source": [
    "But that's definitely not all the information we might need, say in a database, about all the users we have. Earlier, we asked for user input about the user's birthday and email. Let's update the function to think about adding in the user's birthdate into the account. There are a couple of data checks we want to make sure of.\n",
    "\n",
    "- Check if the birthdate provided is a `str`\n",
    "- If the birthdate is a string, then check if the birthdate provided is in `YYYY-MM-DD`\n",
    "\n",
    "First, we want to write an if/else statement that will check if the birthdate provided is a string."
   ]
  },
  {
   "cell_type": "code",
   "execution_count": 12,
   "metadata": {},
   "outputs": [
    {
     "data": {
      "text/plain": [
       "True"
      ]
     },
     "execution_count": 12,
     "metadata": {},
     "output_type": "execute_result"
    }
   ],
   "source": [
    "type(user_birthdate)==str"
   ]
  },
  {
   "cell_type": "markdown",
   "metadata": {},
   "source": [
    "To check if the birthdate is provided in the right format, we are going to have to use regular expressions. Regular expressions are used to parse strings for certain patterns."
   ]
  },
  {
   "cell_type": "code",
   "execution_count": 13,
   "metadata": {},
   "outputs": [
    {
     "data": {
      "text/plain": [
       "True"
      ]
     },
     "execution_count": 13,
     "metadata": {},
     "output_type": "execute_result"
    }
   ],
   "source": [
    "import re\n",
    "bool(re.search('[0-9]{4}-[0-9]{2}-[0-9]{2}', user_birthdate))"
   ]
  },
  {
   "cell_type": "markdown",
   "metadata": {},
   "source": [
    "We can incorporate these two checks in an if/else statement when defining a method within our `fb_account` class."
   ]
  },
  {
   "cell_type": "code",
   "execution_count": 14,
   "metadata": {},
   "outputs": [],
   "source": [
    "class fb_account:\n",
    "    '''Create a new fake Facebook account!'''\n",
    "\n",
    "    def __init__(self, first_name, last_name):\n",
    "        '''Create a new account with first name and last name.'''\n",
    "        self.first_name = first_name\n",
    "        self.last_name = last_name\n",
    "    \n",
    "    # ADDING IN BIRTHDATE\n",
    "    def birthdate(self, birthdate):\n",
    "        '''Add birthdate to the account.'''\n",
    "        \n",
    "        # CHECKING THAT BIRTHDATE IS A STRING\n",
    "        if type(birthdate)==str:\n",
    "            \n",
    "            if bool(re.search('[0-9]{4}-[0-9]{2}-[0-9]{2}', birthdate)):\n",
    "                self.birthdate = birthdate\n",
    "            else:\n",
    "                print('Birthdate not added. String format must be YYYY-MM-DD.')\n",
    "                       \n",
    "        else:\n",
    "            print('Birthdate not added. Please provide a string.')"
   ]
  },
  {
   "cell_type": "markdown",
   "metadata": {},
   "source": [
    "Let's add a number instead of a string."
   ]
  },
  {
   "cell_type": "code",
   "execution_count": 15,
   "metadata": {},
   "outputs": [
    {
     "name": "stdout",
     "output_type": "stream",
     "text": [
      "Birthdate not added. Please provide a string.\n"
     ]
    }
   ],
   "source": [
    "# CREATE THE OBJECT\n",
    "our_account = fb_account(user_first_name, user_last_name)\n",
    "our_account.birthdate(0)"
   ]
  },
  {
   "cell_type": "markdown",
   "metadata": {},
   "source": [
    "Let's add a poorly formatted string."
   ]
  },
  {
   "cell_type": "code",
   "execution_count": 16,
   "metadata": {},
   "outputs": [
    {
     "name": "stdout",
     "output_type": "stream",
     "text": [
      "Birthdate not added. String format must be YYYY-MM-DD.\n"
     ]
    }
   ],
   "source": [
    "# CREATE THE OBJECT\n",
    "our_account = fb_account(user_first_name, user_last_name)\n",
    "our_account.birthdate('April 4, 1995')"
   ]
  },
  {
   "cell_type": "markdown",
   "metadata": {},
   "source": [
    "Let's see how this all works out when the input data is correct."
   ]
  },
  {
   "cell_type": "code",
   "execution_count": 17,
   "metadata": {},
   "outputs": [
    {
     "name": "stdout",
     "output_type": "stream",
     "text": [
      "1995-04-04\n"
     ]
    }
   ],
   "source": [
    "our_account.birthdate(user_birthdate)\n",
    "print(our_account.birthdate)"
   ]
  },
  {
   "cell_type": "markdown",
   "metadata": {},
   "source": [
    "Now, let's add in the email and email checks. What are some things that are important about an email input? First off, let's make sure what's input is a string. To \"throw it back\", let's require that someone must have a .edu email to join Le Facebook. We are going to use regex to double check that required emails have:\n",
    "\n",
    "- Letters/numbers\n",
    "- An @ sign\n",
    "- Domain (can have one or two periods with letters)\n",
    "- .edu\n",
    "\n",
    "For now, take these regular expressions (regex) with a general understanding that it's a pattern finder. We will do a future lesson that focuses more on regex. Look at the below chunk. It is checking for the pattern described above."
   ]
  },
  {
   "cell_type": "code",
   "execution_count": 18,
   "metadata": {},
   "outputs": [
    {
     "data": {
      "text/plain": [
       "True"
      ]
     },
     "execution_count": 18,
     "metadata": {},
     "output_type": "execute_result"
    }
   ],
   "source": [
    "bool(re.search('[A-z0-9]+@([A-z]+.)?[A-z]+.edu', 'sample@email.edu'))"
   ]
  },
  {
   "cell_type": "markdown",
   "metadata": {},
   "source": [
    "In the next chunk, I just want to show you how different emails will react to this `re.search()`."
   ]
  },
  {
   "cell_type": "code",
   "execution_count": 19,
   "metadata": {},
   "outputs": [],
   "source": [
    "possible_emails = ['abcdeg.d@gmail.com', 'madeon_lover23@aol.edu',\n",
    "                   'liltruck@love.inc', 'oski@berkeley.edu',\n",
    "                   'aggiez@stat.ucdavis.edu']"
   ]
  },
  {
   "cell_type": "code",
   "execution_count": 20,
   "metadata": {},
   "outputs": [
    {
     "data": {
      "text/plain": [
       "[False, True, False, True, True]"
      ]
     },
     "execution_count": 20,
     "metadata": {},
     "output_type": "execute_result"
    }
   ],
   "source": [
    "[bool(re.search('[A-z0-9]+@([A-z]+.)?[A-z]+.edu', x)) for x in possible_emails]"
   ]
  },
  {
   "cell_type": "markdown",
   "metadata": {},
   "source": [
    "Now, let's add it in our checks into our class definition. Pay attention to two things in particular:\n",
    "\n",
    "1. We have a much larger class function now. I have removed comments in certain places, but the end product should **keep helpful comments** in. Proper documentation of code is *PIVOTAL* to the success of all coding projects.\n",
    "\n",
    "2. We are again using this nested if/else structure to perform **data validation**."
   ]
  },
  {
   "cell_type": "code",
   "execution_count": 21,
   "metadata": {},
   "outputs": [],
   "source": [
    "class fb_account:\n",
    "    '''Create a new fake Facebook account!'''\n",
    "\n",
    "    def __init__(self, first_name, last_name):\n",
    "        '''Create a new account with first name and last name.'''\n",
    "        self.first_name = first_name\n",
    "        self.last_name = last_name\n",
    "    \n",
    "    def birthdate(self, birthdate):\n",
    "        '''Add birthdate to the account.'''\n",
    "        \n",
    "        if type(birthdate)==str:\n",
    "            \n",
    "            if bool(re.search('[0-9]{4}-[0-9]{2}-[0-9]{2}', birthdate)):\n",
    "                self.birthdate = birthdate\n",
    "            else:\n",
    "                print('Birthdate not added. String format must be YYYY-MM-DD.')\n",
    "                       \n",
    "        else:\n",
    "            print('Birthdate not added. Please provide a string.')\n",
    "    \n",
    "    # ADDING IN EMAIL\n",
    "    def email(self, email):\n",
    "        '''Add birthdate to the account.'''\n",
    "        \n",
    "        if type(email)==str:\n",
    "            \n",
    "            if bool(re.search('[A-z0-9]+@([A-z]+.)?[A-z]+.edu', email)):\n",
    "                self.email = email\n",
    "            else:\n",
    "                print('Birthdate not added. Please provide a valid .edu email.')\n",
    "        else:\n",
    "            print('Birthdate not added. Please provide a string.')"
   ]
  },
  {
   "cell_type": "code",
   "execution_count": 22,
   "metadata": {},
   "outputs": [
    {
     "name": "stdout",
     "output_type": "stream",
     "text": [
      "espejo@berkeley.edu\n"
     ]
    }
   ],
   "source": [
    "user_email = 'espejo@berkeley.edu'\n",
    "\n",
    "# CREATE THE OBJECT\n",
    "our_account = fb_account(user_first_name, user_last_name)\n",
    "our_account.email(user_email)\n",
    "print(our_account.email)"
   ]
  },
  {
   "cell_type": "markdown",
   "metadata": {},
   "source": [
    "Finally, we will want to create a function to print out our account information. Let's look at just the code that we're adding in here and break it apart. So, this is the code that we're adding in. It is a method called `.account()`. As we have seen, presenting our information in some shape or form is really important!\n",
    "\n",
    "For our class, I found that it would be helpful to return all the information about a user we know in a list. The choice of a list could have been a numpy array or a pandas series, but let's just focus on a list since it's simpler.\n",
    "\n",
    "Here is the method.\n",
    "\n",
    "```\n",
    "# ADDING IN PRINT FUNCTIONALITY\n",
    "    def account(self):\n",
    "        import numpy as np\n",
    "        \n",
    "        output = list()\n",
    "        output.append(self.first_name + ' ' + self.last_name)\n",
    "        \n",
    "        if type(self.birthdate)==str:\n",
    "            output.append(self.birthdate)\n",
    "        else:\n",
    "            output.append(np.nan)\n",
    "        \n",
    "        if type(self.email)==str:\n",
    "            output.append(self.email)\n",
    "        else:\n",
    "            output.append(np.nan)\n",
    "        \n",
    "        return(output)\n",
    "```\n",
    "\n",
    "So, what have we above? I am\n",
    "\n",
    "1. \"Opening my app\" with numpy, so I can make sure of all of its wonderful functions. In this case, I am just wanting to use numpy's `NA` (which is what you think it is, \"not applicable\").\n",
    "2. Then, I am starting a list to which I am appending:  \n",
    "    a. First and last name  \n",
    "    b. Birthdate, if provided  \n",
    "    c. Email, if provided  \n",
    "3. Finally, we return all that is in that list we're creating in step (2)."
   ]
  },
  {
   "cell_type": "code",
   "execution_count": 23,
   "metadata": {},
   "outputs": [],
   "source": [
    "class fb_account:\n",
    "    '''Create a new fake Facebook account!'''\n",
    "\n",
    "    def __init__(self, first_name, last_name):\n",
    "        '''Create a new account with first name and last name.'''\n",
    "        self.first_name = first_name\n",
    "        self.last_name = last_name\n",
    "    \n",
    "    def birthdate(self, birthdate):\n",
    "        '''Add birthdate to the account.'''\n",
    "        \n",
    "        # CHECKING THAT BIRTHDATE IS A STRING\n",
    "        if type(birthdate)==str:\n",
    "            \n",
    "            if bool(re.search('[0-9]{4}-[0-9]{2}-[0-9]{2}', birthdate)):\n",
    "                self.birthdate = birthdate\n",
    "            else:\n",
    "                print('Birthdate not added. String format must be YYYY-MM-DD.')\n",
    "                       \n",
    "        else:\n",
    "            print('Birthdate not added. Please provide a string.')\n",
    "    \n",
    "    def email(self, email):\n",
    "        '''Add birthdate to the account.'''\n",
    "        \n",
    "        if type(email)==str:\n",
    "            \n",
    "            if bool(re.search('[A-z0-9]+@([A-z]+.)?[A-z]+.edu', email)):\n",
    "                self.email = email\n",
    "            else:\n",
    "                print('Birthdate not added. Please provide a valid .edu email.')\n",
    "        else:\n",
    "            print('Birthdate not added. Please provide a string.')\n",
    "\n",
    "    # ADDING IN PRINT FUNCTIONALITY\n",
    "    def account(self):\n",
    "        import numpy as np\n",
    "        \n",
    "        output = list()\n",
    "        output.append(self.first_name + ' ' + self.last_name)\n",
    "        \n",
    "        if type(self.birthdate)==str:\n",
    "            output.append(self.birthdate)\n",
    "        else:\n",
    "            output.append(np.nan)\n",
    "        \n",
    "        if type(self.email)==str:\n",
    "            output.append(self.email)\n",
    "        else:\n",
    "            output.append(np.nan)\n",
    "        \n",
    "        return(output)"
   ]
  },
  {
   "cell_type": "code",
   "execution_count": 24,
   "metadata": {},
   "outputs": [
    {
     "data": {
      "text/plain": [
       "['edie espejo', nan, 'espejo@berkeley.edu']"
      ]
     },
     "execution_count": 24,
     "metadata": {},
     "output_type": "execute_result"
    }
   ],
   "source": [
    "our_account = fb_account(user_first_name, user_last_name)\n",
    "our_account.email(user_email)\n",
    "our_account.account()"
   ]
  },
  {
   "cell_type": "markdown",
   "metadata": {},
   "source": [
    "# Part 3: Putting it all together.\n",
    "This was our class definition."
   ]
  },
  {
   "cell_type": "code",
   "execution_count": 25,
   "metadata": {},
   "outputs": [],
   "source": [
    "class fb_account:\n",
    "    '''Create a new fake Facebook account!'''\n",
    "\n",
    "    def __init__(self, first_name, last_name):\n",
    "        '''Create a new account with first name and last name.'''\n",
    "        self.first_name = first_name\n",
    "        self.last_name = last_name\n",
    "    \n",
    "    def birthdate(self, birthdate):\n",
    "        '''Add birthdate to the account.'''\n",
    "        \n",
    "        # CHECKING THAT BIRTHDATE IS A STRING\n",
    "        if type(birthdate)==str:\n",
    "            \n",
    "            if bool(re.search('[0-9]{4}-[0-9]{2}-[0-9]{2}', birthdate)):\n",
    "                self.birthdate = birthdate\n",
    "            else:\n",
    "                print('Birthdate not added. String format must be YYYY-MM-DD.')\n",
    "                       \n",
    "        else:\n",
    "            print('Birthdate not added. Please provide a string.')\n",
    "    \n",
    "    def email(self, email):\n",
    "        '''Add birthdate to the account.'''\n",
    "        \n",
    "        if type(email)==str:\n",
    "            \n",
    "            if bool(re.search('[A-z0-9]+@([A-z]+.)?[A-z]+.edu', email)):\n",
    "                self.email = email\n",
    "            else:\n",
    "                print('Birthdate not added. Please provide a valid .edu email.')\n",
    "        else:\n",
    "            print('Birthdate not added. Please provide a string.')\n",
    "\n",
    "    # ADDING IN PRINT FUNCTIONALITY\n",
    "    def account(self):\n",
    "        import numpy as np\n",
    "        \n",
    "        output = list()\n",
    "        output.append(self.first_name + ' ' + self.last_name)\n",
    "        \n",
    "        if type(self.birthdate)==str:\n",
    "            output.append(self.birthdate)\n",
    "        else:\n",
    "            output.append(np.nan)\n",
    "        \n",
    "        if type(self.email)==str:\n",
    "            output.append(self.email)\n",
    "        else:\n",
    "            output.append(np.nan)\n",
    "        \n",
    "        return(output)"
   ]
  },
  {
   "cell_type": "markdown",
   "metadata": {},
   "source": [
    "This is what we'd use to process the user input."
   ]
  },
  {
   "cell_type": "code",
   "execution_count": 26,
   "metadata": {},
   "outputs": [
    {
     "name": "stdout",
     "output_type": "stream",
     "text": [
      "First Name: edie\n",
      "Last Name: espejo\n",
      "Would you like to set your birthdate? (Y/N): Y\n",
      "Birthdate (YYYY-MM-DD): 1995-04-04\n",
      "Would you like to set your email? (Y/N): Y\n",
      "Email: espejo@berkeley.edu\n"
     ]
    },
    {
     "data": {
      "text/plain": [
       "['edie espejo', '1995-04-04', 'espejo@berkeley.edu']"
      ]
     },
     "execution_count": 26,
     "metadata": {},
     "output_type": "execute_result"
    }
   ],
   "source": [
    "# NAMES ARE REQUIRED FOR OUR CLASS\n",
    "# We defined it to be this way\n",
    "user_first_name = input('First Name: ')\n",
    "user_last_name = input('Last Name: ')\n",
    "our_account = fb_account(user_first_name, user_last_name)\n",
    "\n",
    "\n",
    "# BIRTHDATES ARE OPTIONAL\n",
    "bool_birthdate = input('Would you like to set your birthdate? (Y/N): ')\n",
    "\n",
    "if bool_birthdate=='Y':\n",
    "    user_birthdate = input('Birthdate (YYYY-MM-DD): ')\n",
    "    our_account.birthdate(user_birthdate)\n",
    "\n",
    "# EMAILS ARE ALSO OPTIONAL\n",
    "bool_email = input('Would you like to set your email? (Y/N): ')\n",
    "\n",
    "if bool_email=='Y':\n",
    "    user_email = input('Email: ')  \n",
    "    our_account.email(user_email)\n",
    "    \n",
    "    \n",
    "our_account.account()"
   ]
  },
  {
   "cell_type": "markdown",
   "metadata": {},
   "source": [
    "Notice when you run the above chunk and make errors, we receive our messages that we set for data checking in our class definition. As you can see, there are many ways to improve this function. Some examples would be:\n",
    "\n",
    "1. Allow different \"yes\" or \"no\" combinations just in case the user doesn't type capital Y or capital N  \n",
    "2. Ask the user several times to define the correct email or birthdate structure  \n",
    "3. We can have more data checking, as in, make sure Elon Musk's child's name can be read into Python. You see, we can only use certain encodings, and I don't think the AE letter would work out well.\n",
    "\n",
    "\n",
    "So far, we have created one \"Facebook\" account! It would be quite convenient for a network of individuals to be put together into one \"database\". We are not going to create a database class quite yet. I think it would be helpful to see *the output* of what multiple `fb_account` classes would look like. The code below should be interpreted. The actual skills used in the following will be covered at a later time.\n",
    "\n",
    "To begin, let's just log some information on some people, their birthdates, and their emails."
   ]
  },
  {
   "cell_type": "code",
   "execution_count": 27,
   "metadata": {},
   "outputs": [],
   "source": [
    "first_names = ['Edie', 'Jerrick', 'Carmen', 'Kayla', 'Noel']\n",
    "last_names  = ['Espejo', 'See', 'Ng', 'Santamaria', 'Santamaria']\n",
    "birthdates  = ['1995-04-04', '1994-10-07', '1995-12-14', '1996-10-17', '1993-12-15']\n",
    "emails      = ['blue@you.edu', 'red@rawr.edu', 'banguhz@yg.edu',\n",
    "               'kaykay@kay.edu', 'noel@san.edu']"
   ]
  },
  {
   "cell_type": "markdown",
   "metadata": {},
   "source": [
    "We are creating accounts for them using `fb_account()`."
   ]
  },
  {
   "cell_type": "code",
   "execution_count": 36,
   "metadata": {},
   "outputs": [],
   "source": [
    "our_accounts = [fb_account(first_names[k], last_names[k]) for k in range(len(first_names))]"
   ]
  },
  {
   "cell_type": "markdown",
   "metadata": {},
   "source": [
    "When we print out `our_accounts`, we get generator statements for the objects."
   ]
  },
  {
   "cell_type": "code",
   "execution_count": 37,
   "metadata": {},
   "outputs": [
    {
     "data": {
      "text/plain": [
       "[<__main__.fb_account at 0x10cb19dd0>,\n",
       " <__main__.fb_account at 0x10cb19f50>,\n",
       " <__main__.fb_account at 0x10cb19c10>,\n",
       " <__main__.fb_account at 0x10cb19b50>,\n",
       " <__main__.fb_account at 0x10cb1b050>]"
      ]
     },
     "execution_count": 37,
     "metadata": {},
     "output_type": "execute_result"
    }
   ],
   "source": [
    "our_accounts"
   ]
  },
  {
   "cell_type": "markdown",
   "metadata": {},
   "source": [
    "To see what's actually in the objects, we use the method `.account()` which we wrote earlier."
   ]
  },
  {
   "cell_type": "code",
   "execution_count": 39,
   "metadata": {},
   "outputs": [
    {
     "data": {
      "text/plain": [
       "[['Edie Espejo', nan, nan],\n",
       " ['Jerrick See', nan, nan],\n",
       " ['Carmen Ng', nan, nan],\n",
       " ['Kayla Santamaria', nan, nan],\n",
       " ['Noel Santamaria', nan, nan]]"
      ]
     },
     "execution_count": 39,
     "metadata": {},
     "output_type": "execute_result"
    }
   ],
   "source": [
    "[k.account() for k in our_accounts]"
   ]
  },
  {
   "cell_type": "markdown",
   "metadata": {},
   "source": [
    "We can add in their birthdates really quickly by using a *list comprehension*. We will go over these in depth at a later time. For now, just think about the following code as \"applying the same method to all pieces and spewing it out as a list\"."
   ]
  },
  {
   "cell_type": "code",
   "execution_count": 40,
   "metadata": {},
   "outputs": [
    {
     "data": {
      "text/plain": [
       "[None, None, None, None, None]"
      ]
     },
     "execution_count": 40,
     "metadata": {},
     "output_type": "execute_result"
    }
   ],
   "source": [
    "[our_accounts[k].birthdate(birthdates[k]) for k in range(len(first_names))]"
   ]
  },
  {
   "cell_type": "markdown",
   "metadata": {},
   "source": [
    "When we return the accounts again, we see that the birthdates have been added in."
   ]
  },
  {
   "cell_type": "code",
   "execution_count": 42,
   "metadata": {},
   "outputs": [
    {
     "data": {
      "text/plain": [
       "[['Edie Espejo', '1995-04-04', nan],\n",
       " ['Jerrick See', '1994-10-07', nan],\n",
       " ['Carmen Ng', '1995-12-14', nan],\n",
       " ['Kayla Santamaria', '1996-10-17', nan],\n",
       " ['Noel Santamaria', '1993-12-15', nan]]"
      ]
     },
     "execution_count": 42,
     "metadata": {},
     "output_type": "execute_result"
    }
   ],
   "source": [
    "[k.account() for k in our_accounts]"
   ]
  },
  {
   "cell_type": "markdown",
   "metadata": {},
   "source": [
    "We can do the same thing for the emails!"
   ]
  },
  {
   "cell_type": "code",
   "execution_count": 43,
   "metadata": {},
   "outputs": [
    {
     "data": {
      "text/plain": [
       "[None, None, None, None, None]"
      ]
     },
     "execution_count": 43,
     "metadata": {},
     "output_type": "execute_result"
    }
   ],
   "source": [
    "[our_accounts[k].email(emails[k]) for k in range(len(first_names))]"
   ]
  },
  {
   "cell_type": "code",
   "execution_count": 45,
   "metadata": {},
   "outputs": [
    {
     "data": {
      "text/plain": [
       "[['Edie Espejo', '1995-04-04', 'blue@you.edu'],\n",
       " ['Jerrick See', '1994-10-07', 'red@rawr.edu'],\n",
       " ['Carmen Ng', '1995-12-14', 'banguhz@yg.edu'],\n",
       " ['Kayla Santamaria', '1996-10-17', 'kaykay@kay.edu'],\n",
       " ['Noel Santamaria', '1993-12-15', 'noel@san.edu']]"
      ]
     },
     "execution_count": 45,
     "metadata": {},
     "output_type": "execute_result"
    }
   ],
   "source": [
    "look_at_our_accounts = [k.account() for k in our_accounts]\n",
    "look_at_our_accounts"
   ]
  },
  {
   "cell_type": "markdown",
   "metadata": {},
   "source": [
    "In the future, we could look into create an object class that could contain our \"Facebook accounts\". However, just one thought for the future. Check out what we can do with `pandas`."
   ]
  },
  {
   "cell_type": "code",
   "execution_count": 47,
   "metadata": {},
   "outputs": [
    {
     "data": {
      "text/html": [
       "<div>\n",
       "<style scoped>\n",
       "    .dataframe tbody tr th:only-of-type {\n",
       "        vertical-align: middle;\n",
       "    }\n",
       "\n",
       "    .dataframe tbody tr th {\n",
       "        vertical-align: top;\n",
       "    }\n",
       "\n",
       "    .dataframe thead th {\n",
       "        text-align: right;\n",
       "    }\n",
       "</style>\n",
       "<table border=\"1\" class=\"dataframe\">\n",
       "  <thead>\n",
       "    <tr style=\"text-align: right;\">\n",
       "      <th></th>\n",
       "      <th>Name</th>\n",
       "      <th>Birthdate</th>\n",
       "      <th>Email</th>\n",
       "    </tr>\n",
       "  </thead>\n",
       "  <tbody>\n",
       "    <tr>\n",
       "      <td>0</td>\n",
       "      <td>Edie Espejo</td>\n",
       "      <td>1995-04-04</td>\n",
       "      <td>blue@you.edu</td>\n",
       "    </tr>\n",
       "    <tr>\n",
       "      <td>1</td>\n",
       "      <td>Jerrick See</td>\n",
       "      <td>1994-10-07</td>\n",
       "      <td>red@rawr.edu</td>\n",
       "    </tr>\n",
       "    <tr>\n",
       "      <td>2</td>\n",
       "      <td>Carmen Ng</td>\n",
       "      <td>1995-12-14</td>\n",
       "      <td>banguhz@yg.edu</td>\n",
       "    </tr>\n",
       "    <tr>\n",
       "      <td>3</td>\n",
       "      <td>Kayla Santamaria</td>\n",
       "      <td>1996-10-17</td>\n",
       "      <td>kaykay@kay.edu</td>\n",
       "    </tr>\n",
       "    <tr>\n",
       "      <td>4</td>\n",
       "      <td>Noel Santamaria</td>\n",
       "      <td>1993-12-15</td>\n",
       "      <td>noel@san.edu</td>\n",
       "    </tr>\n",
       "  </tbody>\n",
       "</table>\n",
       "</div>"
      ],
      "text/plain": [
       "               Name   Birthdate           Email\n",
       "0       Edie Espejo  1995-04-04    blue@you.edu\n",
       "1       Jerrick See  1994-10-07    red@rawr.edu\n",
       "2         Carmen Ng  1995-12-14  banguhz@yg.edu\n",
       "3  Kayla Santamaria  1996-10-17  kaykay@kay.edu\n",
       "4   Noel Santamaria  1993-12-15    noel@san.edu"
      ]
     },
     "execution_count": 47,
     "metadata": {},
     "output_type": "execute_result"
    }
   ],
   "source": [
    "import pandas as pd\n",
    "pd.DataFrame(look_at_our_accounts, columns=['Name', 'Birthdate', 'Email'])"
   ]
  },
  {
   "cell_type": "markdown",
   "metadata": {},
   "source": [
    "Now, we're seeing some familiarity!"
   ]
  }
 ],
 "metadata": {
  "kernelspec": {
   "display_name": "Python 3",
   "language": "python",
   "name": "python3"
  },
  "language_info": {
   "codemirror_mode": {
    "name": "ipython",
    "version": 3
   },
   "file_extension": ".py",
   "mimetype": "text/x-python",
   "name": "python",
   "nbconvert_exporter": "python",
   "pygments_lexer": "ipython3",
   "version": "3.7.4"
  }
 },
 "nbformat": 4,
 "nbformat_minor": 2
}
