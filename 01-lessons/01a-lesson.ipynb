{
 "cells": [
  {
   "cell_type": "markdown",
   "metadata": {},
   "source": [
    "# Lesson 1.\n",
    "Welcome to introduction to programming! If you're following along from the outside world, this course is being designed to be full-immersion into several different sides of programming. I will give an overview of both object-oriented and functional programming. Since I am a functional programmer in general, I will likely spend more time on functional programming. I will also delve into some data science because that is my discipline.\n",
    "\n",
    "We will cover introductory concepts in lessons and challenges are to follow lessons two at a time. The pace of this course is rather flexible, though I suspect a lesson may take around 2 hours to teach, and challenges may last for a week to a week and a half. Challenges are meant to be just that -- challenging! I will cover concepts that I teach and do not teach in challenges so that the learning progress stays pacing.\n",
    "\n",
    "## Vocabulary\n",
    "**Repository**: Another name for a \"folder\" on the computer. Another word that works is \"directory\". Not everyone has a beautiful repository, but it is super super encouraged that everyone gets into naming conventions that are understandable to someone outside the project. At the end of the day, it's just a folder on your computer.\n",
    "\n",
    "**Jupyter Notebook**: A presentation format for Python. The proper word for something like Jupyter notebook is an integrated development environment (IDE).\n",
    "\n",
    "\n",
    "Here is a guide <a href='https://www.geeksforgeeks.org/difference-between-high-level-and-low-level-languages/'>about high and low level languages</a>.\n",
    "\n",
    "**Low-level language**: This has nothing to do with \"elitist\" hierarchy. Low-level means that you can touch the bits and bytes of a computer. It is not binary, but it is closer to binary than \"high-level language\". These languages tend to be more densely written, meaning there is a lot of punctuation and a lot of special syntax. Why would you need to touch bits and bytes in the first place? Robotics. Hardware. Examples: <a href='https://www.computerscience.gcse.guru/glossary/low-level-languages'>Assembly language, Machine code</a>. \n",
    "\n",
    "**High-level language**: This means that you are \"further\" away from the computer. You are not touching bits and bytes. What does this entail? Websites. Data science. Examples: C, C++, Rust, Ruby, Python, R.\n",
    "\n",
    "<img src='https://miro.medium.com/max/12032/0*fUJ-vxQtDB0ssLX7' width=800>\n",
    "\n",
    "Are you ready? We are going to cover the following concepts in Lesson 1. Everything we learn is going to be super amazing today.\n",
    "\n",
    "- **Part 1: Software**\n",
    "    - Github\n",
    "    - Terminal\n",
    "    - Jupyter Notebook (Python 3)\n",
    "- **Part 2: Programming Concepts**\n",
    "    - Data types\n",
    "        - Words: Strings\n",
    "        - Numbers: Integer / Float\n",
    "        - Logical: Boolean\n",
    "        - Assignment\n",
    "    - Containers and indexing\n",
    "        - Lists\n",
    "        - Arrays (Numpy)\n",
    "        - Dataframes (Pandas)\n",
    "    - If-else statements"
   ]
  },
  {
   "cell_type": "markdown",
   "metadata": {},
   "source": [
    "# Part 1: Software.\n",
    "\n",
    "## Creating Github account and installing Github.\n",
    "Github is version control software. Think of it as a way to save copies of your work and collaborate with others. It's *sort of* like Google drive for code, but it will only sync when you tell it to. There are different ways of working with Github. \n",
    "\n",
    "1. You can go online and <a href='github.com'>use it in the browser</a>.\n",
    "2. You <a href='https://git-scm.com/book/en/v2/Getting-Started-Installing-Git'>install it for use in terminal</a>. We aren't going to do this just yet.\n",
    "3. You can download <a href='https://desktop.github.com/'>Github Desktop</a>! In this course, we are going to stick to using Github Desktop. In the future, we can return to (2).\n",
    "\n",
    "<font color='red'>**Directions:** Go to Github in the browser and make an account. Next, download Github Desktop.</font>\n",
    "\n",
    "## Installing Python 3.\n",
    "Macs come with Python 2.7 installed. In order to stick with the most up-to-date software, we want to download Python 3. This will be done with terminal. We are following the tutorial <a href='https://docs.python-guide.org/starting/install3/osx/'>here</a>. Python 2 is not deprecated, but most of the community is going to want to move to Python 3. Like who wants Windows XP when you have Windows 10? Just kiddding... Or am I?\n",
    "\n",
    "<font color='red'>**Directions:** Follow the instructions in the above link to download Python 3 in Terminal. We need to download Xcode (app store), Homebrew (terminal), then finally download Python 3.</font>\n",
    "\n",
    "## Installing Anaconda.\n",
    "Anaconda is an IDE (integrated development environment) for Python. In particular, we will be using Anaconda 3's Jupyter notebook. That's what you see right now! Please click through <a href='https://docs.anaconda.com/anaconda/install/mac-os/'>this</a> in order to get Jupyter on your computer using the graphical install.\n",
    "\n",
    "<font color='red'>**Directions:** Follow the instructions in the above link to get Anaconda.</font>\n",
    "\n",
    "## Pulling Github repository.\n",
    "We want to sync our local folder to the Github folder A.K.A. pull the files from Github onto our local drive.\n",
    "\n",
    "<font color='red'>**Directions:** Open Github Desktop and clone the repository using the SSH path.</font>\n",
    "\n",
    "## Open Jupyter notebook.\n",
    "Finally, we want to open up this document up on your own laptop! So, let's head onto Terminal and type this in Terminal...\n",
    "\n",
    "1. `cd path-to-your-git-folder/intro-programming`  \n",
    "2. `jupyter notebook`\n",
    "\n",
    "And your browser should have opened! We can navigate the folders on the browser just like we were on Finder.\n",
    "\n",
    "<font color='red'>**Directions:** Open up the Lesson 1 Jupyter Notebook, and get ready to code! In order to run a \"chunk\", you need to press `shift+return`.</font>"
   ]
  },
  {
   "cell_type": "markdown",
   "metadata": {},
   "source": [
    "# Part 2: Programming Concepts."
   ]
  },
  {
   "cell_type": "markdown",
   "metadata": {},
   "source": [
    "A **string** is a collection of letters/numbers/what have you within single or double quotes."
   ]
  },
  {
   "cell_type": "code",
   "execution_count": 1,
   "metadata": {},
   "outputs": [
    {
     "data": {
      "text/plain": [
       "'seven lions'"
      ]
     },
     "execution_count": 1,
     "metadata": {},
     "output_type": "execute_result"
    }
   ],
   "source": [
    "'seven lions'"
   ]
  },
  {
   "cell_type": "code",
   "execution_count": 2,
   "metadata": {},
   "outputs": [
    {
     "data": {
      "text/plain": [
       "'seven lions'"
      ]
     },
     "execution_count": 2,
     "metadata": {},
     "output_type": "execute_result"
    }
   ],
   "source": [
    "\"seven lions\""
   ]
  },
  {
   "cell_type": "markdown",
   "metadata": {},
   "source": [
    "<font color='red'>**Directions**: Try using the function `len()` on the string 'seven lions'. What does `len()` do?</font>"
   ]
  },
  {
   "cell_type": "code",
   "execution_count": 4,
   "metadata": {},
   "outputs": [
    {
     "data": {
      "text/plain": [
       "11"
      ]
     },
     "execution_count": 4,
     "metadata": {},
     "output_type": "execute_result"
    }
   ],
   "source": [
    "# This is a COMMENT!\n",
    "# You can write whatever you want after a pound sign hashtag.\n",
    "# Kang Seo Woo\n",
    "\n",
    "# TRY IT OUT\n",
    "# Your code here.\n",
    "len('seven lions')"
   ]
  },
  {
   "cell_type": "markdown",
   "metadata": {},
   "source": [
    "The following is obviously a number."
   ]
  },
  {
   "cell_type": "code",
   "execution_count": 5,
   "metadata": {},
   "outputs": [
    {
     "data": {
      "text/plain": [
       "900"
      ]
     },
     "execution_count": 5,
     "metadata": {},
     "output_type": "execute_result"
    }
   ],
   "source": [
    "900"
   ]
  },
  {
   "cell_type": "code",
   "execution_count": 6,
   "metadata": {},
   "outputs": [
    {
     "data": {
      "text/plain": [
       "900.0"
      ]
     },
     "execution_count": 6,
     "metadata": {},
     "output_type": "execute_result"
    }
   ],
   "source": [
    "900.0"
   ]
  },
  {
   "cell_type": "markdown",
   "metadata": {},
   "source": [
    "We can easily do some simple math in Python. PEMDAS still stands."
   ]
  },
  {
   "cell_type": "code",
   "execution_count": 7,
   "metadata": {},
   "outputs": [
    {
     "data": {
      "text/plain": [
       "6"
      ]
     },
     "execution_count": 7,
     "metadata": {},
     "output_type": "execute_result"
    }
   ],
   "source": [
    "2 + 2 + 2"
   ]
  },
  {
   "cell_type": "code",
   "execution_count": 12,
   "metadata": {},
   "outputs": [
    {
     "data": {
      "text/plain": [
       "(4, 9)"
      ]
     },
     "execution_count": 12,
     "metadata": {},
     "output_type": "execute_result"
    }
   ],
   "source": [
    "2**2, 3**2"
   ]
  },
  {
   "cell_type": "code",
   "execution_count": 9,
   "metadata": {},
   "outputs": [
    {
     "data": {
      "text/plain": [
       "5"
      ]
     },
     "execution_count": 9,
     "metadata": {},
     "output_type": "execute_result"
    }
   ],
   "source": [
    "3 + 2 * 1"
   ]
  },
  {
   "cell_type": "code",
   "execution_count": 10,
   "metadata": {},
   "outputs": [
    {
     "data": {
      "text/plain": [
       "16"
      ]
     },
     "execution_count": 10,
     "metadata": {},
     "output_type": "execute_result"
    }
   ],
   "source": [
    "(3 * 4) + 2 * 2"
   ]
  },
  {
   "cell_type": "markdown",
   "metadata": {},
   "source": [
    "Okay, and we have one more thing we can look at. These are called **boolean** objects."
   ]
  },
  {
   "cell_type": "code",
   "execution_count": 13,
   "metadata": {},
   "outputs": [
    {
     "data": {
      "text/plain": [
       "False"
      ]
     },
     "execution_count": 13,
     "metadata": {},
     "output_type": "execute_result"
    }
   ],
   "source": [
    "False"
   ]
  },
  {
   "cell_type": "code",
   "execution_count": 14,
   "metadata": {},
   "outputs": [
    {
     "data": {
      "text/plain": [
       "True"
      ]
     },
     "execution_count": 14,
     "metadata": {},
     "output_type": "execute_result"
    }
   ],
   "source": [
    "True"
   ]
  },
  {
   "cell_type": "markdown",
   "metadata": {},
   "source": [
    "But notice this. We are going to use a function `type()` to see what we're looking at here."
   ]
  },
  {
   "cell_type": "code",
   "execution_count": 15,
   "metadata": {},
   "outputs": [
    {
     "data": {
      "text/plain": [
       "str"
      ]
     },
     "execution_count": 15,
     "metadata": {},
     "output_type": "execute_result"
    }
   ],
   "source": [
    "type('seven lions')"
   ]
  },
  {
   "cell_type": "code",
   "execution_count": 16,
   "metadata": {},
   "outputs": [
    {
     "data": {
      "text/plain": [
       "int"
      ]
     },
     "execution_count": 16,
     "metadata": {},
     "output_type": "execute_result"
    }
   ],
   "source": [
    "type(900)"
   ]
  },
  {
   "cell_type": "markdown",
   "metadata": {},
   "source": [
    "Float stands for **floating point number**. It's pretty much a mixed number in math."
   ]
  },
  {
   "cell_type": "code",
   "execution_count": 17,
   "metadata": {},
   "outputs": [
    {
     "data": {
      "text/plain": [
       "float"
      ]
     },
     "execution_count": 17,
     "metadata": {},
     "output_type": "execute_result"
    }
   ],
   "source": [
    "type(900.0)"
   ]
  },
  {
   "cell_type": "code",
   "execution_count": 18,
   "metadata": {},
   "outputs": [
    {
     "data": {
      "text/plain": [
       "(str, bool)"
      ]
     },
     "execution_count": 18,
     "metadata": {},
     "output_type": "execute_result"
    }
   ],
   "source": [
    "type('False'), type(False)"
   ]
  },
  {
   "cell_type": "markdown",
   "metadata": {},
   "source": [
    "We can *save* values by giving them a name and using `=`, the assignment operator."
   ]
  },
  {
   "cell_type": "code",
   "execution_count": 19,
   "metadata": {},
   "outputs": [],
   "source": [
    "cool_name = 2"
   ]
  },
  {
   "cell_type": "markdown",
   "metadata": {},
   "source": [
    "We can print the value out by typing the name `cool_name` or by using the `print()` function."
   ]
  },
  {
   "cell_type": "code",
   "execution_count": 20,
   "metadata": {},
   "outputs": [
    {
     "data": {
      "text/plain": [
       "2"
      ]
     },
     "execution_count": 20,
     "metadata": {},
     "output_type": "execute_result"
    }
   ],
   "source": [
    "# cool_name is a variable\n",
    "# 2 is its value\n",
    "cool_name"
   ]
  },
  {
   "cell_type": "code",
   "execution_count": 21,
   "metadata": {},
   "outputs": [
    {
     "name": "stdout",
     "output_type": "stream",
     "text": [
      "2\n"
     ]
    }
   ],
   "source": [
    "print(cool_name)"
   ]
  },
  {
   "cell_type": "markdown",
   "metadata": {},
   "source": [
    "<font color='red'>**Directions**: In the below chunk, make a numeric variable. Then, add it to another numeric variable. Save the sum to another variable. Print out the sum.</font>"
   ]
  },
  {
   "cell_type": "code",
   "execution_count": 23,
   "metadata": {},
   "outputs": [
    {
     "name": "stdout",
     "output_type": "stream",
     "text": [
      "5\n"
     ]
    }
   ],
   "source": [
    "# TRY IT OUT\n",
    "# Your code here.\n",
    "variable_1 = 2\n",
    "variable_2 = 3\n",
    "variable_3 = variable_1 + variable_2\n",
    "print(variable_3)"
   ]
  },
  {
   "cell_type": "markdown",
   "metadata": {},
   "source": [
    "<font color='red'>**Directions**: In the below chunk, make a numeric variable. Then, add it to a string variable. Does this work?</font>"
   ]
  },
  {
   "cell_type": "code",
   "execution_count": 25,
   "metadata": {},
   "outputs": [
    {
     "ename": "TypeError",
     "evalue": "unsupported operand type(s) for +: 'int' and 'str'",
     "output_type": "error",
     "traceback": [
      "\u001b[0;31m---------------------------------------------------------------------------\u001b[0m",
      "\u001b[0;31mTypeError\u001b[0m                                 Traceback (most recent call last)",
      "\u001b[0;32m<ipython-input-25-15dff1d5336f>\u001b[0m in \u001b[0;36m<module>\u001b[0;34m\u001b[0m\n\u001b[1;32m      4\u001b[0m \u001b[0mnumeric_var\u001b[0m \u001b[0;34m=\u001b[0m \u001b[0;36m4\u001b[0m\u001b[0;34m\u001b[0m\u001b[0;34m\u001b[0m\u001b[0m\n\u001b[1;32m      5\u001b[0m \u001b[0mstring_var\u001b[0m \u001b[0;34m=\u001b[0m \u001b[0;34m'jitty'\u001b[0m\u001b[0;34m\u001b[0m\u001b[0;34m\u001b[0m\u001b[0m\n\u001b[0;32m----> 6\u001b[0;31m \u001b[0mnumeric_var\u001b[0m \u001b[0;34m+\u001b[0m \u001b[0mstring_var\u001b[0m\u001b[0;34m\u001b[0m\u001b[0;34m\u001b[0m\u001b[0m\n\u001b[0m",
      "\u001b[0;31mTypeError\u001b[0m: unsupported operand type(s) for +: 'int' and 'str'"
     ]
    }
   ],
   "source": [
    "# TRY IT OUT\n",
    "# Your code here.\n",
    "\n",
    "numeric_var = 4\n",
    "string_var = 'jitty'\n",
    "numeric_var + string_var # This will throw an error!"
   ]
  },
  {
   "cell_type": "code",
   "execution_count": 34,
   "metadata": {},
   "outputs": [
    {
     "data": {
      "text/plain": [
       "10"
      ]
     },
     "execution_count": 34,
     "metadata": {},
     "output_type": "execute_result"
    }
   ],
   "source": [
    "numeric_var = 4\n",
    "string_var = '6'\n",
    "# string_var\n",
    "# int(string_var)\n",
    "numeric_var + int(string_var)"
   ]
  },
  {
   "cell_type": "code",
   "execution_count": 35,
   "metadata": {},
   "outputs": [
    {
     "ename": "ValueError",
     "evalue": "invalid literal for int() with base 10: 'jitty'",
     "output_type": "error",
     "traceback": [
      "\u001b[0;31m---------------------------------------------------------------------------\u001b[0m",
      "\u001b[0;31mValueError\u001b[0m                                Traceback (most recent call last)",
      "\u001b[0;32m<ipython-input-35-6e8561903ff7>\u001b[0m in \u001b[0;36m<module>\u001b[0;34m\u001b[0m\n\u001b[1;32m      1\u001b[0m \u001b[0mnumeric_var\u001b[0m \u001b[0;34m=\u001b[0m \u001b[0;36m4\u001b[0m\u001b[0;34m\u001b[0m\u001b[0;34m\u001b[0m\u001b[0m\n\u001b[1;32m      2\u001b[0m \u001b[0mstring_var\u001b[0m \u001b[0;34m=\u001b[0m \u001b[0;34m'jitty'\u001b[0m\u001b[0;34m\u001b[0m\u001b[0;34m\u001b[0m\u001b[0m\n\u001b[0;32m----> 3\u001b[0;31m \u001b[0mnumeric_var\u001b[0m \u001b[0;34m+\u001b[0m \u001b[0mint\u001b[0m\u001b[0;34m(\u001b[0m\u001b[0mstring_var\u001b[0m\u001b[0;34m)\u001b[0m \u001b[0;31m# This will throw an error!\u001b[0m\u001b[0;34m\u001b[0m\u001b[0;34m\u001b[0m\u001b[0m\n\u001b[0m",
      "\u001b[0;31mValueError\u001b[0m: invalid literal for int() with base 10: 'jitty'"
     ]
    }
   ],
   "source": [
    "numeric_var = 4\n",
    "string_var = 'jitty'\n",
    "numeric_var + int(string_var) # This will throw an error!"
   ]
  },
  {
   "cell_type": "markdown",
   "metadata": {},
   "source": [
    "**To be continued.** This lesson went on for 2 hours, and we did not continue on into containers. Lesson 1B will cover the next concepts."
   ]
  }
 ],
 "metadata": {
  "kernelspec": {
   "display_name": "Python 3",
   "language": "python",
   "name": "python3"
  },
  "language_info": {
   "codemirror_mode": {
    "name": "ipython",
    "version": 3
   },
   "file_extension": ".py",
   "mimetype": "text/x-python",
   "name": "python",
   "nbconvert_exporter": "python",
   "pygments_lexer": "ipython3",
   "version": "3.7.4"
  }
 },
 "nbformat": 4,
 "nbformat_minor": 2
}
