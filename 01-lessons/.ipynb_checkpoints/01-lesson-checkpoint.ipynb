{
 "cells": [
  {
   "cell_type": "markdown",
   "metadata": {},
   "source": [
    "# Lesson 1.\n",
    "Welcome to introduction to programming! If you're following along from the outside world, this course is being designed to be full-immersion into several different sides of programming. I will give an overview of both object-oriented and functional programming. Since I am a functional programmer in general, I will likely spend more time on functional programming. I will also delve into some data science because that is my discipline.\n",
    "\n",
    "We will cover introductory concepts in lessons and challenges are to follow lessons two at a time. The pace of this course is rather flexible, though I suspect a lesson may take around 2 hours to teach, and challenges may last for a week to a week and a half. Challenges are meant to be just that -- challenging! I will cover concepts that I teach and do not teach in challenges so that the learning progress stays pacing.\n",
    "\n",
    "## Vocabulary\n",
    "**Repository**: Another name for a \"folder\" on the computer. Another word that works is \"directory\". Not everyone has a beautiful repository, but it is super super encouraged that everyone gets into naming conventions that are understandable to someone outside the project. At the end of the day, it's just a folder on your computer.\n",
    "\n",
    "**Jupyter Notebook**: A presentation format for Python. The proper word for something like Jupyter notebook is an integrated development environment (IDE).\n",
    "\n",
    "\n",
    "Here is a guide <a href='https://www.geeksforgeeks.org/difference-between-high-level-and-low-level-languages/'>about high and low level languages</a>.\n",
    "\n",
    "**Low-level language**: This has nothing to do with \"elitist\" hierarchy. Low-level means that you can touch the bits and bytes of a computer. It is not binary, but it is closer to binary than \"high-level language\". These languages tend to be more densely written, meaning there is a lot of punctuation and a lot of special syntax. Why would you need to touch bits and bytes in the first place? Robotics. Hardware. Examples: <a href='https://www.computerscience.gcse.guru/glossary/low-level-languages'>Assembly language, Machine code</a>. \n",
    "\n",
    "**High-level language**: This means that you are \"further\" away from the computer. You are not touching bits and bytes. What does this entail? Websites. Data science. Examples: C, C++, Rust, Ruby, Python, R.\n",
    "\n",
    "<img src='https://miro.medium.com/max/12032/0*fUJ-vxQtDB0ssLX7' width=800>\n",
    "\n",
    "Are you ready? We are going to cover the following concepts in Lesson 1. Everything we learn is going to be super amazing today.\n",
    "\n",
    "- **Part 1: Software**\n",
    "    - Github\n",
    "    - Terminal\n",
    "    - Jupyter Notebook (Python 3)\n",
    "- **Part 2: Programming Concepts**\n",
    "    - Data types\n",
    "        - Words: Strings\n",
    "        - Numbers: Integer / Float\n",
    "        - Logical: Boolean\n",
    "        - Assignment\n",
    "    - Containers and indexing\n",
    "        - Lists\n",
    "        - Arrays (Numpy)\n",
    "        - Dataframes (Pandas)\n",
    "    - If-else statements"
   ]
  },
  {
   "cell_type": "markdown",
   "metadata": {},
   "source": [
    "# Part 1: Software.\n",
    "\n",
    "## Creating Github account and installing Github.\n",
    "Github is version control software. Think of it as a way to save copies of your work and collaborate with others. It's *sort of* like Google drive for code, but it will only sync when you tell it to. There are different ways of working with Github. \n",
    "\n",
    "1. You can go online and <a href='github.com'>use it in the browser</a>.\n",
    "2. You <a href='https://git-scm.com/book/en/v2/Getting-Started-Installing-Git'>install it for use in terminal</a>. We aren't going to do this just yet.\n",
    "3. You can download <a href='https://desktop.github.com/'>Github Desktop</a>! In this course, we are going to stick to using Github Desktop. In the future, we can return to (2).\n",
    "\n",
    "<font color='red'>**Directions:** Go to Github in the browser and make an account. Next, download Github Desktop.</font>\n",
    "\n",
    "## Installing Python 3.\n",
    "Macs come with Python 2.7 installed. In order to stick with the most up-to-date software, we want to download Python 3. This will be done with terminal. We are following the tutorial <a href='https://docs.python-guide.org/starting/install3/osx/'>here</a>. Python 2 is not deprecated, but most of the community is going to want to move to Python 3. Like who wants Windows XP when you have Windows 10? Just kiddding... Or am I?\n",
    "\n",
    "<font color='red'>**Directions:** Follow the instructions in the above link to download Python 3 in Terminal. We need to download Xcode (app store), Homebrew (terminal), then finally download Python 3.</font>\n",
    "\n",
    "## Installing Anaconda.\n",
    "Anaconda is an IDE (integrated development environment) for Python. In particular, we will be using Anaconda 3's Jupyter notebook. That's what you see right now! Please click through <a href='https://docs.anaconda.com/anaconda/install/mac-os/'>this</a> in order to get Jupyter on your computer using the graphical install.\n",
    "\n",
    "<font color='red'>**Directions:** Follow the instructions in the above link to get Anaconda.</font>\n",
    "\n",
    "## Pulling Github repository.\n",
    "We want to sync our local folder to the Github folder A.K.A. pull the files from Github onto our local drive.\n",
    "\n",
    "<font color='red'>**Directions:** Open Github Desktop and clone the repository using the SSH path.</font>\n",
    "\n",
    "## Open Jupyter notebook.\n",
    "Finally, we want to open up this document up on your own laptop! So, let's head onto Terminal and type this in Terminal...\n",
    "\n",
    "1. `cd path-to-your-git-folder/intro-programming`  \n",
    "2. `jupyter notebook`\n",
    "\n",
    "And your browser should have opened! We can navigate the folders on the browser just like we were on Finder.\n",
    "\n",
    "<font color='red'>**Directions:** Open up the Lesson 1 Jupyter Notebook, and get ready to code! In order to run a \"chunk\", you need to press `shift+return`.</font>"
   ]
  },
  {
   "cell_type": "markdown",
   "metadata": {},
   "source": [
    "# Part 2: Programming Concepts."
   ]
  },
  {
   "cell_type": "code",
   "execution_count": null,
   "metadata": {},
   "outputs": [],
   "source": [
    "'seven lions'"
   ]
  },
  {
   "cell_type": "code",
   "execution_count": null,
   "metadata": {},
   "outputs": [],
   "source": [
    "\"seven lions\""
   ]
  },
  {
   "cell_type": "markdown",
   "metadata": {},
   "source": [
    "<font color='red'>**Directions**: Try using the function `len()` on the string 'seven lions'. What does `len()` do?</font>"
   ]
  },
  {
   "cell_type": "code",
   "execution_count": null,
   "metadata": {},
   "outputs": [],
   "source": [
    "# This is a COMMENT!\n",
    "# You can write whatever you want after a pound sign hashtag.\n",
    "# Kang Seo Woo\n",
    "\n",
    "# TRY IT OUT\n",
    "# Your code here."
   ]
  },
  {
   "cell_type": "markdown",
   "metadata": {},
   "source": [
    "The following is obviously a number."
   ]
  },
  {
   "cell_type": "code",
   "execution_count": null,
   "metadata": {},
   "outputs": [],
   "source": [
    "900"
   ]
  },
  {
   "cell_type": "code",
   "execution_count": null,
   "metadata": {},
   "outputs": [],
   "source": [
    "900.0"
   ]
  },
  {
   "cell_type": "markdown",
   "metadata": {},
   "source": [
    "We can easily do some simple math in Python. PEMDAS still stands."
   ]
  },
  {
   "cell_type": "code",
   "execution_count": null,
   "metadata": {},
   "outputs": [],
   "source": [
    "2 + 2 + 2"
   ]
  },
  {
   "cell_type": "code",
   "execution_count": null,
   "metadata": {},
   "outputs": [],
   "source": [
    "2**2"
   ]
  },
  {
   "cell_type": "code",
   "execution_count": null,
   "metadata": {},
   "outputs": [],
   "source": [
    "3 + 2 * 1"
   ]
  },
  {
   "cell_type": "code",
   "execution_count": null,
   "metadata": {},
   "outputs": [],
   "source": [
    "(3 * 4) + 2 * 2"
   ]
  },
  {
   "cell_type": "markdown",
   "metadata": {},
   "source": [
    "Okay, and we have one more thing we can look at."
   ]
  },
  {
   "cell_type": "code",
   "execution_count": null,
   "metadata": {},
   "outputs": [],
   "source": [
    "False"
   ]
  },
  {
   "cell_type": "code",
   "execution_count": null,
   "metadata": {},
   "outputs": [],
   "source": [
    "True"
   ]
  },
  {
   "cell_type": "markdown",
   "metadata": {},
   "source": [
    "But notice this. We are going to use a function `type()` to see what we're looking at here."
   ]
  },
  {
   "cell_type": "code",
   "execution_count": null,
   "metadata": {},
   "outputs": [],
   "source": [
    "type('seven lions')"
   ]
  },
  {
   "cell_type": "code",
   "execution_count": null,
   "metadata": {},
   "outputs": [],
   "source": [
    "type(900)"
   ]
  },
  {
   "cell_type": "code",
   "execution_count": null,
   "metadata": {},
   "outputs": [],
   "source": [
    "type(900.0)"
   ]
  },
  {
   "cell_type": "code",
   "execution_count": null,
   "metadata": {},
   "outputs": [],
   "source": [
    "type('False'), type(False)"
   ]
  },
  {
   "cell_type": "markdown",
   "metadata": {},
   "source": [
    "We can *save* values by giving them a name and using `=`, the assignment operator."
   ]
  },
  {
   "cell_type": "code",
   "execution_count": null,
   "metadata": {},
   "outputs": [],
   "source": [
    "cool_name = 2"
   ]
  },
  {
   "cell_type": "markdown",
   "metadata": {},
   "source": [
    "We can print the value out by typing the name `cool_name` or by using the `print()` function."
   ]
  },
  {
   "cell_type": "code",
   "execution_count": null,
   "metadata": {},
   "outputs": [],
   "source": [
    "cool_name"
   ]
  },
  {
   "cell_type": "code",
   "execution_count": null,
   "metadata": {},
   "outputs": [],
   "source": [
    "print(cool_name)"
   ]
  },
  {
   "cell_type": "markdown",
   "metadata": {},
   "source": [
    "<font color='red'>**Directions**: In the below chunk, make a numeric variable. Then, add it to another numeric variable. Save the sum to another variable. Print out the sum.</font>"
   ]
  },
  {
   "cell_type": "code",
   "execution_count": null,
   "metadata": {},
   "outputs": [],
   "source": [
    "# TRY IT OUT\n",
    "# Your code here."
   ]
  },
  {
   "cell_type": "markdown",
   "metadata": {},
   "source": [
    "<font color='red'>**Directions**: In the below chunk, make a numeric variable. Then, add it to a string variable. Does this work?</font>"
   ]
  },
  {
   "cell_type": "code",
   "execution_count": null,
   "metadata": {},
   "outputs": [],
   "source": [
    "# TRY IT OUT\n",
    "# Your code here."
   ]
  },
  {
   "cell_type": "markdown",
   "metadata": {},
   "source": [
    "## Containers."
   ]
  },
  {
   "cell_type": "markdown",
   "metadata": {},
   "source": [
    "In Python, just like in math, we have containers. What that really means is that we can \"put variables into bags\". Here's a list."
   ]
  },
  {
   "cell_type": "code",
   "execution_count": null,
   "metadata": {},
   "outputs": [],
   "source": [
    "['this', 'is', 'a', 'list']"
   ]
  },
  {
   "cell_type": "code",
   "execution_count": null,
   "metadata": {},
   "outputs": [],
   "source": [
    "['we', 'can put', 6, 'items in', 'a', 'list', 'and more']"
   ]
  },
  {
   "cell_type": "code",
   "execution_count": null,
   "metadata": {},
   "outputs": [],
   "source": [
    "[2, 4, 6, 8]"
   ]
  },
  {
   "cell_type": "code",
   "execution_count": null,
   "metadata": {},
   "outputs": [],
   "source": [
    "[True, False, 1, 2, 'hello', 'goodbye']"
   ]
  },
  {
   "cell_type": "markdown",
   "metadata": {},
   "source": [
    "We can select a piece of a list by \"indexing\"! We do this by using `[]` and putting a number in between the square brackets right after a variable name!\n",
    "\n",
    "<font color='red'>**Directions**: Try taking the first index of `our_list`.</font>"
   ]
  },
  {
   "cell_type": "code",
   "execution_count": null,
   "metadata": {},
   "outputs": [],
   "source": [
    "# TRY IT OUT\n",
    "# Your code here."
   ]
  },
  {
   "cell_type": "markdown",
   "metadata": {},
   "source": [
    "We can also select more than one piece of a list by using `[:]`! Check it out."
   ]
  },
  {
   "cell_type": "code",
   "execution_count": null,
   "metadata": {},
   "outputs": [],
   "source": [
    "this_list = ['s', 'e', 'o', 'w', 'o', 'o']\n",
    "this_list[3:]"
   ]
  },
  {
   "cell_type": "code",
   "execution_count": null,
   "metadata": {},
   "outputs": [],
   "source": [
    "this_list[1:4]"
   ]
  },
  {
   "cell_type": "markdown",
   "metadata": {},
   "source": [
    "Now, let's try it out ourselves.\n",
    "\n",
    "<font color='red'>**Directions**: Make a list that contain the strings a, b, c, and d, and numbers  1, 2, 3, and 4. Then use indexing *and addition* to print out the string 'abc123'.</font>"
   ]
  },
  {
   "cell_type": "code",
   "execution_count": null,
   "metadata": {},
   "outputs": [],
   "source": [
    "# TRY IT OUT\n",
    "# Your code here."
   ]
  },
  {
   "cell_type": "markdown",
   "metadata": {},
   "source": [
    "We can also create a list of lists."
   ]
  },
  {
   "cell_type": "code",
   "execution_count": null,
   "metadata": {},
   "outputs": [],
   "source": [
    "[['date', 'weight'], ['2020-01-01', 300], ['2020-01-20', 256], ['2020-02-28', 212]]"
   ]
  },
  {
   "cell_type": "markdown",
   "metadata": {},
   "source": [
    "Something special about the programming world is that so many people have programmed before us! That means we can put forth their best work to produce our own. Haha. There is a library called `numpy` in Python. It's used to do a lot of math things. Think of it as an app we're opening up on our phone to do something special. In the next chunk, the code is \"opening the app\" for our use."
   ]
  },
  {
   "cell_type": "code",
   "execution_count": null,
   "metadata": {},
   "outputs": [],
   "source": [
    "import numpy as np"
   ]
  },
  {
   "cell_type": "markdown",
   "metadata": {},
   "source": [
    "We can do a LOT in `numpy`, but for now, we are going to just think about numpy arrays. These are just like basic Python lists, but they have special properties we will explore later in the course."
   ]
  },
  {
   "cell_type": "code",
   "execution_count": null,
   "metadata": {},
   "outputs": [],
   "source": [
    "np.array([1,2,3])"
   ]
  },
  {
   "cell_type": "code",
   "execution_count": null,
   "metadata": {},
   "outputs": [],
   "source": [
    "our_list = ['Is', 'it', 'stupid', 'that', 'I', 'love', 'you?']\n",
    "np.array(our_list)"
   ]
  },
  {
   "cell_type": "markdown",
   "metadata": {},
   "source": [
    "Sometimes, we want to save our arrays. Sometimes we don't.\n",
    "\n",
    "<font color='red'>**Think**: In what cases will we want to save the array? In what cases might we not?</font>"
   ]
  },
  {
   "cell_type": "code",
   "execution_count": null,
   "metadata": {},
   "outputs": [],
   "source": [
    "our_array = np.array(our_list)\n",
    "our_array"
   ]
  },
  {
   "cell_type": "markdown",
   "metadata": {},
   "source": [
    "<font color='red'>**Directions**: Try creating an indexing a numpy array.</font>"
   ]
  },
  {
   "cell_type": "code",
   "execution_count": null,
   "metadata": {},
   "outputs": [],
   "source": [
    "# TRY IT OUT\n",
    "# Your code here."
   ]
  },
  {
   "cell_type": "markdown",
   "metadata": {},
   "source": [
    "A final, more advanced type of container (for now) is a dataframe from the `pandas` library. You can think of a dataframe as a way to look at spreadsheets in Python. Let's \"open up the app\"!\n",
    "\n",
    "<font color='red'>**Directions**: Import the `pandas` library as `pd` in the following chunk.</font>"
   ]
  },
  {
   "cell_type": "code",
   "execution_count": null,
   "metadata": {},
   "outputs": [],
   "source": [
    "# TRY IT OUT\n",
    "# Your code here."
   ]
  },
  {
   "cell_type": "code",
   "execution_count": null,
   "metadata": {},
   "outputs": [],
   "source": [
    "import pandas as pd"
   ]
  },
  {
   "cell_type": "markdown",
   "metadata": {},
   "source": [
    "Let's just take a quick look at what a dataframe looks like.\n",
    "\n",
    "<font color='red'>**Directions**: Let's create a dataframe. Use the function `pd.DataFrame()` to convert a list of lists into a dataframe! In order to know how to use the function, use `shift+tab` after opening up the parenthesis.</font>"
   ]
  },
  {
   "cell_type": "code",
   "execution_count": null,
   "metadata": {},
   "outputs": [],
   "source": [
    "# TRY IT OUT\n",
    "\n",
    "# 1. Create a list of lists of letters and numbers.\n",
    "#    Earlier we made this.\n",
    "#    [['date', 'weight'], ['2020-01-01', 300], ['2020-01-20', 256], ['2020-02-28', 212]]\n",
    "\n",
    "\n",
    "# 2. Use pd.DataFrame() to create a dataframe. Add column names.\n",
    "#    This will look like a spreadsheet!\n",
    "#    Save the dataframe to a name.\n",
    "\n",
    "\n",
    "\n",
    "# 3. Print out the dataframe you created."
   ]
  },
  {
   "cell_type": "markdown",
   "metadata": {},
   "source": [
    "Indexing a dataframe kind of sucks. For now, let's just stick with selecting columns. Try selecting a column of your dataframe using `dataframe_name_here['column_name_here]`.\n",
    "\n",
    "<font color='red'>**Directions**: Select a column of the dataframe you created.</font>"
   ]
  },
  {
   "cell_type": "code",
   "execution_count": null,
   "metadata": {},
   "outputs": [],
   "source": [
    "# TRY IT OUT\n",
    "# Your code here."
   ]
  },
  {
   "cell_type": "markdown",
   "metadata": {},
   "source": [
    "## If/else."
   ]
  },
  {
   "cell_type": "markdown",
   "metadata": {},
   "source": [
    "Before we get into how we use if/else, we need to clarify some things about logical statements."
   ]
  },
  {
   "cell_type": "code",
   "execution_count": null,
   "metadata": {},
   "outputs": [],
   "source": [
    "x = 2\n",
    "y = x\n",
    "print(x, y)"
   ]
  },
  {
   "cell_type": "code",
   "execution_count": null,
   "metadata": {},
   "outputs": [],
   "source": [
    "x == y"
   ]
  },
  {
   "cell_type": "code",
   "execution_count": null,
   "metadata": {},
   "outputs": [],
   "source": [
    "x = 2\n",
    "y = 2\n",
    "x == y"
   ]
  },
  {
   "cell_type": "code",
   "execution_count": null,
   "metadata": {},
   "outputs": [],
   "source": [
    "'True' == True"
   ]
  },
  {
   "cell_type": "code",
   "execution_count": null,
   "metadata": {},
   "outputs": [],
   "source": [
    "1 != 1.0"
   ]
  },
  {
   "cell_type": "code",
   "execution_count": null,
   "metadata": {},
   "outputs": [],
   "source": [
    "1 != 2"
   ]
  },
  {
   "cell_type": "markdown",
   "metadata": {},
   "source": [
    "Now, take a look at the structure of this. I am printing out a message to the user to let the user know what we are doing with the if else statement."
   ]
  },
  {
   "cell_type": "code",
   "execution_count": null,
   "metadata": {},
   "outputs": [],
   "source": [
    "# PRINT STATEMENT\n",
    "print('Is ', x, ' greater than ', y, '?')\n",
    "\n",
    "# IF ELSE STATEMENT\n",
    "if x<y:\n",
    "    print('Yes')\n",
    "else:\n",
    "    print('No')"
   ]
  },
  {
   "cell_type": "markdown",
   "metadata": {},
   "source": [
    "We can make nested if else statements. That is, we can check for more than one condition! This is called logic control in a program.\n",
    "\n",
    "<font color='red'>**Directions**: *Challenge.* Write a nested if else statement. Start with creating a variable called `a`. Assign it to be equal to 7.0. Create a variable `b` that is equal to `a` times 3. Use the if else statement to check if `a` is equal to `b`. Write an inner if else statement to check if `a` is greater than `b`. There are many ways to do this.</font>"
   ]
  },
  {
   "cell_type": "code",
   "execution_count": null,
   "metadata": {},
   "outputs": [],
   "source": [
    "# TRY IT OUT\n",
    "# Your code here."
   ]
  }
 ],
 "metadata": {
  "kernelspec": {
   "display_name": "Python 3",
   "language": "python",
   "name": "python3"
  },
  "language_info": {
   "codemirror_mode": {
    "name": "ipython",
    "version": 3
   },
   "file_extension": ".py",
   "mimetype": "text/x-python",
   "name": "python",
   "nbconvert_exporter": "python",
   "pygments_lexer": "ipython3",
   "version": "3.7.4"
  }
 },
 "nbformat": 4,
 "nbformat_minor": 2
}
