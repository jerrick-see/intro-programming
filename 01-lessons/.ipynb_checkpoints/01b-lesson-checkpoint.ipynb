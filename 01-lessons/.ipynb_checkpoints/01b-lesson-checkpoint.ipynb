{
 "cells": [
  {
   "cell_type": "markdown",
   "metadata": {},
   "source": [
    "# Lesson 1B.\n",
    "Since we did not finish Lesson 1 last time, I thought to separate the two. This lesson will take off by a short review of the previous one, and will carry forth with the rest of **Part 2: Programming Concepts**.\n",
    "\n",
    "<img src='https://miro.medium.com/max/12032/0*fUJ-vxQtDB0ssLX7' width=800>\n",
    "\n",
    "\n",
    "Here is what we will be covering today in class.\n",
    "- **Part 2: Programming Concepts**\n",
    "    - Data types\n",
    "        - Words: Strings\n",
    "        - Numbers: Integer / Float\n",
    "        - Logical: Boolean\n",
    "        - Assignment\n",
    "    - Containers and indexing\n",
    "        - Lists\n",
    "        - Arrays (Numpy)\n",
    "        - Dataframes (Pandas)\n",
    "    - If-else statements"
   ]
  },
  {
   "cell_type": "markdown",
   "metadata": {},
   "source": [
    "# Review of Lesson 1A.\n",
    "To recap, these are the main points from the first lesson.\n",
    "\n",
    "<img src='01b-review/01b-review.001.jpeg'>\n",
    "\n",
    "<img src='01b-review/01b-review.002.jpeg'>\n",
    "\n",
    "<img src='01b-review/01b-review.003.jpeg'>\n",
    "\n",
    "<img src='01b-review/01b-review.004.jpeg'>\n",
    "\n",
    "<img src='01b-review/01b-review.005.jpeg'>\n",
    "\n",
    "<img src='01b-review/01b-review.006.jpeg'>\n",
    "\n",
    "<img src='01b-review/01b-review.007.jpeg'>\n",
    "\n",
    "<img src='01b-review/01b-review.008.jpeg'>\n",
    "\n",
    "<img src='01b-review/01b-review.009.jpeg'>"
   ]
  },
  {
   "cell_type": "markdown",
   "metadata": {},
   "source": [
    "# Part 2: Programming Concepts (Continued).\n",
    "<font color='red'>**Directions**: Please create 3 variables in the following chunk of the following data types: `str`, `float`, `int`, and `bool`.</font>"
   ]
  },
  {
   "cell_type": "code",
   "execution_count": 2,
   "metadata": {},
   "outputs": [],
   "source": [
    "# TRY IT OUT\n",
    "# Your code here.\n",
    "variable_1 = 'kobe'\n",
    "variable_2 = 1.1\n",
    "variable_3 = 7\n",
    "variable_4 = True"
   ]
  },
  {
   "cell_type": "markdown",
   "metadata": {},
   "source": [
    "## Containers."
   ]
  },
  {
   "cell_type": "markdown",
   "metadata": {},
   "source": [
    "In Python, just like in math, we have containers. What that really means is that we can \"put variables into bags\". Here's a list."
   ]
  },
  {
   "cell_type": "code",
   "execution_count": 4,
   "metadata": {},
   "outputs": [
    {
     "data": {
      "text/plain": [
       "list"
      ]
     },
     "execution_count": 4,
     "metadata": {},
     "output_type": "execute_result"
    }
   ],
   "source": [
    "['this', 'is', 'a', 'list']\n",
    "type(['this', 'is', 'a', 'list'])"
   ]
  },
  {
   "cell_type": "code",
   "execution_count": 5,
   "metadata": {},
   "outputs": [
    {
     "data": {
      "text/plain": [
       "['we', 'can put', 6, 'items in', 'a', 'list', 'and more']"
      ]
     },
     "execution_count": 5,
     "metadata": {},
     "output_type": "execute_result"
    }
   ],
   "source": [
    "['we', 'can put', 6, 'items in', 'a', 'list', 'and more']"
   ]
  },
  {
   "cell_type": "code",
   "execution_count": 6,
   "metadata": {},
   "outputs": [
    {
     "data": {
      "text/plain": [
       "[2, 4, 6, 8]"
      ]
     },
     "execution_count": 6,
     "metadata": {},
     "output_type": "execute_result"
    }
   ],
   "source": [
    "[2, 4, 6, 8]"
   ]
  },
  {
   "cell_type": "code",
   "execution_count": 7,
   "metadata": {},
   "outputs": [
    {
     "data": {
      "text/plain": [
       "[True, False, 1, 2, 'hello', 'goodbye']"
      ]
     },
     "execution_count": 7,
     "metadata": {},
     "output_type": "execute_result"
    }
   ],
   "source": [
    "[True, False, 1, 2, 'hello', 'goodbye']"
   ]
  },
  {
   "cell_type": "markdown",
   "metadata": {},
   "source": [
    "We can select a piece of a list by \"indexing\"! We do this by using `[]` and putting a number in between the square brackets right after a variable name!\n",
    "\n",
    "<font color='red'>**Directions**: Try taking the first index of `our_list`.</font>"
   ]
  },
  {
   "cell_type": "code",
   "execution_count": 8,
   "metadata": {},
   "outputs": [
    {
     "data": {
      "text/plain": [
       "'Illenium'"
      ]
     },
     "execution_count": 8,
     "metadata": {},
     "output_type": "execute_result"
    }
   ],
   "source": [
    "# TRY IT OUT\n",
    "# Your code here.\n",
    "our_list = ['Illenium', 'seven lions', 'gryffin', 'madeon']\n",
    "our_list[0]"
   ]
  },
  {
   "cell_type": "markdown",
   "metadata": {},
   "source": [
    "We can also select more than one piece of a list by using `[:]`! Check it out."
   ]
  },
  {
   "cell_type": "code",
   "execution_count": 9,
   "metadata": {},
   "outputs": [
    {
     "data": {
      "text/plain": [
       "['w', 'o', 'o']"
      ]
     },
     "execution_count": 9,
     "metadata": {},
     "output_type": "execute_result"
    }
   ],
   "source": [
    "this_list = ['s', 'e', 'o', 'w', 'o', 'o']\n",
    "this_list[3:]"
   ]
  },
  {
   "cell_type": "code",
   "execution_count": 10,
   "metadata": {},
   "outputs": [
    {
     "data": {
      "text/plain": [
       "['e', 'o', 'w']"
      ]
     },
     "execution_count": 10,
     "metadata": {},
     "output_type": "execute_result"
    }
   ],
   "source": [
    "# When indexing the final number is not included (i.e) 1:4 2,3,4 (NO 5)\n",
    "this_list[1:4]"
   ]
  },
  {
   "cell_type": "markdown",
   "metadata": {},
   "source": [
    "Now, let's try it out ourselves.\n",
    "\n",
    "<font color='red'>**Directions**: Make a list that contain the strings a, b, c, and d, and numbers  1, 2, 3, and 4. Then use indexing *and addition* to print out the string 'abc123'.</font>"
   ]
  },
  {
   "cell_type": "code",
   "execution_count": 11,
   "metadata": {},
   "outputs": [
    {
     "name": "stdout",
     "output_type": "stream",
     "text": [
      "['a', 'b', 'c', 'd', 1, 2, 3, 4]\n"
     ]
    }
   ],
   "source": [
    "# NEVER NAME A PYTHON FUNCTION BY THE FUNCTION NAME. NAME IT SOMETHING SPECIAL. (I.E) NOT 'LIST' BUT RATHER 'LIST_2' ETC.\n",
    "# TRY IT OUT\n",
    "common_list = ['a', 'b', 'c', 'd', 1, 2, 3, 4]\n",
    "print(common_list)\n"
   ]
  },
  {
   "cell_type": "code",
   "execution_count": 15,
   "metadata": {},
   "outputs": [
    {
     "data": {
      "text/plain": [
       "'abc123'"
      ]
     },
     "execution_count": 15,
     "metadata": {},
     "output_type": "execute_result"
    }
   ],
   "source": [
    "common_list[0] + common_list[1] + common_list[2] + str(common_list[4]) + str(common_list[5]) + str(common_list[6])"
   ]
  },
  {
   "cell_type": "markdown",
   "metadata": {},
   "source": [
    "We can also create a list of lists."
   ]
  },
  {
   "cell_type": "code",
   "execution_count": 16,
   "metadata": {},
   "outputs": [
    {
     "data": {
      "text/plain": [
       "[['date', 'weight'],\n",
       " ['2020-01-01', 300],\n",
       " ['2020-01-20', 256],\n",
       " ['2020-02-28', 212]]"
      ]
     },
     "execution_count": 16,
     "metadata": {},
     "output_type": "execute_result"
    }
   ],
   "source": [
    "[['date', 'weight'], ['2020-01-01', 300], ['2020-01-20', 256], ['2020-02-28', 212]]"
   ]
  },
  {
   "cell_type": "markdown",
   "metadata": {},
   "source": [
    "Something special about the programming world is that so many people have programmed before us! That means we can put forth their best work to produce our own. Haha. There is a library called `numpy` in Python. It's used to do a lot of math things. Think of it as an app we're opening up on our phone to do something special. In the next chunk, the code is \"opening the app\" for our use."
   ]
  },
  {
   "cell_type": "code",
   "execution_count": 17,
   "metadata": {},
   "outputs": [],
   "source": [
    "import numpy as np"
   ]
  },
  {
   "cell_type": "markdown",
   "metadata": {},
   "source": [
    "We can do a LOT in `numpy`, but for now, we are going to just think about numpy arrays. These are just like basic Python lists, but they have special properties we will explore later in the course."
   ]
  },
  {
   "cell_type": "code",
   "execution_count": 18,
   "metadata": {},
   "outputs": [
    {
     "data": {
      "text/plain": [
       "array([1, 2, 3])"
      ]
     },
     "execution_count": 18,
     "metadata": {},
     "output_type": "execute_result"
    }
   ],
   "source": [
    "np.array([1,2,3])"
   ]
  },
  {
   "cell_type": "code",
   "execution_count": 19,
   "metadata": {},
   "outputs": [
    {
     "data": {
      "text/plain": [
       "array(['Is', 'it', 'stupid', 'that', 'I', 'love', 'you?'], dtype='<U6')"
      ]
     },
     "execution_count": 19,
     "metadata": {},
     "output_type": "execute_result"
    }
   ],
   "source": [
    "our_list = ['Is', 'it', 'stupid', 'that', 'I', 'love', 'you?']\n",
    "np.array(our_list)"
   ]
  },
  {
   "cell_type": "markdown",
   "metadata": {},
   "source": [
    "Sometimes, we want to save our arrays. Sometimes we don't.\n",
    "\n",
    "<font color='red'>**Think**: In what cases will we want to save the array? In what cases might we not?</font>"
   ]
  },
  {
   "cell_type": "code",
   "execution_count": 24,
   "metadata": {},
   "outputs": [
    {
     "data": {
      "text/plain": [
       "array(['Is', 'it', 'stupid', 'that', 'I', 'love', 'you?'], dtype='<U6')"
      ]
     },
     "execution_count": 24,
     "metadata": {},
     "output_type": "execute_result"
    }
   ],
   "source": [
    "our_array = np.array(our_list)\n",
    "our_array"
   ]
  },
  {
   "cell_type": "markdown",
   "metadata": {},
   "source": [
    "<font color='red'>**Directions**: Try creating an indexing a numpy array.</font>"
   ]
  },
  {
   "cell_type": "code",
   "execution_count": 25,
   "metadata": {},
   "outputs": [
    {
     "data": {
      "text/plain": [
       "'love'"
      ]
     },
     "execution_count": 25,
     "metadata": {},
     "output_type": "execute_result"
    }
   ],
   "source": [
    "# TRY IT OUT\n",
    "our_array[5]"
   ]
  },
  {
   "cell_type": "markdown",
   "metadata": {},
   "source": [
    "A final, more advanced type of container (for now) is a dataframe from the `pandas` library. You can think of a dataframe as a way to look at spreadsheets in Python. Let's \"open up the app\"!\n",
    "\n",
    "<font color='red'>**Directions**: Import the `pandas` library as `pd` in the following chunk.</font>"
   ]
  },
  {
   "cell_type": "code",
   "execution_count": null,
   "metadata": {},
   "outputs": [],
   "source": [
    "# TRY IT OUT\n",
    "# Your code here."
   ]
  },
  {
   "cell_type": "code",
   "execution_count": 26,
   "metadata": {},
   "outputs": [],
   "source": [
    "import pandas as pd"
   ]
  },
  {
   "cell_type": "markdown",
   "metadata": {},
   "source": [
    "Let's just take a quick look at what a dataframe looks like.\n",
    "\n",
    "<font color='red'>**Directions**: Let's create a dataframe. Use the function `pd.DataFrame()` to convert a list of lists into a dataframe! In order to know how to use the function, use `shift+tab` after opening up the parenthesis.</font>"
   ]
  },
  {
   "cell_type": "code",
   "execution_count": 35,
   "metadata": {},
   "outputs": [
    {
     "name": "stdout",
     "output_type": "stream",
     "text": [
      "   0  1\n",
      "0  a  1\n",
      "1  b  2\n",
      "2  c  3\n",
      "3  d  4\n"
     ]
    },
    {
     "data": {
      "text/html": [
       "<div>\n",
       "<style scoped>\n",
       "    .dataframe tbody tr th:only-of-type {\n",
       "        vertical-align: middle;\n",
       "    }\n",
       "\n",
       "    .dataframe tbody tr th {\n",
       "        vertical-align: top;\n",
       "    }\n",
       "\n",
       "    .dataframe thead th {\n",
       "        text-align: right;\n",
       "    }\n",
       "</style>\n",
       "<table border=\"1\" class=\"dataframe\">\n",
       "  <thead>\n",
       "    <tr style=\"text-align: right;\">\n",
       "      <th></th>\n",
       "      <th>0</th>\n",
       "      <th>1</th>\n",
       "    </tr>\n",
       "  </thead>\n",
       "  <tbody>\n",
       "    <tr>\n",
       "      <th>0</th>\n",
       "      <td>a</td>\n",
       "      <td>1</td>\n",
       "    </tr>\n",
       "    <tr>\n",
       "      <th>1</th>\n",
       "      <td>b</td>\n",
       "      <td>2</td>\n",
       "    </tr>\n",
       "    <tr>\n",
       "      <th>2</th>\n",
       "      <td>c</td>\n",
       "      <td>3</td>\n",
       "    </tr>\n",
       "    <tr>\n",
       "      <th>3</th>\n",
       "      <td>d</td>\n",
       "      <td>4</td>\n",
       "    </tr>\n",
       "  </tbody>\n",
       "</table>\n",
       "</div>"
      ],
      "text/plain": [
       "   0  1\n",
       "0  a  1\n",
       "1  b  2\n",
       "2  c  3\n",
       "3  d  4"
      ]
     },
     "execution_count": 35,
     "metadata": {},
     "output_type": "execute_result"
    }
   ],
   "source": [
    "# TRY IT OUT\n",
    "\n",
    "# 1. Create a list of lists of letters and numbers.\n",
    "#    Earlier we made this.\n",
    "#    [['date', 'weight'], ['2020-01-01', 300], ['2020-01-20', 256], ['2020-02-28', 212]]\n",
    "my_list_of_lists = [['a', 'b', 'c', 'd'], [1, 2, 3, 4]]\n",
    "\n",
    "\n",
    "# 2. Use pd.DataFrame() to create a dataframe. Add column names.\n",
    "#    This will look like a spreadsheet!\n",
    "#    Save the dataframe to a name.\n",
    "every_body = pd.DataFrame(my_list_of_lists).T\n",
    "\n",
    "\n",
    "# 3. Print out the dataframe you created.\n",
    "\n",
    "print(every_body)\n",
    "every_body"
   ]
  },
  {
   "cell_type": "markdown",
   "metadata": {},
   "source": [
    "Indexing a dataframe kind of sucks. For now, let's just stick with selecting columns. Try selecting a column of your dataframe using `dataframe_name_here['column_name_here]`.\n",
    "\n",
    "<font color='red'>**Directions**: Select a column of the dataframe you created.</font>"
   ]
  },
  {
   "cell_type": "code",
   "execution_count": 36,
   "metadata": {},
   "outputs": [
    {
     "data": {
      "text/plain": [
       "0    1\n",
       "1    2\n",
       "2    3\n",
       "3    4\n",
       "Name: 1, dtype: object"
      ]
     },
     "execution_count": 36,
     "metadata": {},
     "output_type": "execute_result"
    }
   ],
   "source": [
    "# TRY IT OUT\n",
    "every_body[1]"
   ]
  },
  {
   "cell_type": "code",
   "execution_count": 39,
   "metadata": {
    "scrolled": true
   },
   "outputs": [
    {
     "name": "stdout",
     "output_type": "stream",
     "text": [
      "  letters  numbers\n",
      "0       a        1\n",
      "1       b        2\n",
      "2       c        3\n",
      "3       d        4\n"
     ]
    },
    {
     "data": {
      "text/html": [
       "<div>\n",
       "<style scoped>\n",
       "    .dataframe tbody tr th:only-of-type {\n",
       "        vertical-align: middle;\n",
       "    }\n",
       "\n",
       "    .dataframe tbody tr th {\n",
       "        vertical-align: top;\n",
       "    }\n",
       "\n",
       "    .dataframe thead th {\n",
       "        text-align: right;\n",
       "    }\n",
       "</style>\n",
       "<table border=\"1\" class=\"dataframe\">\n",
       "  <thead>\n",
       "    <tr style=\"text-align: right;\">\n",
       "      <th></th>\n",
       "      <th>letters</th>\n",
       "      <th>numbers</th>\n",
       "    </tr>\n",
       "  </thead>\n",
       "  <tbody>\n",
       "    <tr>\n",
       "      <th>0</th>\n",
       "      <td>a</td>\n",
       "      <td>1</td>\n",
       "    </tr>\n",
       "    <tr>\n",
       "      <th>1</th>\n",
       "      <td>b</td>\n",
       "      <td>2</td>\n",
       "    </tr>\n",
       "    <tr>\n",
       "      <th>2</th>\n",
       "      <td>c</td>\n",
       "      <td>3</td>\n",
       "    </tr>\n",
       "    <tr>\n",
       "      <th>3</th>\n",
       "      <td>d</td>\n",
       "      <td>4</td>\n",
       "    </tr>\n",
       "  </tbody>\n",
       "</table>\n",
       "</div>"
      ],
      "text/plain": [
       "  letters  numbers\n",
       "0       a        1\n",
       "1       b        2\n",
       "2       c        3\n",
       "3       d        4"
      ]
     },
     "execution_count": 39,
     "metadata": {},
     "output_type": "execute_result"
    }
   ],
   "source": [
    "# TRY IT OUT\n",
    "\n",
    "# 1. Create a list of lists of letters and numbers.\n",
    "#    Earlier we made this.\n",
    "#    [['date', 'weight'], ['2020-01-01', 300], ['2020-01-20', 256], ['2020-02-28', 212]]\n",
    "my_list_of_lists = [['a',1], ['b',2], ['c',3], ['d',4]]\n",
    "\n",
    "\n",
    "# 2. Use pd.DataFrame() to create a dataframe. Add column names.\n",
    "#    This will look like a spreadsheet!\n",
    "#    Save the dataframe to a name.\n",
    "every_body = pd.DataFrame(my_list_of_lists, columns=['letters', 'numbers'])\n",
    "\n",
    "\n",
    "# 3. Print out the dataframe you created.\n",
    "\n",
    "print(every_body)\n",
    "every_body"
   ]
  },
  {
   "cell_type": "code",
   "execution_count": 40,
   "metadata": {},
   "outputs": [
    {
     "data": {
      "text/plain": [
       "0    a\n",
       "1    b\n",
       "2    c\n",
       "3    d\n",
       "Name: letters, dtype: object"
      ]
     },
     "execution_count": 40,
     "metadata": {},
     "output_type": "execute_result"
    }
   ],
   "source": [
    "every_body['letters']"
   ]
  },
  {
   "cell_type": "markdown",
   "metadata": {},
   "source": [
    "## If/else."
   ]
  },
  {
   "cell_type": "markdown",
   "metadata": {},
   "source": [
    "Before we get into how we use if/else, we need to clarify some things about logical statements."
   ]
  },
  {
   "cell_type": "code",
   "execution_count": 41,
   "metadata": {},
   "outputs": [
    {
     "name": "stdout",
     "output_type": "stream",
     "text": [
      "2 2\n"
     ]
    }
   ],
   "source": [
    "x = 2\n",
    "y = x\n",
    "print(x, y)"
   ]
  },
  {
   "cell_type": "code",
   "execution_count": 42,
   "metadata": {},
   "outputs": [
    {
     "data": {
      "text/plain": [
       "True"
      ]
     },
     "execution_count": 42,
     "metadata": {},
     "output_type": "execute_result"
    }
   ],
   "source": [
    "x == y"
   ]
  },
  {
   "cell_type": "code",
   "execution_count": 43,
   "metadata": {},
   "outputs": [
    {
     "data": {
      "text/plain": [
       "True"
      ]
     },
     "execution_count": 43,
     "metadata": {},
     "output_type": "execute_result"
    }
   ],
   "source": [
    "x = 2\n",
    "y = 2\n",
    "x == y"
   ]
  },
  {
   "cell_type": "code",
   "execution_count": 44,
   "metadata": {},
   "outputs": [
    {
     "data": {
      "text/plain": [
       "False"
      ]
     },
     "execution_count": 44,
     "metadata": {},
     "output_type": "execute_result"
    }
   ],
   "source": [
    "'True' == True"
   ]
  },
  {
   "cell_type": "code",
   "execution_count": 45,
   "metadata": {},
   "outputs": [
    {
     "data": {
      "text/plain": [
       "False"
      ]
     },
     "execution_count": 45,
     "metadata": {},
     "output_type": "execute_result"
    }
   ],
   "source": [
    "1 != 1.0"
   ]
  },
  {
   "cell_type": "code",
   "execution_count": 46,
   "metadata": {},
   "outputs": [
    {
     "data": {
      "text/plain": [
       "True"
      ]
     },
     "execution_count": 46,
     "metadata": {},
     "output_type": "execute_result"
    }
   ],
   "source": [
    "1 != 2"
   ]
  },
  {
   "cell_type": "markdown",
   "metadata": {},
   "source": [
    "Now, take a look at the structure of this. I am printing out a message to the user to let the user know what we are doing with the if else statement."
   ]
  },
  {
   "cell_type": "code",
   "execution_count": 48,
   "metadata": {},
   "outputs": [
    {
     "name": "stdout",
     "output_type": "stream",
     "text": [
      "Is  2  greater than  2 ?\n"
     ]
    }
   ],
   "source": [
    "# PRINT STATEMENT\n",
    "print('Is ', x, ' greater than ', y, '?')"
   ]
  },
  {
   "cell_type": "code",
   "execution_count": 49,
   "metadata": {},
   "outputs": [
    {
     "name": "stdout",
     "output_type": "stream",
     "text": [
      "No\n"
     ]
    }
   ],
   "source": [
    "# IF ELSE STATEMENT\n",
    "if x>y:\n",
    "    print('Yes')\n",
    "else:\n",
    "    print('No')"
   ]
  },
  {
   "cell_type": "code",
   "execution_count": 51,
   "metadata": {},
   "outputs": [
    {
     "name": "stdout",
     "output_type": "stream",
     "text": [
      "Is  7  greater than  122 ?\n",
      "No\n"
     ]
    }
   ],
   "source": [
    "x = 7\n",
    "y = 122\n",
    "\n",
    "# PRINT STATEMENT\n",
    "print('Is ', x, ' greater than ', y, '?')\n",
    "\n",
    "# IF ELSE STATEMENT\n",
    "if x>y:\n",
    "    print('Yes')\n",
    "else:\n",
    "    print('No')\n",
    "    "
   ]
  },
  {
   "cell_type": "markdown",
   "metadata": {},
   "source": [
    "We can make nested if else statements. That is, we can check for more than one condition! This is called logic control in a program.\n",
    "\n",
    "<font color='red'>**Directions**: *Challenge.* Write a nested if else statement. Start with creating a variable called `a`. Assign it to be equal to 7.0. Create a variable `b` that is equal to `a` times 3. Use the if else statement to check if `a` is equal to `b`. Write an inner if else statement to check if `a` is greater than `b`. There are many ways to do this.</font>"
   ]
  },
  {
   "cell_type": "code",
   "execution_count": 65,
   "metadata": {},
   "outputs": [
    {
     "name": "stdout",
     "output_type": "stream",
     "text": [
      "21.0 is a lot greater than 7.0 !\n"
     ]
    }
   ],
   "source": [
    "# TRY IT OUT\n",
    "a = 7.0\n",
    "b = a * 3\n",
    "\n",
    "if a==b:\n",
    "    print('Yahhhh boiii')\n",
    "else:\n",
    "    if a>b:\n",
    "        print(a, 'bruh, is greater than', b, '!')\n",
    "    else:\n",
    "        print(b, 'is a lot greater than', a, '!')"
   ]
  },
  {
   "cell_type": "code",
   "execution_count": null,
   "metadata": {},
   "outputs": [],
   "source": []
  }
 ],
 "metadata": {
  "kernelspec": {
   "display_name": "Python 3",
   "language": "python",
   "name": "python3"
  },
  "language_info": {
   "codemirror_mode": {
    "name": "ipython",
    "version": 3
   },
   "file_extension": ".py",
   "mimetype": "text/x-python",
   "name": "python",
   "nbconvert_exporter": "python",
   "pygments_lexer": "ipython3",
   "version": "3.7.6"
  }
 },
 "nbformat": 4,
 "nbformat_minor": 2
}
