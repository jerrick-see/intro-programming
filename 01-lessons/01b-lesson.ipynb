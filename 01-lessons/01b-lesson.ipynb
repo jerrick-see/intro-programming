{
 "cells": [
  {
   "cell_type": "markdown",
   "metadata": {},
   "source": [
    "# Lesson 1B.\n",
    "Since we did not finish Lesson 1 last time, I thought to separate the two. This lesson will take off by a short review of the previous one, and will carry forth with the rest of **Part 2: Programming Concepts**.\n",
    "\n",
    "<img src='https://miro.medium.com/max/12032/0*fUJ-vxQtDB0ssLX7' width=800>\n",
    "\n",
    "\n",
    "Here is what we will be covering today in class.\n",
    "- **Part 2: Programming Concepts**\n",
    "    - Data types\n",
    "        - Words: Strings\n",
    "        - Numbers: Integer / Float\n",
    "        - Logical: Boolean\n",
    "        - Assignment\n",
    "    - Containers and indexing\n",
    "        - Lists\n",
    "        - Arrays (Numpy)\n",
    "        - Dataframes (Pandas)\n",
    "    - If-else statements"
   ]
  },
  {
   "attachments": {},
   "cell_type": "markdown",
   "metadata": {},
   "source": [
    "# Review of Lesson 1A.\n",
    "To recap, these are the main points from the first lesson.\n",
    "\n",
    "<img src='01b-review/01b-review.001.jpeg'>\n",
    "\n",
    "<img src='01b-review/01b-review.002.jpeg'>\n",
    "\n",
    "<img src='01b-review/01b-review.003.jpeg'>\n",
    "\n",
    "<img src='01b-review/01b-review.004.jpeg'>\n",
    "\n",
    "<img src='01b-review/01b-review.005.jpeg'>\n",
    "\n",
    "<img src='01b-review/01b-review.006.jpeg'>\n",
    "\n",
    "<img src='01b-review/01b-review.007.jpeg'>\n",
    "\n",
    "<img src='01b-review/01b-review.008.jpeg'>\n",
    "\n",
    "<img src='01b-review/01b-review.009.jpeg'>"
   ]
  },
  {
   "cell_type": "markdown",
   "metadata": {},
   "source": [
    "# Part 2: Programming Concepts (Continued).\n",
    "<font color='red'>**Directions**: Please create 3 variables in the following chunk of the following data types: `str`, `float`, `int`, and `bool`.</font>"
   ]
  },
  {
   "cell_type": "code",
   "execution_count": null,
   "metadata": {},
   "outputs": [],
   "source": [
    "# TRY IT OUT\n",
    "# Your code here."
   ]
  },
  {
   "cell_type": "markdown",
   "metadata": {},
   "source": [
    "## Containers."
   ]
  },
  {
   "cell_type": "markdown",
   "metadata": {},
   "source": [
    "In Python, just like in math, we have containers. What that really means is that we can \"put variables into bags\". Here's a list."
   ]
  },
  {
   "cell_type": "code",
   "execution_count": null,
   "metadata": {},
   "outputs": [],
   "source": [
    "['this', 'is', 'a', 'list']"
   ]
  },
  {
   "cell_type": "code",
   "execution_count": null,
   "metadata": {},
   "outputs": [],
   "source": [
    "['we', 'can put', 6, 'items in', 'a', 'list', 'and more']"
   ]
  },
  {
   "cell_type": "code",
   "execution_count": null,
   "metadata": {},
   "outputs": [],
   "source": [
    "[2, 4, 6, 8]"
   ]
  },
  {
   "cell_type": "code",
   "execution_count": null,
   "metadata": {},
   "outputs": [],
   "source": [
    "[True, False, 1, 2, 'hello', 'goodbye']"
   ]
  },
  {
   "cell_type": "markdown",
   "metadata": {},
   "source": [
    "We can select a piece of a list by \"indexing\"! We do this by using `[]` and putting a number in between the square brackets right after a variable name!\n",
    "\n",
    "<font color='red'>**Directions**: Try taking the first index of `our_list`.</font>"
   ]
  },
  {
   "cell_type": "code",
   "execution_count": null,
   "metadata": {},
   "outputs": [],
   "source": [
    "# TRY IT OUT\n",
    "# Your code here."
   ]
  },
  {
   "cell_type": "markdown",
   "metadata": {},
   "source": [
    "We can also select more than one piece of a list by using `[:]`! Check it out."
   ]
  },
  {
   "cell_type": "code",
   "execution_count": null,
   "metadata": {},
   "outputs": [],
   "source": [
    "this_list = ['s', 'e', 'o', 'w', 'o', 'o']\n",
    "this_list[3:]"
   ]
  },
  {
   "cell_type": "code",
   "execution_count": null,
   "metadata": {},
   "outputs": [],
   "source": [
    "this_list[1:4]"
   ]
  },
  {
   "cell_type": "markdown",
   "metadata": {},
   "source": [
    "Now, let's try it out ourselves.\n",
    "\n",
    "<font color='red'>**Directions**: Make a list that contain the strings a, b, c, and d, and numbers  1, 2, 3, and 4. Then use indexing *and addition* to print out the string 'abc123'.</font>"
   ]
  },
  {
   "cell_type": "code",
   "execution_count": null,
   "metadata": {},
   "outputs": [],
   "source": [
    "# TRY IT OUT\n",
    "# Your code here."
   ]
  },
  {
   "cell_type": "markdown",
   "metadata": {},
   "source": [
    "We can also create a list of lists."
   ]
  },
  {
   "cell_type": "code",
   "execution_count": null,
   "metadata": {},
   "outputs": [],
   "source": [
    "[['date', 'weight'], ['2020-01-01', 300], ['2020-01-20', 256], ['2020-02-28', 212]]"
   ]
  },
  {
   "cell_type": "markdown",
   "metadata": {},
   "source": [
    "Something special about the programming world is that so many people have programmed before us! That means we can put forth their best work to produce our own. Haha. There is a library called `numpy` in Python. It's used to do a lot of math things. Think of it as an app we're opening up on our phone to do something special. In the next chunk, the code is \"opening the app\" for our use."
   ]
  },
  {
   "cell_type": "code",
   "execution_count": null,
   "metadata": {},
   "outputs": [],
   "source": [
    "import numpy as np"
   ]
  },
  {
   "cell_type": "markdown",
   "metadata": {},
   "source": [
    "We can do a LOT in `numpy`, but for now, we are going to just think about numpy arrays. These are just like basic Python lists, but they have special properties we will explore later in the course."
   ]
  },
  {
   "cell_type": "code",
   "execution_count": null,
   "metadata": {},
   "outputs": [],
   "source": [
    "np.array([1,2,3])"
   ]
  },
  {
   "cell_type": "code",
   "execution_count": null,
   "metadata": {},
   "outputs": [],
   "source": [
    "our_list = ['Is', 'it', 'stupid', 'that', 'I', 'love', 'you?']\n",
    "np.array(our_list)"
   ]
  },
  {
   "cell_type": "markdown",
   "metadata": {},
   "source": [
    "Sometimes, we want to save our arrays. Sometimes we don't.\n",
    "\n",
    "<font color='red'>**Think**: In what cases will we want to save the array? In what cases might we not?</font>"
   ]
  },
  {
   "cell_type": "code",
   "execution_count": null,
   "metadata": {},
   "outputs": [],
   "source": [
    "our_array = np.array(our_list)\n",
    "our_array"
   ]
  },
  {
   "cell_type": "markdown",
   "metadata": {},
   "source": [
    "<font color='red'>**Directions**: Try creating an indexing a numpy array.</font>"
   ]
  },
  {
   "cell_type": "code",
   "execution_count": null,
   "metadata": {},
   "outputs": [],
   "source": [
    "# TRY IT OUT\n",
    "# Your code here."
   ]
  },
  {
   "cell_type": "markdown",
   "metadata": {},
   "source": [
    "A final, more advanced type of container (for now) is a dataframe from the `pandas` library. You can think of a dataframe as a way to look at spreadsheets in Python. Let's \"open up the app\"!\n",
    "\n",
    "<font color='red'>**Directions**: Import the `pandas` library as `pd` in the following chunk.</font>"
   ]
  },
  {
   "cell_type": "code",
   "execution_count": null,
   "metadata": {},
   "outputs": [],
   "source": [
    "# TRY IT OUT\n",
    "# Your code here."
   ]
  },
  {
   "cell_type": "code",
   "execution_count": null,
   "metadata": {},
   "outputs": [],
   "source": [
    "import pandas as pd"
   ]
  },
  {
   "cell_type": "markdown",
   "metadata": {},
   "source": [
    "Let's just take a quick look at what a dataframe looks like.\n",
    "\n",
    "<font color='red'>**Directions**: Let's create a dataframe. Use the function `pd.DataFrame()` to convert a list of lists into a dataframe! In order to know how to use the function, use `shift+tab` after opening up the parenthesis.</font>"
   ]
  },
  {
   "cell_type": "code",
   "execution_count": null,
   "metadata": {},
   "outputs": [],
   "source": [
    "# TRY IT OUT\n",
    "\n",
    "# 1. Create a list of lists of letters and numbers.\n",
    "#    Earlier we made this.\n",
    "#    [['date', 'weight'], ['2020-01-01', 300], ['2020-01-20', 256], ['2020-02-28', 212]]\n",
    "\n",
    "\n",
    "# 2. Use pd.DataFrame() to create a dataframe. Add column names.\n",
    "#    This will look like a spreadsheet!\n",
    "#    Save the dataframe to a name.\n",
    "\n",
    "\n",
    "\n",
    "# 3. Print out the dataframe you created."
   ]
  },
  {
   "cell_type": "markdown",
   "metadata": {},
   "source": [
    "Indexing a dataframe kind of sucks. For now, let's just stick with selecting columns. Try selecting a column of your dataframe using `dataframe_name_here['column_name_here]`.\n",
    "\n",
    "<font color='red'>**Directions**: Select a column of the dataframe you created.</font>"
   ]
  },
  {
   "cell_type": "code",
   "execution_count": null,
   "metadata": {},
   "outputs": [],
   "source": [
    "# TRY IT OUT\n",
    "# Your code here."
   ]
  },
  {
   "cell_type": "markdown",
   "metadata": {},
   "source": [
    "## If/else."
   ]
  },
  {
   "cell_type": "markdown",
   "metadata": {},
   "source": [
    "Before we get into how we use if/else, we need to clarify some things about logical statements."
   ]
  },
  {
   "cell_type": "code",
   "execution_count": null,
   "metadata": {},
   "outputs": [],
   "source": [
    "x = 2\n",
    "y = x\n",
    "print(x, y)"
   ]
  },
  {
   "cell_type": "code",
   "execution_count": null,
   "metadata": {},
   "outputs": [],
   "source": [
    "x == y"
   ]
  },
  {
   "cell_type": "code",
   "execution_count": null,
   "metadata": {},
   "outputs": [],
   "source": [
    "x = 2\n",
    "y = 2\n",
    "x == y"
   ]
  },
  {
   "cell_type": "code",
   "execution_count": null,
   "metadata": {},
   "outputs": [],
   "source": [
    "'True' == True"
   ]
  },
  {
   "cell_type": "code",
   "execution_count": null,
   "metadata": {},
   "outputs": [],
   "source": [
    "1 != 1.0"
   ]
  },
  {
   "cell_type": "code",
   "execution_count": null,
   "metadata": {},
   "outputs": [],
   "source": [
    "1 != 2"
   ]
  },
  {
   "cell_type": "markdown",
   "metadata": {},
   "source": [
    "Now, take a look at the structure of this. I am printing out a message to the user to let the user know what we are doing with the if else statement."
   ]
  },
  {
   "cell_type": "code",
   "execution_count": null,
   "metadata": {},
   "outputs": [],
   "source": [
    "# PRINT STATEMENT\n",
    "print('Is ', x, ' greater than ', y, '?')\n",
    "\n",
    "# IF ELSE STATEMENT\n",
    "if x<y:\n",
    "    print('Yes')\n",
    "else:\n",
    "    print('No')"
   ]
  },
  {
   "cell_type": "markdown",
   "metadata": {},
   "source": [
    "We can make nested if else statements. That is, we can check for more than one condition! This is called logic control in a program.\n",
    "\n",
    "<font color='red'>**Directions**: *Challenge.* Write a nested if else statement. Start with creating a variable called `a`. Assign it to be equal to 7.0. Create a variable `b` that is equal to `a` times 3. Use the if else statement to check if `a` is equal to `b`. Write an inner if else statement to check if `a` is greater than `b`. There are many ways to do this.</font>"
   ]
  },
  {
   "cell_type": "code",
   "execution_count": null,
   "metadata": {},
   "outputs": [],
   "source": [
    "# TRY IT OUT\n",
    "# Your code here."
   ]
  }
 ],
 "metadata": {
  "kernelspec": {
   "display_name": "Python 3",
   "language": "python",
   "name": "python3"
  },
  "language_info": {
   "codemirror_mode": {
    "name": "ipython",
    "version": 3
   },
   "file_extension": ".py",
   "mimetype": "text/x-python",
   "name": "python",
   "nbconvert_exporter": "python",
   "pygments_lexer": "ipython3",
   "version": "3.7.4"
  }
 },
 "nbformat": 4,
 "nbformat_minor": 2
}
